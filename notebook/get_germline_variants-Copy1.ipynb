{
 "cells": [
  {
   "cell_type": "code",
   "execution_count": 1,
   "metadata": {
    "ExecuteTime": {
     "end_time": "2017-11-17T19:57:35.969169Z",
     "start_time": "2017-11-17T19:57:35.503936Z"
    }
   },
   "outputs": [],
   "source": [
    "import os\n",
    "import multiprocessing as mp\n",
    "import sys\n",
    "\n",
    "sys.path.insert(0, '..')\n",
    "from sequencing_process.make_reference_genome_for_sequencing_process import make_reference_genome_for_sequencing_process\n",
    "from sequencing_process.plot_fastq_gz_or_bam import plot_fastq_gz_or_bam\n",
    "from sequencing_process.process_fastq_gz import align_fastq_gzs_using_bwa\n",
    "from sequencing_process.process_bam import call_variants_on_bam_using_freebayes_and_multiprocess\n",
    "from sequencing_process.process_vcf_gz import annotate_vcf_gz_using_snpeff, annotate_vcf_gz_using_bcftools, filter_vcf_gz_using_bcftools\n",
    "\n",
    "%load_ext autoreload\n",
    "%autoreload 2\n",
    "%matplotlib inline"
   ]
  },
  {
   "cell_type": "code",
   "execution_count": 3,
   "metadata": {
    "ExecuteTime": {
     "end_time": "2017-11-17T19:57:41.192323Z",
     "start_time": "2017-11-17T19:57:41.152115Z"
    }
   },
   "outputs": [],
   "source": [
    "GRCH_DIRECTORY_PATH = '/Volumes/Jumis/data/grch'\n",
    "assert os.path.isdir(GRCH_DIRECTORY_PATH)\n",
    "\n",
    "# make_reference_genome_for_sequencing_process(GRCH_DIRECTORY_PATH)\n",
    "\n",
    "FASTA_GZ_FILE_PATH = os.path.join(\n",
    "    GRCH_DIRECTORY_PATH,\n",
    "    'GCA_000001405.15_GRCh38_full_plus_hs38DH-extra_analysis_set.fa.gz')\n",
    "assert os.path.isfile(FASTA_GZ_FILE_PATH)\n",
    "\n",
    "CLINVAR_VCF_GZ_FILE_PATH = os.path.join(GRCH_DIRECTORY_PATH, 'clinvar.vcf.gz')\n",
    "assert os.path.isfile(CLINVAR_VCF_GZ_FILE_PATH)\n",
    "\n",
    "N_JOBS = 2\n",
    "OVERWRITE = False"
   ]
  },
  {
   "cell_type": "code",
   "execution_count": 4,
   "metadata": {
    "ExecuteTime": {
     "end_time": "2017-11-17T19:57:44.875941Z",
     "start_time": "2017-11-17T19:57:44.826925Z"
    }
   },
   "outputs": [
    {
     "ename": "AssertionError",
     "evalue": "",
     "output_type": "error",
     "traceback": [
      "\u001b[0;31m---------------------------------------------------------------------------\u001b[0m",
      "\u001b[0;31mAssertionError\u001b[0m                            Traceback (most recent call last)",
      "\u001b[0;32m<ipython-input-4-5cbd4d901b9e>\u001b[0m in \u001b[0;36m<module>\u001b[0;34m()\u001b[0m\n\u001b[1;32m      1\u001b[0m \u001b[0mFASTQ_GZ_0_FILE_PATH\u001b[0m \u001b[0;34m=\u001b[0m \u001b[0;34m'simulation_0.fq.gz'\u001b[0m\u001b[0;34m\u001b[0m\u001b[0m\n\u001b[0;32m----> 2\u001b[0;31m \u001b[0;32massert\u001b[0m \u001b[0mos\u001b[0m\u001b[0;34m.\u001b[0m\u001b[0mpath\u001b[0m\u001b[0;34m.\u001b[0m\u001b[0misfile\u001b[0m\u001b[0;34m(\u001b[0m\u001b[0mFASTQ_GZ_0_FILE_PATH\u001b[0m\u001b[0;34m)\u001b[0m\u001b[0;34m\u001b[0m\u001b[0m\n\u001b[0m\u001b[1;32m      3\u001b[0m \u001b[0;34m\u001b[0m\u001b[0m\n\u001b[1;32m      4\u001b[0m \u001b[0mFASTQ_GZ_1_FILE_PATH\u001b[0m \u001b[0;34m=\u001b[0m \u001b[0;34m'simulation_1.fq.gz'\u001b[0m\u001b[0;34m\u001b[0m\u001b[0m\n\u001b[1;32m      5\u001b[0m \u001b[0;32massert\u001b[0m \u001b[0mos\u001b[0m\u001b[0;34m.\u001b[0m\u001b[0mpath\u001b[0m\u001b[0;34m.\u001b[0m\u001b[0misfile\u001b[0m\u001b[0;34m(\u001b[0m\u001b[0mFASTQ_GZ_1_FILE_PATH\u001b[0m\u001b[0;34m)\u001b[0m\u001b[0;34m\u001b[0m\u001b[0m\n",
      "\u001b[0;31mAssertionError\u001b[0m: "
     ]
    }
   ],
   "source": [
    "FASTQ_GZ_0_FILE_PATH = './'\n",
    "assert os.path.isfile(FASTQ_GZ_0_FILE_PATH)\n",
    "\n",
    "FASTQ_GZ_1_FILE_PATH = 'simulation_1.fq.gz'\n",
    "assert os.path.isfile(FASTQ_GZ_1_FILE_PATH)\n",
    "\n",
    "with mp.Pool(processes=N_JOBS) as p:\n",
    "\n",
    "    r0 = p.apply_async(\n",
    "        plot_fastq_gz_or_bam,\n",
    "        args=[FASTQ_GZ_0_FILE_PATH],\n",
    "        kwds=dict(overwrite=OVERWRITE))\n",
    "\n",
    "    r1 = p.apply_async(\n",
    "        plot_fastq_gz_or_bam,\n",
    "        args=[FASTQ_GZ_1_FILE_PATH],\n",
    "        kwds=dict(overwrite=OVERWRITE))"
   ]
  },
  {
   "cell_type": "code",
   "execution_count": null,
   "metadata": {
    "ExecuteTime": {
     "start_time": "2017-11-17T19:50:56.482Z"
    }
   },
   "outputs": [
    {
     "name": "stdout",
     "output_type": "stream",
     "text": [
      "Indexing ...\n",
      "bwa index /Users/k/Downloads/grch/GCA_000001405.15_GRCh38_full_plus_hs38DH-extra_analysis_set.fa.gz\n"
     ]
    }
   ],
   "source": [
    "BAM_FILE_PATH = None\n",
    "\n",
    "if BAM_FILE_PATH:\n",
    "    assert os.path.isfile(BAM_FILE_PATH)\n",
    "\n",
    "else:\n",
    "    BAM_FILE_PATH = align_fastq_gzs_using_bwa(\n",
    "        FASTA_GZ_FILE_PATH, [\n",
    "            FASTQ_GZ_0_FILE_PATH,\n",
    "            FASTQ_GZ_1_FILE_PATH,\n",
    "        ],\n",
    "        n_jobs=N_JOBS,\n",
    "        overwrite=OVERWRITE)\n",
    "\n",
    "    plot_fastq_gz_or_bam(BAM_FILE_PATH, overwrite=OVERWRITE)"
   ]
  },
  {
   "cell_type": "code",
   "execution_count": null,
   "metadata": {
    "ExecuteTime": {
     "end_time": "2017-11-17T01:29:43.070985Z",
     "start_time": "2017-11-17T01:29:42.798291Z"
    },
    "scrolled": false
   },
   "outputs": [],
   "source": [
    "VCF_GZ_FILE_PATH = None\n",
    "\n",
    "if VCF_GZ_FILE_PATH:\n",
    "    assert os.path.isfile(VCF_GZ_FILE_PATH)\n",
    "\n",
    "else:\n",
    "    VCF_GZ_FILE_PATH = call_variants_on_bam_using_freebayes_and_multiprocess(\n",
    "        BAM_FILE_PATH,\n",
    "        FASTA_FILE_PATH, ['chr{}'.format(i)\n",
    "                          for i in range(1, 23)] + ['chrX', 'chrY', 'chrM'],\n",
    "        n_jobs=N_JOBS,\n",
    "        overwrite=OVERWRITE)\n",
    "\n",
    "    VCF_GZ_FILE_PATH = annotate_vcf_gz_using_snpeff(\n",
    "        VCF_GZ_FILE_PATH, n_jobs=N_JOBS, overwrite=OVERWRITE)\n",
    "\n",
    "    VCF_GZ_FILE_PATH = annotate_vcf_gz_using_bcftools(\n",
    "        VCF_GZ_FILE_PATH,\n",
    "        CLINVAR_VCF_GZ_FILE_PATH,\n",
    "        '--columns =ID,INFO',\n",
    "        n_jobs=N_JOBS,\n",
    "        overwrite=OVERWRITE)\n",
    "\n",
    "    VCF_GZ_FILE_PATH = filter_vcf_gz_using_bcftools(\n",
    "        VCF_GZ_FILE_PATH, n_jobs=N_JOBS, overwrite=OVERWRITE)"
   ]
  },
  {
   "cell_type": "code",
   "execution_count": null,
   "metadata": {
    "ExecuteTime": {
     "end_time": "2017-11-17T01:28:18.471999Z",
     "start_time": "2017-11-17T01:28:18.447245Z"
    }
   },
   "outputs": [],
   "source": [
    "[str(i) for i in range(1, 23)] + ['X', 'Y', 'MT']"
   ]
  },
  {
   "cell_type": "code",
   "execution_count": null,
   "metadata": {},
   "outputs": [],
   "source": []
  },
  {
   "cell_type": "code",
   "execution_count": null,
   "metadata": {},
   "outputs": [],
   "source": []
  }
 ],
 "metadata": {
  "kernelspec": {
   "display_name": "Python [default]",
   "language": "python",
   "name": "python3"
  },
  "language_info": {
   "codemirror_mode": {
    "name": "ipython",
    "version": 3
   },
   "file_extension": ".py",
   "mimetype": "text/x-python",
   "name": "python",
   "nbconvert_exporter": "python",
   "pygments_lexer": "ipython3",
   "version": "3.6.3"
  }
 },
 "nbformat": 4,
 "nbformat_minor": 2
}
