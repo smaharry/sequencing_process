{
 "cells": [
  {
   "cell_type": "code",
   "execution_count": null,
   "metadata": {
    "ExecuteTime": {
     "end_time": "2017-11-17T21:52:49.532316Z",
     "start_time": "2017-11-17T21:52:49.121129Z"
    }
   },
   "outputs": [],
   "source": [
    "import os\n",
    "import multiprocessing as mp\n",
    "import sys\n",
    "\n",
    "sys.path.insert(0, '..')\n",
    "from sequencing_process.make_reference_genome_for_sequencing_process import make_reference_genome_for_sequencing_process\n",
    "from sequencing_process.plot_fastq_gz_or_bam import plot_fastq_gz_or_bam\n",
    "from sequencing_process.process_fastq_gz import align_fastq_gzs_using_bwa\n",
    "from sequencing_process.process_bam import sort_and_index_bam_using_samtools, call_variants_on_bam_using_freebayes_and_multiprocess\n",
    "from sequencing_process.process_vcf_gz import annotate_vcf_gz_using_snpeff, annotate_vcf_gz_using_bcftools, filter_vcf_gz_using_bcftools\n",
    "\n",
    "%load_ext autoreload\n",
    "%autoreload 2\n",
    "%matplotlib inline"
   ]
  },
  {
   "cell_type": "code",
   "execution_count": null,
   "metadata": {
    "ExecuteTime": {
     "end_time": "2017-11-17T21:52:49.555528Z",
     "start_time": "2017-11-17T21:52:49.534218Z"
    }
   },
   "outputs": [],
   "source": [
    "GRCH_DIRECTORY_PATH = '/media/k/Jumis/data/grch'\n",
    "assert os.path.isdir(GRCH_DIRECTORY_PATH)\n",
    "\n",
    "# make_reference_genome_for_sequencing_process(GRCH_DIRECTORY_PATH)\n",
    "\n",
    "FASTA_GZ_FILE_PATH = os.path.join(\n",
    "    GRCH_DIRECTORY_PATH,\n",
    "    'GCA_000001405.15_GRCh38_full_plus_hs38DH-extra_analysis_set.fa.gz')\n",
    "assert os.path.isfile(FASTA_GZ_FILE_PATH)\n",
    "\n",
    "FASTA_FILE_PATH = FASTA_GZ_FILE_PATH[:-3]\n",
    "assert os.path.isfile(FASTA_FILE_PATH)\n",
    "\n",
    "CLINVAR_VCF_GZ_FILE_PATH = os.path.join(GRCH_DIRECTORY_PATH, 'clinvar.vcf.gz')\n",
    "assert os.path.isfile(CLINVAR_VCF_GZ_FILE_PATH)\n",
    "\n",
    "N_JOBS = 14\n",
    "OVERWRITE = True"
   ]
  },
  {
   "cell_type": "code",
   "execution_count": null,
   "metadata": {
    "ExecuteTime": {
     "end_time": "2017-11-17T21:52:49.587459Z",
     "start_time": "2017-11-17T21:52:49.557765Z"
    }
   },
   "outputs": [],
   "source": [
    "FASTQ_GZ_0_FILE_PATH = 'simulation_0.fq.gz'\n",
    "assert os.path.isfile(FASTQ_GZ_0_FILE_PATH)\n",
    "\n",
    "FASTQ_GZ_1_FILE_PATH = 'simulation_1.fq.gz'\n",
    "assert os.path.isfile(FASTQ_GZ_1_FILE_PATH)\n",
    "\n",
    "p = mp.Pool(processes=2)\n",
    "\n",
    "r0 = p.apply_async(\n",
    "    plot_fastq_gz_or_bam,\n",
    "    args=[FASTQ_GZ_0_FILE_PATH],\n",
    "    kwds=dict(overwrite=OVERWRITE))\n",
    "\n",
    "r1 = p.apply_async(\n",
    "    plot_fastq_gz_or_bam,\n",
    "    args=[FASTQ_GZ_1_FILE_PATH],\n",
    "    kwds=dict(overwrite=OVERWRITE))"
   ]
  },
  {
   "cell_type": "code",
   "execution_count": null,
   "metadata": {
    "ExecuteTime": {
     "end_time": "2017-11-17T21:54:01.124371Z",
     "start_time": "2017-11-17T21:52:49.590623Z"
    }
   },
   "outputs": [],
   "source": [
    "BAM_FILE_PATH = None\n",
    "\n",
    "if BAM_FILE_PATH:\n",
    "    assert os.path.isfile(BAM_FILE_PATH)\n",
    "\n",
    "else:\n",
    "    BAM_FILE_PATH = align_fastq_gzs_using_bwa(\n",
    "        FASTA_GZ_FILE_PATH, [\n",
    "            FASTQ_GZ_0_FILE_PATH,\n",
    "            FASTQ_GZ_1_FILE_PATH,\n",
    "        ],\n",
    "        n_jobs=N_JOBS,\n",
    "        overwrite=OVERWRITE)\n",
    "\n",
    "    BAM_FILE_PATH = sort_and_index_bam_using_samtools(\n",
    "        BAM_FILE_PATH, n_jobs=N_JOBS, overwrite=OVERWRITE)\n",
    "\n",
    "    plot_fastq_gz_or_bam(BAM_FILE_PATH, overwrite=OVERWRITE)"
   ]
  },
  {
   "cell_type": "code",
   "execution_count": null,
   "metadata": {
    "ExecuteTime": {
     "end_time": "2017-11-17T21:55:55.933383Z",
     "start_time": "2017-11-17T21:54:01.126315Z"
    },
    "scrolled": false
   },
   "outputs": [],
   "source": [
    "VCF_GZ_FILE_PATH = None\n",
    "\n",
    "if VCF_GZ_FILE_PATH:\n",
    "    assert os.path.isfile(VCF_GZ_FILE_PATH)\n",
    "\n",
    "else:\n",
    "    VCF_GZ_FILE_PATH = call_variants_on_bam_using_freebayes_and_multiprocess(\n",
    "        '/home/k/Downloads/align_fastq_gzs_using_bwa.bam',\n",
    "        FASTA_FILE_PATH,\n",
    "        ['chr{}'.format(i) for i in range(1, 23)] + ['chrX', 'chrY', 'chrM'],\n",
    "        n_jobs=N_JOBS,\n",
    "        overwrite=OVERWRITE)\n",
    "\n",
    "    VCF_GZ_FILE_PATH = annotate_vcf_gz_using_snpeff(\n",
    "        VCF_GZ_FILE_PATH, n_jobs=N_JOBS, overwrite=OVERWRITE)\n",
    "\n",
    "    VCF_GZ_FILE_PATH = annotate_vcf_gz_using_bcftools(\n",
    "        VCF_GZ_FILE_PATH,\n",
    "        CLINVAR_VCF_GZ_FILE_PATH, ['--columns =ID,INFO'],\n",
    "        n_jobs=N_JOBS,\n",
    "        overwrite=OVERWRITE)\n",
    "\n",
    "    VCF_GZ_FILE_PATH = filter_vcf_gz_using_bcftools(\n",
    "        VCF_GZ_FILE_PATH, n_jobs=N_JOBS, overwrite=OVERWRITE)"
   ]
  },
  {
   "cell_type": "code",
   "execution_count": null,
   "metadata": {
    "ExecuteTime": {
     "end_time": "2017-11-17T21:55:55.934577Z",
     "start_time": "2017-11-17T21:52:49.116Z"
    }
   },
   "outputs": [],
   "source": [
    "p.terminate()"
   ]
  }
 ],
 "metadata": {
  "kernelspec": {
   "display_name": "Python [default]",
   "language": "python",
   "name": "python3"
  },
  "language_info": {
   "codemirror_mode": {
    "name": "ipython",
    "version": 3
   },
   "file_extension": ".py",
   "mimetype": "text/x-python",
   "name": "python",
   "nbconvert_exporter": "python",
   "pygments_lexer": "ipython3",
   "version": "3.6.3"
  }
 },
 "nbformat": 4,
 "nbformat_minor": 2
}
