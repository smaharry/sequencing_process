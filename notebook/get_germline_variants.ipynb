{
 "cells": [
  {
   "cell_type": "code",
   "execution_count": null,
   "metadata": {
    "ExecuteTime": {
     "end_time": "2018-05-02T01:24:15.095927Z",
     "start_time": "2018-05-02T01:24:15.062468Z"
    }
   },
   "outputs": [],
   "source": [
    "%load_ext autoreload\n",
    "\n",
    "%autoreload 2"
   ]
  },
  {
   "cell_type": "code",
   "execution_count": null,
   "metadata": {
    "ExecuteTime": {
     "end_time": "2018-05-01T18:25:05.087719Z",
     "start_time": "2018-05-01T18:25:05.054403Z"
    }
   },
   "outputs": [],
   "source": [
    "import sys\n",
    "\n",
    "sys.path.insert(\n",
    "    0,\n",
    "    '..',\n",
    ")"
   ]
  },
  {
   "cell_type": "code",
   "execution_count": null,
   "metadata": {
    "ExecuteTime": {
     "end_time": "2018-05-02T01:24:15.365464Z",
     "start_time": "2018-05-02T01:24:15.108661Z"
    }
   },
   "outputs": [],
   "source": [
    "import os\n",
    "\n",
    "from sequencing_process.support.support.path import clean_path\n",
    "from sequencing_process.make_reference_genome import make_reference_genome\n",
    "from sequencing_process.download_clinvar_vcf_gz import download_clinvar_vcf_gz\n",
    "from sequencing_process.process_fastq_gz import check_fastq_gzs_using_fastqc, trim_fastq_gzs_using_skewer, align_fastq_gzs_using_bwa_mem\n",
    "from sequencing_process.process_bam import sort_and_index_bam_using_samtools_sort_and_index, mark_duplicates_in_bam_using_picard_markduplicates, check_bam_using_samtools_flagstat, get_variants_from_bam_using_freebayes_and_multiprocess, get_variants_from_bam_using_strelka\n",
    "from sequencing_process.process_vcf_gz import annotate_vcf_gz_using_snpeff, rename_chromosome_of_vcf_gz_using_bcftools_annotate, annotate_vcf_gz_using_bcftools_annotate, filter_vcf_gz_using_bcftools_view"
   ]
  },
  {
   "cell_type": "code",
   "execution_count": null,
   "metadata": {
    "ExecuteTime": {
     "end_time": "2018-05-02T01:24:15.395486Z",
     "start_time": "2018-05-02T01:24:15.368440Z"
    }
   },
   "outputs": [],
   "source": [
    "DIRECTORY_PATH = clean_path('~/sequencing_process')\n",
    "\n",
    "assert os.path.isdir(DIRECTORY_PATH)\n",
    "\n",
    "OVERWRITE = True\n",
    "\n",
    "GRCH_DIRECTORY_PATH = clean_path('~/sequencing_process')\n",
    "\n",
    "assert os.path.isdir(GRCH_DIRECTORY_PATH)\n",
    "\n",
    "REGIONS = tuple('chr{}'.format(i) for i in range(1, 23)) + (\n",
    "    'chrX',\n",
    "    'chrY',\n",
    "    'chrM',\n",
    ")\n",
    "\n",
    "N_JOB = 1\n",
    "\n",
    "MEMORY = '8G'\n",
    "\n",
    "VARIANT_METHOD = 'freebayes'\n",
    "\n",
    "CLINVAR_VERSION = None"
   ]
  },
  {
   "cell_type": "code",
   "execution_count": null,
   "metadata": {
    "ExecuteTime": {
     "end_time": "2018-05-02T01:24:15.425202Z",
     "start_time": "2018-05-02T01:24:15.398135Z"
    }
   },
   "outputs": [],
   "source": [
    "try:\n",
    "\n",
    "    FASTA_GZ_FILE_PATH = make_reference_genome(GRCH_DIRECTORY_PATH)\n",
    "\n",
    "except FileExistsError:\n",
    "\n",
    "    FASTA_GZ_FILE_PATH = os.path.join(\n",
    "        GRCH_DIRECTORY_PATH,\n",
    "        'GCA_000001405.15_GRCh38_full_plus_hs38DH-extra_analysis_set.fa.gz',\n",
    "    )\n",
    "\n",
    "    FASTA_FILE_PATH = os.path.splitext(FASTA_GZ_FILE_PATH)[0]\n",
    "\n",
    "    assert os.path.isfile(FASTA_FILE_PATH)\n",
    "\n",
    "try:\n",
    "\n",
    "    CLINVAR_VCF_GZ_FILE_PATH = download_clinvar_vcf_gz(\n",
    "        GRCH_DIRECTORY_PATH,\n",
    "        version=CLINVAR_VERSION,\n",
    "    )\n",
    "\n",
    "except FileExistsError:\n",
    "\n",
    "    CLINVAR_VCF_GZ_FILE_PATH = os.path.join(\n",
    "        GRCH_DIRECTORY_PATH,\n",
    "        [file_name for file_name in os.listdir(GRCH_DIRECTORY_PATH) if 'clinvar' in file_name and file_name.endswith('.gz')][0],\n",
    "    )"
   ]
  },
  {
   "cell_type": "code",
   "execution_count": null,
   "metadata": {
    "ExecuteTime": {
     "end_time": "2018-05-02T01:24:26.627411Z",
     "start_time": "2018-05-02T01:24:15.427956Z"
    }
   },
   "outputs": [],
   "source": [
    "fastq_gz_0_file_path = os.path.join(\n",
    "    DIRECTORY_PATH,\n",
    "    'simulation.bwa.read1.fastq.gz',\n",
    ")\n",
    "\n",
    "assert os.path.isfile(fastq_gz_0_file_path)\n",
    "\n",
    "fastq_gz_1_file_path = os.path.join(\n",
    "    DIRECTORY_PATH,\n",
    "    'simulation.bwa.read2.fastq.gz',\n",
    ")\n",
    "\n",
    "assert os.path.isfile(fastq_gz_1_file_path)\n",
    "\n",
    "fastq_gz_0_trimmed_file_path, fastq_gz_1_trimmed_file_path = trim_fastq_gzs_using_skewer(\n",
    "    (\n",
    "        fastq_gz_0_file_path,\n",
    "        fastq_gz_1_file_path,\n",
    "    ),\n",
    "    output_directory_path=os.path.join(\n",
    "        DIRECTORY_PATH,\n",
    "        'trimmed_fastq_gz',\n",
    "    ),\n",
    "    n_job=N_JOB,\n",
    "    overwrite=OVERWRITE,\n",
    ")\n",
    "\n",
    "check_fastq_gzs_using_fastqc(\n",
    "    (\n",
    "        fastq_gz_0_file_path,\n",
    "        fastq_gz_1_file_path,\n",
    "        fastq_gz_0_trimmed_file_path,\n",
    "        fastq_gz_1_trimmed_file_path,\n",
    "    ),\n",
    "    n_job=N_JOB,\n",
    "    overwrite=OVERWRITE,\n",
    ")"
   ]
  },
  {
   "cell_type": "code",
   "execution_count": null,
   "metadata": {
    "ExecuteTime": {
     "end_time": "2018-05-02T01:24:36.898171Z",
     "start_time": "2018-05-02T01:24:26.631347Z"
    },
    "scrolled": false
   },
   "outputs": [],
   "source": [
    "bam_file_path = align_fastq_gzs_using_bwa_mem(\n",
    "    (\n",
    "        fastq_gz_0_trimmed_file_path,\n",
    "        fastq_gz_1_trimmed_file_path,\n",
    "    ),\n",
    "    FASTA_GZ_FILE_PATH,\n",
    "    n_job=N_JOB,\n",
    "    output_bam_file_path=os.path.join(\n",
    "        DIRECTORY_PATH,\n",
    "        'aligned.bam',\n",
    "    ),\n",
    "    overwrite=OVERWRITE,\n",
    ")\n",
    "\n",
    "sorted_and_indexed_bam_file_path = sort_and_index_bam_using_samtools_sort_and_index(\n",
    "    bam_file_path,\n",
    "    remove_input_bam_file_path=True,\n",
    "    n_job=N_JOB,\n",
    "    overwrite=OVERWRITE,\n",
    ")\n",
    "\n",
    "duplicate_removed_bam_file_path = mark_duplicates_in_bam_using_picard_markduplicates(\n",
    "    sorted_and_indexed_bam_file_path,\n",
    "    memory=MEMORY,\n",
    "    remove_duplicates=True,\n",
    "    remove_input_bam_file_path_and_its_index=True,\n",
    "    n_job=N_JOB,\n",
    "    output_bam_file_path=os.path.join(\n",
    "        DIRECTORY_PATH,\n",
    "        'duplicate_removed.bam',\n",
    "    ),\n",
    "    overwrite=OVERWRITE,\n",
    ")\n",
    "\n",
    "check_bam_using_samtools_flagstat(\n",
    "    duplicate_removed_bam_file_path,\n",
    "    n_job=N_JOB,\n",
    "    overwrite=OVERWRITE,\n",
    ")"
   ]
  },
  {
   "cell_type": "code",
   "execution_count": null,
   "metadata": {
    "ExecuteTime": {
     "end_time": "2018-05-02T01:24:56.931056Z",
     "start_time": "2018-05-02T01:24:36.902214Z"
    },
    "scrolled": false
   },
   "outputs": [],
   "source": [
    "if VARIANT_METHOD not in (\n",
    "    'freebayes',\n",
    "    'strelka',\n",
    "):\n",
    "\n",
    "    raise ValueError('Unknown VARIANT_METHOD: {}.'.format(VARIANT_METHOD))\n",
    "\n",
    "if VARIANT_METHOD == 'freebayes':\n",
    "\n",
    "    vcf_gz_file_path = get_variants_from_bam_using_freebayes_and_multiprocess(\n",
    "        duplicate_removed_bam_file_path,\n",
    "        FASTA_FILE_PATH,\n",
    "        REGIONS,\n",
    "        n_job=N_JOB,\n",
    "        output_vcf_file_path=os.path.join(\n",
    "            DIRECTORY_PATH,\n",
    "            '{}.vcf'.format(VARIANT_METHOD),\n",
    "        ),\n",
    "        overwrite=OVERWRITE,\n",
    "    )\n",
    "\n",
    "    keep_filters = None\n",
    "\n",
    "    include_expression = '10<=DP & 30<=QUAL & 10<=(QUAL/AO) & 1<=SRF & 1<=SRR & 1<=SAF & 1<=SAR & 1<=RPR & 1<=RPL'\n",
    "\n",
    "elif VARIANT_METHOD == 'strelka':\n",
    "\n",
    "    vcf_gz_file_path = get_variants_from_bam_using_strelka(\n",
    "        duplicate_removed_bam_file_path,\n",
    "        FASTA_FILE_PATH,\n",
    "        os.path.join(\n",
    "            DIRECTORY_PATH,\n",
    "            'strelka',\n",
    "        ),\n",
    "        n_job=N_JOB,\n",
    "        overwrite=OVERWRITE,\n",
    "    )\n",
    "\n",
    "    keep_filters = ('PASS', )\n",
    "\n",
    "    include_expression = '30<=QUAL'"
   ]
  },
  {
   "cell_type": "code",
   "execution_count": null,
   "metadata": {
    "ExecuteTime": {
     "end_time": "2018-05-02T01:26:02.468212Z",
     "start_time": "2018-05-02T01:24:56.934994Z"
    },
    "scrolled": false
   },
   "outputs": [],
   "source": [
    "filtered_vcf_gz_file_path = filter_vcf_gz_using_bcftools_view(\n",
    "    vcf_gz_file_path,\n",
    "    regions=REGIONS,\n",
    "    keep_filters=keep_filters,\n",
    "    include_expression=include_expression,\n",
    "    n_job=N_JOB,\n",
    "    output_vcf_file_path=os.path.join(\n",
    "        DIRECTORY_PATH,\n",
    "        'filtered.vcf',\n",
    "    ),\n",
    "    overwrite=OVERWRITE,\n",
    ")\n",
    "\n",
    "chromosome_renamed_vcf_gz_file_path = rename_chromosome_of_vcf_gz_using_bcftools_annotate(\n",
    "    filtered_vcf_gz_file_path,\n",
    "    remove_input_vcf_gz_file_path_and_its_index=True,\n",
    "    n_job=N_JOB,\n",
    "    output_vcf_file_path=filtered_vcf_gz_file_path.replace(\n",
    "        '.vcf.gz',\n",
    "        '.chromosome_renamed.vcf',\n",
    "    ),\n",
    "    overwrite=OVERWRITE,\n",
    ")\n",
    "\n",
    "snpeff_annotated_vcf_gz_file_path = annotate_vcf_gz_using_snpeff(\n",
    "    chromosome_renamed_vcf_gz_file_path,\n",
    "    'GRCh38.86',\n",
    "    memory=MEMORY,\n",
    "    remove_input_vcf_gz_file_path_and_its_index=True,\n",
    "    n_job=N_JOB,\n",
    "    output_vcf_file_path=chromosome_renamed_vcf_gz_file_path.replace(\n",
    "        '.vcf.gz',\n",
    "        '.snpeff.vcf',\n",
    "    ),\n",
    "    overwrite=OVERWRITE,\n",
    ")\n",
    "\n",
    "clinvar_annotated_vcf_gz_file_path = annotate_vcf_gz_using_bcftools_annotate(\n",
    "    snpeff_annotated_vcf_gz_file_path,\n",
    "    CLINVAR_VCF_GZ_FILE_PATH,\n",
    "    ('--columns =ID,INFO', ),\n",
    "    remove_input_vcf_gz_file_path_and_its_index=True,\n",
    "    n_job=N_JOB,\n",
    "    output_vcf_file_path=snpeff_annotated_vcf_gz_file_path.replace(\n",
    "        '.vcf.gz',\n",
    "        '.clinvar.vcf',\n",
    "    ),\n",
    "    overwrite=OVERWRITE,\n",
    ")"
   ]
  }
 ],
 "metadata": {
  "kernelspec": {
   "display_name": "Python 3",
   "language": "python",
   "name": "python3"
  },
  "language_info": {
   "codemirror_mode": {
    "name": "ipython",
    "version": 3
   },
   "file_extension": ".py",
   "mimetype": "text/x-python",
   "name": "python",
   "nbconvert_exporter": "python",
   "pygments_lexer": "ipython3",
   "version": "3.5.5"
  }
 },
 "nbformat": 4,
 "nbformat_minor": 2
}
