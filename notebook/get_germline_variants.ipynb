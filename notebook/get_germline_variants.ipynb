{
 "cells": [
  {
   "cell_type": "code",
   "execution_count": 1,
   "metadata": {
    "ExecuteTime": {
     "end_time": "2018-02-11T06:57:31.552889Z",
     "start_time": "2018-02-11T06:57:31.526533Z"
    }
   },
   "outputs": [],
   "source": [
    "%load_ext autoreload\n",
    "%autoreload 2"
   ]
  },
  {
   "cell_type": "code",
   "execution_count": 2,
   "metadata": {
    "ExecuteTime": {
     "end_time": "2018-02-11T06:57:31.712538Z",
     "start_time": "2018-02-11T06:57:31.556523Z"
    }
   },
   "outputs": [],
   "source": [
    "import os\n",
    "import sys\n",
    "\n",
    "sys.path.insert(0, '..')\n",
    "from sequencing_process.support.support.path import clean_path\n",
    "from sequencing_process.make_reference_genome import make_reference_genome\n",
    "from sequencing_process.download_clinvar_vcf_gz import download_clinvar_vcf_gz\n",
    "from sequencing_process.process_fastq_gz import check_fastq_gzs_using_fastqc, trim_fastq_gzs_using_skewer, align_fastq_gzs_using_bwa_mem\n",
    "from sequencing_process.process_bam import sort_and_index_bam_using_samtools_sort_and_index, mark_duplicates_in_bam_using_picard_markduplicates, check_bam_using_samtools_flagstat, get_variants_from_bam_using_freebayes_and_multiprocess, get_variants_from_bam_using_strelka\n",
    "from sequencing_process.process_vcf_gz import annotate_vcf_gz_using_snpeff, rename_chromosomes_of_vcf_gz_using_bcftools_annotate, annotate_vcf_gz_using_bcftools_annotate, filter_vcf_gz_using_bcftools_view"
   ]
  },
  {
   "cell_type": "code",
   "execution_count": 3,
   "metadata": {
    "ExecuteTime": {
     "end_time": "2018-02-11T06:57:31.752125Z",
     "start_time": "2018-02-11T06:57:31.714985Z"
    }
   },
   "outputs": [],
   "source": [
    "GRCH_DIRECTORY_PATH = clean_path('~/Jumis/grch/sequencing_process')\n",
    "assert os.path.isdir(GRCH_DIRECTORY_PATH)\n",
    "\n",
    "DIRECTORY_PATH = clean_path('../simulation')\n",
    "assert os.path.isdir(DIRECTORY_PATH)\n",
    "\n",
    "regions = ['chr{}'.format(i) for i in range(1, 23)] + [\n",
    "    'chrX',\n",
    "    'chrY',\n",
    "    'chrM',\n",
    "]\n",
    "\n",
    "N_JOB = 2\n",
    "OVERWRITE = True\n",
    "\n",
    "VARIANT_METHOD = 'freebayes'"
   ]
  },
  {
   "cell_type": "code",
   "execution_count": 4,
   "metadata": {
    "ExecuteTime": {
     "end_time": "2018-02-11T06:57:42.713801Z",
     "start_time": "2018-02-11T06:57:31.755908Z"
    }
   },
   "outputs": [
    {
     "name": "stdout",
     "output_type": "stream",
     "text": [
      "Downloading ftp://ftp.ncbi.nlm.nih.gov/pub/clinvar/vcf_GRCh38/clinvar.vcf.gz =(into)=> /Users/k/Jumis/grch/sequencing_process/clinvar.vcf.gz ...\n",
      "Downloading ftp://ftp.ncbi.nlm.nih.gov/pub/clinvar/vcf_GRCh38/clinvar.vcf.gz.tbi =(into)=> /Users/k/Jumis/grch/sequencing_process/clinvar.vcf.gz.tbi ...\n"
     ]
    }
   ],
   "source": [
    "try:\n",
    "    make_reference_genome(GRCH_DIRECTORY_PATH, overwrite=False)\n",
    "except FileExistsError:\n",
    "    pass\n",
    "\n",
    "try:\n",
    "    download_clinvar_vcf_gz(GRCH_DIRECTORY_PATH, overwrite=OVERWRITE)\n",
    "except FileExistsError:\n",
    "    pass\n",
    "\n",
    "FASTA_GZ_FILE_PATH = os.path.join(\n",
    "    GRCH_DIRECTORY_PATH,\n",
    "    'GCA_000001405.15_GRCh38_full_plus_hs38DH-extra_analysis_set.fa.gz')\n",
    "assert os.path.isfile(FASTA_GZ_FILE_PATH)\n",
    "\n",
    "FASTA_FILE_PATH = FASTA_GZ_FILE_PATH[:-3]\n",
    "assert os.path.isfile(FASTA_FILE_PATH)\n",
    "\n",
    "CLINVAR_VCF_GZ_FILE_PATH = os.path.join(GRCH_DIRECTORY_PATH, 'clinvar.vcf.gz')\n",
    "assert os.path.isfile(CLINVAR_VCF_GZ_FILE_PATH)"
   ]
  },
  {
   "cell_type": "code",
   "execution_count": 5,
   "metadata": {
    "ExecuteTime": {
     "end_time": "2018-02-11T06:57:45.123545Z",
     "start_time": "2018-02-11T06:57:42.717695Z"
    },
    "scrolled": false
   },
   "outputs": [
    {
     "name": "stdout",
     "output_type": "stream",
     "text": [
      "\n",
      "skewer -x ../resource/general_bad_sequences.fasta -r 0 -d 0 --end-quality 10 --min 30 -n --output /Users/k/Jumis/github_kwatme/sequencing_process/simulation/trimmed_fastq_gz/ --masked-output --excluded-output --threads 1 -m pe -y ../resource/general_bad_sequences.fasta /Users/k/Jumis/github_kwatme/sequencing_process/simulation/10k.bwa.read1.fastq.gz /Users/k/Jumis/github_kwatme/sequencing_process/simulation/10k.bwa.read2.fastq.gz\n",
      "/Users/k/Jumis/github_kwatme/sequencing_process/simulation/trimmed_fastq_gz/trimmed.log:\n",
      "skewer v0.2.2 [April 4, 2016]\n",
      "COMMAND LINE:\tskewer -x ../resource/general_bad_sequences.fasta -r 0 -d 0 --end-quality 10 --min 30 -n --output /Users/k/Jumis/github_kwatme/sequencing_process/simulation/trimmed_fastq_gz/ --masked-output --excluded-output --threads 1 -m pe -y ../resource/general_bad_sequences.fasta /Users/k/Jumis/github_kwatme/sequencing_process/simulation/10k.bwa.read1.fastq.gz /Users/k/Jumis/github_kwatme/sequencing_process/simulation/10k.bwa.read2.fastq.gz\n",
      "Input file:\t/Users/k/Jumis/github_kwatme/sequencing_process/simulation/10k.bwa.read1.fastq.gz\n",
      "Paired file:\t/Users/k/Jumis/github_kwatme/sequencing_process/simulation/10k.bwa.read2.fastq.gz\n",
      "trimmed:\t/Users/k/Jumis/github_kwatme/sequencing_process/simulation/trimmed_fastq_gz/trimmed-pair1.fastq, /Users/k/Jumis/github_kwatme/sequencing_process/simulation/trimmed_fastq_gz/trimmed-pair2.fastq\n",
      "\n",
      "Parameters used:\n",
      "-- 3' end adapter sequences in file (-x):\t../resource/general_bad_sequences.fasta\n",
      "A:\tAGATCGGAAGAGC\n",
      "B:\tCTGTCTCTTATACACATCT\n",
      "-- paired 3' end adapter sequences in file (-y):\t../resource/general_bad_sequences.fasta\n",
      "01:\tAGATCGGAAGAGC\n",
      "02:\tCTGTCTCTTATACACATCT\n",
      "-- maximum error ratio allowed (-r):\t0.000\n",
      "-- maximum indel error ratio allowed (-d):\t0.000\n",
      "-- end quality threshold (-q):\t\t10\n",
      "-- minimum read length allowed after trimming (-l):\t30\n",
      "-- file format (-f):\t\tSanger/Illumina 1.8+ FASTQ (auto detected)\n",
      "Sat Feb 10 22:57:42 2018 >> started\n",
      "\n",
      "Sat Feb 10 22:57:43 2018 >> done (0.529s)\n",
      "10000 read pairs processed; of these:\n",
      "    0 ( 0.00%) degenerative read pairs filtered out\n",
      "    0 ( 0.00%) short read pairs filtered out after trimming by size control\n",
      "    0 ( 0.00%) empty read pairs filtered out after trimming by size control\n",
      "10000 (100.00%) read pairs available; of these:\n",
      "    1 ( 0.01%) trimmed read pairs available after processing\n",
      " 9999 (99.99%) untrimmed read pairs available after processing\n",
      "\n",
      "Length distribution of reads after trimming:\n",
      "length\tcount\tpercentage\n",
      "149\t    1\t  0.01%\n",
      "150\t 9999\t 99.99%\n",
      "\n",
      "\n",
      "gzip --force /Users/k/Jumis/github_kwatme/sequencing_process/simulation/trimmed_fastq_gz/trimmed-pair1.fastq\n",
      "\n",
      "gzip --force /Users/k/Jumis/github_kwatme/sequencing_process/simulation/trimmed_fastq_gz/trimmed-pair2.fastq\n"
     ]
    }
   ],
   "source": [
    "fastq_gz_1_file_path = os.path.join(DIRECTORY_PATH, '10k.bwa.read1.fastq.gz')\n",
    "assert os.path.isfile(fastq_gz_1_file_path)\n",
    "\n",
    "fastq_gz_2_file_path = os.path.join(DIRECTORY_PATH, '10k.bwa.read2.fastq.gz')\n",
    "assert os.path.isfile(fastq_gz_2_file_path)\n",
    "\n",
    "fastq_gz_1_trimmed_file_path, fastq_gz_2_trimmed_file_path = trim_fastq_gzs_using_skewer(\n",
    "    (\n",
    "        fastq_gz_1_file_path,\n",
    "        fastq_gz_2_file_path, ),\n",
    "    end_quality=10,\n",
    "    output_directory_path=os.path.join(DIRECTORY_PATH, 'trimmed_fastq_gz'),\n",
    "    overwrite=OVERWRITE)"
   ]
  },
  {
   "cell_type": "code",
   "execution_count": 6,
   "metadata": {
    "ExecuteTime": {
     "end_time": "2018-02-11T06:57:45.330554Z",
     "start_time": "2018-02-11T06:57:45.127099Z"
    }
   },
   "outputs": [
    {
     "ename": "ValueError",
     "evalue": "fastq_gz_file_paths must contain either 1 (unpaired) or 2 (paired) .fastq.gz file path.",
     "output_type": "error",
     "traceback": [
      "\u001b[0;31m---------------------------------------------------------------------------\u001b[0m",
      "\u001b[0;31mValueError\u001b[0m                                Traceback (most recent call last)",
      "\u001b[0;32m<ipython-input-6-44f99a26b8c9>\u001b[0m in \u001b[0;36m<module>\u001b[0;34m()\u001b[0m\n\u001b[1;32m      6\u001b[0m         fastq_gz_2_trimmed_file_path, ),\n\u001b[1;32m      7\u001b[0m     \u001b[0mn_job\u001b[0m\u001b[0;34m=\u001b[0m\u001b[0mN_JOB\u001b[0m\u001b[0;34m,\u001b[0m\u001b[0;34m\u001b[0m\u001b[0m\n\u001b[0;32m----> 8\u001b[0;31m     overwrite=OVERWRITE)\n\u001b[0m",
      "\u001b[0;32m~/Jumis/github_kwatme/sequencing_process/sequencing_process/process_fastq_gz.py\u001b[0m in \u001b[0;36mcheck_fastq_gzs_using_fastqc\u001b[0;34m(fastq_gz_file_paths, n_job, overwrite)\u001b[0m\n\u001b[1;32m     36\u001b[0m     \"\"\"\n\u001b[1;32m     37\u001b[0m \u001b[0;34m\u001b[0m\u001b[0m\n\u001b[0;32m---> 38\u001b[0;31m     \u001b[0mcheck_fastq_gzs\u001b[0m\u001b[0;34m(\u001b[0m\u001b[0mfastq_gz_file_paths\u001b[0m\u001b[0;34m)\u001b[0m\u001b[0;34m\u001b[0m\u001b[0m\n\u001b[0m\u001b[1;32m     39\u001b[0m \u001b[0;34m\u001b[0m\u001b[0m\n\u001b[1;32m     40\u001b[0m     \u001b[0;32mfor\u001b[0m \u001b[0mfastq_gz_file_path\u001b[0m \u001b[0;32min\u001b[0m \u001b[0mfastq_gz_file_paths\u001b[0m\u001b[0;34m:\u001b[0m\u001b[0;34m\u001b[0m\u001b[0m\n",
      "\u001b[0;32m~/Jumis/github_kwatme/sequencing_process/sequencing_process/process_fastq_gz.py\u001b[0m in \u001b[0;36mcheck_fastq_gzs\u001b[0;34m(fastq_gz_file_paths)\u001b[0m\n\u001b[1;32m     20\u001b[0m             2, ):\n\u001b[1;32m     21\u001b[0m         raise ValueError(\n\u001b[0;32m---> 22\u001b[0;31m             \u001b[0;34m'fastq_gz_file_paths must contain either 1 (unpaired) or 2 (paired) .fastq.gz file path.'\u001b[0m\u001b[0;34m\u001b[0m\u001b[0m\n\u001b[0m\u001b[1;32m     23\u001b[0m         )\n\u001b[1;32m     24\u001b[0m \u001b[0;34m\u001b[0m\u001b[0m\n",
      "\u001b[0;31mValueError\u001b[0m: fastq_gz_file_paths must contain either 1 (unpaired) or 2 (paired) .fastq.gz file path."
     ]
    }
   ],
   "source": [
    "check_fastq_gzs_using_fastqc(\n",
    "    (\n",
    "        fastq_gz_1_file_path,\n",
    "        fastq_gz_2_file_path,\n",
    "        fastq_gz_1_trimmed_file_path,\n",
    "        fastq_gz_2_trimmed_file_path, ),\n",
    "    n_job=N_JOB,\n",
    "    overwrite=OVERWRITE)"
   ]
  },
  {
   "cell_type": "code",
   "execution_count": null,
   "metadata": {
    "ExecuteTime": {
     "end_time": "2018-02-11T06:57:45.331976Z",
     "start_time": "2018-02-11T06:57:31.527Z"
    },
    "scrolled": false
   },
   "outputs": [],
   "source": [
    "bam_file_path = align_fastq_gzs_using_bwa_mem(\n",
    "    (\n",
    "        fastq_gz_1_trimmed_file_path,\n",
    "        fastq_gz_2_trimmed_file_path, ),\n",
    "    FASTA_GZ_FILE_PATH,\n",
    "    n_job=N_JOB,\n",
    "    output_bam_file_path=os.path.join(DIRECTORY_PATH, 'aligned.bam'),\n",
    "    overwrite=OVERWRITE)\n",
    "\n",
    "sorted_and_indexed_bam_file_path = sort_and_index_bam_using_samtools_sort_and_index(\n",
    "    bam_file_path,\n",
    "    remove_input_bam_file_path=True,\n",
    "    n_job=N_JOB,\n",
    "    overwrite=OVERWRITE)\n",
    "\n",
    "duplicate_removed_bam_file_path = mark_duplicates_in_bam_using_picard_markduplicates(\n",
    "    sorted_and_indexed_bam_file_path,\n",
    "    remove_duplicates=True,\n",
    "    remove_input_bam_file_path_and_its_index=True,\n",
    "    n_job=N_JOB,\n",
    "    output_bam_file_path=os.path.join(DIRECTORY_PATH, 'duplicate_removed.bam'),\n",
    "    overwrite=OVERWRITE)\n",
    "\n",
    "check_bam_using_samtools_flagstat(\n",
    "    duplicate_removed_bam_file_path, n_job=N_JOB, overwrite=OVERWRITE)"
   ]
  },
  {
   "cell_type": "code",
   "execution_count": null,
   "metadata": {
    "ExecuteTime": {
     "end_time": "2018-02-11T06:57:45.333888Z",
     "start_time": "2018-02-11T06:57:31.533Z"
    },
    "scrolled": false
   },
   "outputs": [],
   "source": [
    "if VARIANT_METHOD == 'freebayes':\n",
    "\n",
    "    vcf_gz_file_path = get_variants_from_bam_using_freebayes_and_multiprocess(\n",
    "        duplicate_removed_bam_file_path,\n",
    "        FASTA_FILE_PATH,\n",
    "        regions,\n",
    "        n_job=N_JOB,\n",
    "        output_vcf_file_path=os.path.join(DIRECTORY_PATH, 'freebayes.vcf'),\n",
    "        overwrite=OVERWRITE)\n",
    "\n",
    "    keep_filters = ()\n",
    "    include_expression = '10<DP & 30<QUAL & 10<(QUAL/AO) & 1<SRF & 1<SRR & 1<SAF & 1<SAR & 1<RPR & 1<RPL'\n",
    "\n",
    "elif VARIANT_METHOD == 'strelka':\n",
    "\n",
    "    vcf_gz_file_path = get_variants_from_bam_using_strelka(\n",
    "        duplicate_removed_bam_file_path,\n",
    "        FASTA_FILE_PATH,\n",
    "        os.path.join(DIRECTORY_PATH, 'strelka'),\n",
    "        n_job=N_JOB,\n",
    "        overwrite=OVERWRITE)\n",
    "\n",
    "    keep_filters = ('PASS', )\n",
    "    include_expression = None\n",
    "\n",
    "filtered_vcf_gz_file_path = filter_vcf_gz_using_bcftools_view(\n",
    "    vcf_gz_file_path,\n",
    "    regions=regions,\n",
    "    keep_filters=keep_filters,\n",
    "    include_expression=include_expression,\n",
    "    n_job=N_JOB,\n",
    "    output_vcf_file_path=os.path.join(DIRECTORY_PATH, 'filtered.vcf'),\n",
    "    overwrite=OVERWRITE)\n",
    "\n",
    "chromosomes_renamed_vcf_gz_file_path = rename_chromosomes_of_vcf_gz_using_bcftools_annotate(\n",
    "    filtered_vcf_gz_file_path,\n",
    "    n_job=N_JOB,\n",
    "    output_vcf_file_path=os.path.join(DIRECTORY_PATH,\n",
    "                                      'chromosomes_renamed.vcf'),\n",
    "    overwrite=OVERWRITE)\n",
    "\n",
    "snpeff_annotated_vcf_gz_file_path = annotate_vcf_gz_using_snpeff(\n",
    "    chromosomes_renamed_vcf_gz_file_path,\n",
    "    'GRCh38.86',\n",
    "    remove_input_vcf_gz_file_path_and_its_index=True,\n",
    "    n_job=N_JOB,\n",
    "    overwrite=OVERWRITE)\n",
    "\n",
    "clinvar_annotated_vcf_gz_file_path = annotate_vcf_gz_using_bcftools_annotate(\n",
    "    snpeff_annotated_vcf_gz_file_path,\n",
    "    CLINVAR_VCF_GZ_FILE_PATH, ('--columns =ID,INFO', ),\n",
    "    remove_input_vcf_gz_file_path_and_its_index=True,\n",
    "    n_job=N_JOB,\n",
    "    output_vcf_file_path=os.path.join(DIRECTORY_PATH, 'annotated.vcf'),\n",
    "    overwrite=OVERWRITE)"
   ]
  }
 ],
 "metadata": {
  "kernelspec": {
   "display_name": "Python [default]",
   "language": "python",
   "name": "python3"
  },
  "language_info": {
   "codemirror_mode": {
    "name": "ipython",
    "version": 3
   },
   "file_extension": ".py",
   "mimetype": "text/x-python",
   "name": "python",
   "nbconvert_exporter": "python",
   "pygments_lexer": "ipython3",
   "version": "3.6.3"
  }
 },
 "nbformat": 4,
 "nbformat_minor": 2
}
