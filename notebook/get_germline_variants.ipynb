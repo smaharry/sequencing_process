{
 "cells": [
  {
   "cell_type": "code",
   "execution_count": 1,
   "metadata": {
    "ExecuteTime": {
     "end_time": "2017-11-14T14:00:33.880243Z",
     "start_time": "2017-11-14T14:00:33.532896Z"
    }
   },
   "outputs": [],
   "source": [
    "import os\n",
    "import multiprocessing as mp\n",
    "import sys\n",
    "\n",
    "sys.path.insert(0, '..')\n",
    "from sequencing_process.plot_fastq_gz_or_bam import plot_fastq_gz_or_bam\n",
    "from sequencing_process.process_fastq_gz import align_fastq_gzs_using_bwa\n",
    "from sequencing_process.process_bam import call_variants_on_bam_using_freebayes_and_multiprocess\n",
    "from sequencing_process.process_vcf_gz import annotate_vcf_gz_using_snpeff, annotate_vcf_gz_using_bcftools, filter_vcf_gz_using_bcftools\n",
    "\n",
    "%load_ext autoreload\n",
    "%autoreload 2\n",
    "%matplotlib inline"
   ]
  },
  {
   "cell_type": "code",
   "execution_count": 2,
   "metadata": {
    "ExecuteTime": {
     "end_time": "2017-11-14T14:00:37.989755Z",
     "start_time": "2017-11-14T14:00:37.969459Z"
    }
   },
   "outputs": [],
   "source": [
    "GRCH_DIRECTORY_PATH = '/media/k/Chocolate/Jumis/data/grch'\n",
    "assert os.path.isdir(GRCH_DIRECTORY_PATH)\n",
    "\n",
    "# make_reference_genome_for_sequencing_process(GRCH_DIRECTORY_PATH)\n",
    "\n",
    "FASTA_FILE_PATH = os.path.join(\n",
    "    GRCH_DIRECTORY_PATH,\n",
    "    'GCA_000001405.15_GRCh38_full_plus_hs38DH-extra_analysis_set.fa')\n",
    "assert os.path.isfile(FASTA_FILE_PATH)\n",
    "\n",
    "FASTA_GZ_FILE_PATH = FASTA_FILE_PATH + '.gz'\n",
    "assert os.path.isfile(FASTA_GZ_FILE_PATH)\n",
    "\n",
    "CLINVAR_VCF_GZ_FILE_PATH = os.path.join(GRCH_DIRECTORY_PATH, 'clinvar.vcf.gz')\n",
    "assert os.path.isfile(CLINVAR_VCF_GZ_FILE_PATH)\n",
    "\n",
    "N_JOBS = 2\n",
    "OVERWRITE = True"
   ]
  },
  {
   "cell_type": "code",
   "execution_count": null,
   "metadata": {
    "ExecuteTime": {
     "start_time": "2017-11-14T14:00:41.982Z"
    }
   },
   "outputs": [
    {
     "name": "stdout",
     "output_type": "stream",
     "text": [
      "fastqp --output ../../../person/genome.0.fastq.gz.plot --text ../../../person/genome.0.fastq.gz.plot.tsv ../../../person/genome.0.fastq.gz\n",
      "fastqp --output ../../../person/genome.1.fastq.gz.plot --text ../../../person/genome.1.fastq.gz.plot.tsv ../../../person/genome.1.fastq.gz\n"
     ]
    }
   ],
   "source": [
    "FASTQ_GZ_0_FILE_PATH = '../../../person/genome.0.fastq.gz'\n",
    "assert os.path.isfile(FASTQ_GZ_0_FILE_PATH)\n",
    "\n",
    "FASTQ_GZ_1_FILE_PATH = '../../../person/genome.1.fastq.gz'\n",
    "assert os.path.isfile(FASTQ_GZ_1_FILE_PATH)\n",
    "\n",
    "with mp.Pool(processes=N_JOBS) as p:\n",
    "\n",
    "    if not os.path.exists(FASTQ_GZ_0_FILE_PATH + '.plot.zip'):\n",
    "        p.apply_async(\n",
    "            plot_fastq_gz_or_bam, FASTQ_GZ_0_FILE_PATH, overwrite=OVERWRITE)\n",
    "\n",
    "    if not os.path.exists(FASTQ_GZ_1_FILE_PATH + '.plot.zip'):\n",
    "        p.apply_async(\n",
    "            plot_fastq_gz_or_bam, FASTQ_GZ_1_FILE_PATH, overwrite=OVERWRITE)"
   ]
  },
  {
   "cell_type": "code",
   "execution_count": null,
   "metadata": {
    "ExecuteTime": {
     "end_time": "2017-11-12T01:11:00.861726Z",
     "start_time": "2017-11-12T01:10:22.634428Z"
    }
   },
   "outputs": [],
   "source": [
    "BAM_FILE_PATH = None\n",
    "\n",
    "if BAM_FILE_PATH:\n",
    "    assert os.path.isfile(BAM_FILE_PATH)\n",
    "\n",
    "else:\n",
    "    BAM_FILE_PATH = align_fastq_gzs_using_bwa(\n",
    "        FASTA_GZ_FILE_PATH, [\n",
    "            FASTQ_GZ_0_FILE_PATH,\n",
    "            FASTQ_GZ_1_FILE_PATH,\n",
    "        ],\n",
    "        n_jobs=N_JOBS,\n",
    "        overwrite=OVERWRITE)\n",
    "    \n",
    "    plot_fastq_gz_or_bam(BAM_FILE_PATH, overwrite=OVERWRITE)"
   ]
  },
  {
   "cell_type": "code",
   "execution_count": null,
   "metadata": {
    "ExecuteTime": {
     "end_time": "2017-11-12T01:17:13.619094Z",
     "start_time": "2017-11-12T01:11:00.863893Z"
    },
    "scrolled": false
   },
   "outputs": [],
   "source": [
    "VCF_GZ_FILE_PATH = None\n",
    "\n",
    "if VCF_GZ_FILE_PATH:\n",
    "    assert os.path.isfile(VCF_GZ_FILE_PATH)\n",
    "    \n",
    "else:\n",
    "    VCF_GZ_FILE_PATH = call_variants_on_bam_using_freebayes_and_multiprocess(\n",
    "        BAM_FILE_PATH,\n",
    "        FASTA_FILE_PATH,\n",
    "        n_jobs=N_JOBS,\n",
    "        overwrite=OVERWRITE)\n",
    "\n",
    "    VCF_GZ_FILE_PATH = annotate_vcf_gz_using_snpeff(\n",
    "        VCF_GZ_FILE_PATH, n_jobs=N_JOBS, overwrite=OVERWRITE)\n",
    "\n",
    "    VCF_GZ_FILE_PATH = annotate_vcf_gz_using_bcftools(\n",
    "        VCF_GZ_FILE_PATH,\n",
    "        CLINVAR_VCF_GZ_FILE_PATH,\n",
    "        '--columns =ID,INFO',\n",
    "        n_jobs=N_JOBS,\n",
    "        overwrite=OVERWRITE)\n",
    "\n",
    "    VCF_GZ_FILE_PATH = filter_vcf_gz_using_bcftools(\n",
    "        VCF_GZ_FILE_PATH, n_jobs=N_JOBS, overwrite=OVERWRITE)"
   ]
  }
 ],
 "metadata": {
  "kernelspec": {
   "display_name": "Python [default]",
   "language": "python",
   "name": "python3"
  },
  "language_info": {
   "codemirror_mode": {
    "name": "ipython",
    "version": 3
   },
   "file_extension": ".py",
   "mimetype": "text/x-python",
   "name": "python",
   "nbconvert_exporter": "python",
   "pygments_lexer": "ipython3",
   "version": "3.6.3"
  }
 },
 "nbformat": 4,
 "nbformat_minor": 2
}
