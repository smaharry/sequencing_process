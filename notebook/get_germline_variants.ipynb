{
 "cells": [
  {
   "cell_type": "code",
   "execution_count": 1,
   "metadata": {
    "ExecuteTime": {
     "end_time": "2018-05-01T18:09:02.820581Z",
     "start_time": "2018-05-01T18:09:02.782215Z"
    }
   },
   "outputs": [],
   "source": [
    "%load_ext autoreload\n",
    "%autoreload 2"
   ]
  },
  {
   "cell_type": "code",
   "execution_count": 2,
   "metadata": {
    "ExecuteTime": {
     "end_time": "2018-05-01T18:09:03.042501Z",
     "start_time": "2018-05-01T18:09:02.825050Z"
    }
   },
   "outputs": [],
   "source": [
    "import os\n",
    "import sys\n",
    "\n",
    "sys.path.insert(0, '..')\n",
    "from sequencing_process.support.support.path import clean_path\n",
    "from sequencing_process.make_reference_genome import make_reference_genome\n",
    "from sequencing_process.download_clinvar_vcf_gz import download_clinvar_vcf_gz\n",
    "from sequencing_process.process_fastq_gz import check_fastq_gzs_using_fastqc, trim_fastq_gzs_using_skewer, align_fastq_gzs_using_bwa_mem\n",
    "from sequencing_process.process_bam import sort_and_index_bam_using_samtools_sort_and_index, mark_duplicates_in_bam_using_picard_markduplicates, check_bam_using_samtools_flagstat, get_variants_from_bam_using_freebayes_and_multiprocess, get_variants_from_bam_using_strelka\n",
    "from sequencing_process.process_vcf_gz import annotate_vcf_gz_using_snpeff, rename_chromosome_of_vcf_gz_using_bcftools_annotate, annotate_vcf_gz_using_bcftools_annotate, filter_vcf_gz_using_bcftools_view"
   ]
  },
  {
   "cell_type": "code",
   "execution_count": 3,
   "metadata": {
    "ExecuteTime": {
     "end_time": "2018-05-01T18:09:03.262179Z",
     "start_time": "2018-05-01T18:09:03.045474Z"
    }
   },
   "outputs": [
    {
     "ename": "AssertionError",
     "evalue": "",
     "output_type": "error",
     "traceback": [
      "\u001b[0;31m---------------------------------------------------------------------------\u001b[0m",
      "\u001b[0;31mAssertionError\u001b[0m                            Traceback (most recent call last)",
      "\u001b[0;32m<ipython-input-3-c9f9598a0ab8>\u001b[0m in \u001b[0;36m<module>\u001b[0;34m()\u001b[0m\n\u001b[1;32m      1\u001b[0m \u001b[0mGRCH_DIRECTORY_PATH\u001b[0m \u001b[0;34m=\u001b[0m \u001b[0mclean_path\u001b[0m\u001b[0;34m(\u001b[0m\u001b[0;34m'~/Jumis/sequencing_process'\u001b[0m\u001b[0;34m)\u001b[0m\u001b[0;34m\u001b[0m\u001b[0m\n\u001b[0;32m----> 2\u001b[0;31m \u001b[0;32massert\u001b[0m \u001b[0mos\u001b[0m\u001b[0;34m.\u001b[0m\u001b[0mpath\u001b[0m\u001b[0;34m.\u001b[0m\u001b[0misdir\u001b[0m\u001b[0;34m(\u001b[0m\u001b[0mGRCH_DIRECTORY_PATH\u001b[0m\u001b[0;34m)\u001b[0m\u001b[0;34m\u001b[0m\u001b[0m\n\u001b[0m\u001b[1;32m      3\u001b[0m \u001b[0;34m\u001b[0m\u001b[0m\n\u001b[1;32m      4\u001b[0m \u001b[0mDIRECTORY_PATH\u001b[0m \u001b[0;34m=\u001b[0m \u001b[0mclean_path\u001b[0m\u001b[0;34m(\u001b[0m\u001b[0;34m'../simulation'\u001b[0m\u001b[0;34m)\u001b[0m\u001b[0;34m\u001b[0m\u001b[0m\n\u001b[1;32m      5\u001b[0m \u001b[0;32massert\u001b[0m \u001b[0mos\u001b[0m\u001b[0;34m.\u001b[0m\u001b[0mpath\u001b[0m\u001b[0;34m.\u001b[0m\u001b[0misdir\u001b[0m\u001b[0;34m(\u001b[0m\u001b[0mDIRECTORY_PATH\u001b[0m\u001b[0;34m)\u001b[0m\u001b[0;34m\u001b[0m\u001b[0m\n",
      "\u001b[0;31mAssertionError\u001b[0m: "
     ]
    }
   ],
   "source": [
    "GRCH_DIRECTORY_PATH = clean_path('~/Jumis/sequencing_process')\n",
    "assert os.path.isdir(GRCH_DIRECTORY_PATH)\n",
    "\n",
    "DIRECTORY_PATH = clean_path('../simulation')\n",
    "assert os.path.isdir(DIRECTORY_PATH)\n",
    "\n",
    "REGIONS = ['chr{}'.format(i) for i in range(1, 23)] + [\n",
    "    'chrX',\n",
    "    'chrY',\n",
    "    'chrM',\n",
    "]\n",
    "\n",
    "N_JOB = 2\n",
    "MEMORY = '8G'\n",
    "OVERWRITE = True\n",
    "\n",
    "VARIANT_METHOD = 'freebayes'\n",
    "\n",
    "CLINVAR_VERSION = '20180128'"
   ]
  },
  {
   "cell_type": "code",
   "execution_count": null,
   "metadata": {
    "ExecuteTime": {
     "end_time": "2018-05-01T18:09:03.263680Z",
     "start_time": "2018-05-01T18:09:02.781Z"
    }
   },
   "outputs": [],
   "source": [
    "try:\n",
    "    FASTA_GZ_FILE_PATH = make_reference_genome(GRCH_DIRECTORY_PATH)\n",
    "\n",
    "except FileExistsError:\n",
    "    FASTA_GZ_FILE_PATH = os.path.join(\n",
    "        GRCH_DIRECTORY_PATH,\n",
    "        'GCA_000001405.15_GRCh38_full_plus_hs38DH-extra_analysis_set.fa.gz')\n",
    "\n",
    "    FASTA_FILE_PATH = os.path.splitext(FASTA_GZ_FILE_PATH)[0]\n",
    "    assert os.path.isfile(FASTA_FILE_PATH)\n",
    "\n",
    "try:\n",
    "    CLINVAR_VCF_GZ_FILE_PATH = download_clinvar_vcf_gz(\n",
    "        GRCH_DIRECTORY_PATH, version=CLINVAR_VERSION)\n",
    "\n",
    "except FileExistsError:\n",
    "    CLINVAR_VCF_GZ_FILE_PATH = os.path.join(GRCH_DIRECTORY_PATH, [\n",
    "        file_name for file_name in os.listdir(GRCH_DIRECTORY_PATH)\n",
    "        if 'clinvar' in file_name and file_name.endswith('.gz')\n",
    "    ][0])"
   ]
  },
  {
   "cell_type": "code",
   "execution_count": null,
   "metadata": {
    "ExecuteTime": {
     "end_time": "2018-05-01T18:09:03.265991Z",
     "start_time": "2018-05-01T18:09:02.786Z"
    }
   },
   "outputs": [],
   "source": [
    "fastq_gz_0_file_path = os.path.join(DIRECTORY_PATH, 'genome.0.fastq.gz')\n",
    "assert os.path.isfile(fastq_gz_0_file_path)\n",
    "\n",
    "fastq_gz_1_file_path = os.path.join(DIRECTORY_PATH, 'genome.1.fastq.gz')\n",
    "assert os.path.isfile(fastq_gz_1_file_path)\n",
    "\n",
    "fastq_gz_0_trimmed_file_path, fastq_gz_1_trimmed_file_path = trim_fastq_gzs_using_skewer(\n",
    "    (\n",
    "        fastq_gz_0_file_path,\n",
    "        fastq_gz_1_file_path, ),\n",
    "    output_directory_path=os.path.join(DIRECTORY_PATH, 'trimmed_fastq_gz'),\n",
    "    n_job=N_JOB,\n",
    "    overwrite=OVERWRITE)\n",
    "\n",
    "check_fastq_gzs_using_fastqc(\n",
    "    (\n",
    "        fastq_gz_0_file_path,\n",
    "        fastq_gz_1_file_path,\n",
    "        fastq_gz_0_trimmed_file_path,\n",
    "        fastq_gz_1_trimmed_file_path, ),\n",
    "    n_job=N_JOB,\n",
    "    overwrite=OVERWRITE)"
   ]
  },
  {
   "cell_type": "code",
   "execution_count": null,
   "metadata": {
    "ExecuteTime": {
     "end_time": "2018-05-01T18:09:03.268408Z",
     "start_time": "2018-05-01T18:09:02.788Z"
    },
    "scrolled": false
   },
   "outputs": [],
   "source": [
    "bam_file_path = align_fastq_gzs_using_bwa_mem(\n",
    "    (\n",
    "        fastq_gz_0_trimmed_file_path,\n",
    "        fastq_gz_1_trimmed_file_path, ),\n",
    "    FASTA_GZ_FILE_PATH,\n",
    "    n_job=N_JOB,\n",
    "    output_bam_file_path=os.path.join(DIRECTORY_PATH, 'aligned.bam'),\n",
    "    overwrite=OVERWRITE)\n",
    "\n",
    "sorted_and_indexed_bam_file_path = sort_and_index_bam_using_samtools_sort_and_index(\n",
    "    bam_file_path,\n",
    "    remove_input_bam_file_path=True,\n",
    "    n_job=N_JOB,\n",
    "    overwrite=OVERWRITE)\n",
    "\n",
    "duplicate_removed_bam_file_path = mark_duplicates_in_bam_using_picard_markduplicates(\n",
    "    sorted_and_indexed_bam_file_path,\n",
    "    memory=MEMORY,\n",
    "    remove_duplicates=True,\n",
    "    remove_input_bam_file_path_and_its_index=True,\n",
    "    n_job=N_JOB,\n",
    "    output_bam_file_path=os.path.join(DIRECTORY_PATH, 'duplicate_removed.bam'),\n",
    "    overwrite=OVERWRITE)\n",
    "\n",
    "check_bam_using_samtools_flagstat(\n",
    "    duplicate_removed_bam_file_path, n_job=N_JOB, overwrite=OVERWRITE)"
   ]
  },
  {
   "cell_type": "code",
   "execution_count": null,
   "metadata": {
    "ExecuteTime": {
     "end_time": "2018-05-01T18:09:03.271741Z",
     "start_time": "2018-05-01T18:09:02.792Z"
    },
    "scrolled": false
   },
   "outputs": [],
   "source": [
    "if VARIANT_METHOD == 'freebayes':\n",
    "\n",
    "    vcf_gz_file_path = get_variants_from_bam_using_freebayes_and_multiprocess(\n",
    "        duplicate_removed_bam_file_path,\n",
    "        FASTA_FILE_PATH,\n",
    "        REGIONS,\n",
    "        n_job=N_JOB,\n",
    "        output_vcf_file_path=os.path.join(DIRECTORY_PATH,\n",
    "                                          '{}.vcf'.format(VARIANT_METHOD)),\n",
    "        overwrite=OVERWRITE)\n",
    "\n",
    "    keep_filters = ()\n",
    "    include_expression = '10<=DP & 30<=QUAL & 10<=(QUAL/AO) & 1<=SRF & 1<=SRR & 1<=SAF & 1<=SAR & 1<=RPR & 1<=RPL'\n",
    "\n",
    "elif VARIANT_METHOD == 'strelka':\n",
    "\n",
    "    vcf_gz_file_path = get_variants_from_bam_using_strelka(\n",
    "        duplicate_removed_bam_file_path,\n",
    "        FASTA_FILE_PATH,\n",
    "        os.path.join(DIRECTORY_PATH, 'strelka'),\n",
    "        n_job=N_JOB,\n",
    "        overwrite=OVERWRITE)\n",
    "\n",
    "    keep_filters = ('PASS', )\n",
    "    include_expression = '30<=QUAL'\n",
    "\n",
    "else:\n",
    "    raise ValueError('Unknown VARIANT_METHOD: {}.'.format(VARIANT_METHOD))"
   ]
  },
  {
   "cell_type": "code",
   "execution_count": null,
   "metadata": {
    "ExecuteTime": {
     "end_time": "2018-05-01T18:09:03.273513Z",
     "start_time": "2018-05-01T18:09:02.795Z"
    },
    "scrolled": false
   },
   "outputs": [],
   "source": [
    "filtered_vcf_gz_file_path = filter_vcf_gz_using_bcftools_view(\n",
    "    vcf_gz_file_path,\n",
    "    regions=REGIONS,\n",
    "    keep_filters=keep_filters,\n",
    "    include_expression=include_expression,\n",
    "    n_job=N_JOB,\n",
    "    output_vcf_file_path=os.path.join(DIRECTORY_PATH, 'filtered.vcf'),\n",
    "    overwrite=OVERWRITE)\n",
    "\n",
    "chromosome_renamed_vcf_gz_file_path = rename_chromosome_of_vcf_gz_using_bcftools_annotate(\n",
    "    filtered_vcf_gz_file_path,\n",
    "    remove_input_vcf_gz_file_path_and_its_index=True,\n",
    "    n_job=N_JOB,\n",
    "    output_vcf_file_path=filtered_vcf_gz_file_path.replace(\n",
    "        '.vcf.gz', '.chromosome_renamed.vcf'),\n",
    "    overwrite=OVERWRITE)\n",
    "\n",
    "snpeff_annotated_vcf_gz_file_path = annotate_vcf_gz_using_snpeff(\n",
    "    chromosome_renamed_vcf_gz_file_path,\n",
    "    'GRCh38.86',\n",
    "    memory=MEMORY,\n",
    "    remove_input_vcf_gz_file_path_and_its_index=True,\n",
    "    n_job=N_JOB,\n",
    "    output_vcf_file_path=chromosome_renamed_vcf_gz_file_path.replace(\n",
    "        '.vcf.gz', '.snpeff.vcf'),\n",
    "    overwrite=OVERWRITE)\n",
    "\n",
    "clinvar_annotated_vcf_gz_file_path = annotate_vcf_gz_using_bcftools_annotate(\n",
    "    snpeff_annotated_vcf_gz_file_path,\n",
    "    CLINVAR_VCF_GZ_FILE_PATH, ('--columns =ID,INFO', ),\n",
    "    remove_input_vcf_gz_file_path_and_its_index=True,\n",
    "    n_job=N_JOB,\n",
    "    output_vcf_file_path=snpeff_annotated_vcf_gz_file_path.replace(\n",
    "        '.vcf.gz', '.clinvar.vcf'),\n",
    "    overwrite=OVERWRITE)"
   ]
  }
 ],
 "metadata": {
  "kernelspec": {
   "display_name": "Python 3",
   "language": "python",
   "name": "python3"
  },
  "language_info": {
   "codemirror_mode": {
    "name": "ipython",
    "version": 3
   },
   "file_extension": ".py",
   "mimetype": "text/x-python",
   "name": "python",
   "nbconvert_exporter": "python",
   "pygments_lexer": "ipython3",
   "version": "3.6.5"
  }
 },
 "nbformat": 4,
 "nbformat_minor": 2
}
