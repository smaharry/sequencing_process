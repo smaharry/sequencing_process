{
 "cells": [
  {
   "cell_type": "code",
   "execution_count": 1,
   "metadata": {
    "ExecuteTime": {
     "end_time": "2017-11-17T01:24:49.105496Z",
     "start_time": "2017-11-17T01:24:48.720078Z"
    }
   },
   "outputs": [],
   "source": [
    "import os\n",
    "import multiprocessing as mp\n",
    "import sys\n",
    "\n",
    "sys.path.insert(0, '..')\n",
    "from sequencing_process.plot_fastq_gz_or_bam import plot_fastq_gz_or_bam\n",
    "from sequencing_process.process_fastq_gz import align_fastq_gzs_using_bwa\n",
    "from sequencing_process.process_bam import call_variants_on_bam_using_freebayes_and_multiprocess\n",
    "from sequencing_process.process_vcf_gz import annotate_vcf_gz_using_snpeff, annotate_vcf_gz_using_bcftools, filter_vcf_gz_using_bcftools\n",
    "\n",
    "%load_ext autoreload\n",
    "%autoreload 2\n",
    "%matplotlib inline"
   ]
  },
  {
   "cell_type": "code",
   "execution_count": 11,
   "metadata": {
    "ExecuteTime": {
     "end_time": "2017-11-17T01:37:22.722298Z",
     "start_time": "2017-11-17T01:37:22.693688Z"
    }
   },
   "outputs": [],
   "source": [
    "GRCH_DIRECTORY_PATH = '/home/k/Downloads/grch'\n",
    "assert os.path.isdir(GRCH_DIRECTORY_PATH)\n",
    "\n",
    "# make_reference_genome_for_sequencing_process(GRCH_DIRECTORY_PATH)\n",
    "\n",
    "FASTA_GZ_FILE_PATH = os.path.join(\n",
    "    GRCH_DIRECTORY_PATH,\n",
    "    'GCA_000001405.15_GRCh38_full_plus_hs38DH-extra_analysis_set.fa.gz')\n",
    "assert os.path.isfile(FASTA_GZ_FILE_PATH)\n",
    "\n",
    "CLINVAR_VCF_GZ_FILE_PATH = os.path.join(GRCH_DIRECTORY_PATH, 'clinvar.vcf.gz')\n",
    "assert os.path.isfile(CLINVAR_VCF_GZ_FILE_PATH)\n",
    "\n",
    "N_JOBS = 30\n",
    "OVERWRITE = True"
   ]
  },
  {
   "cell_type": "code",
   "execution_count": 3,
   "metadata": {
    "ExecuteTime": {
     "end_time": "2017-11-17T01:24:49.291367Z",
     "start_time": "2017-11-17T01:24:49.144830Z"
    }
   },
   "outputs": [
    {
     "name": "stdout",
     "output_type": "stream",
     "text": [
      "fastqp --output simulation_0.fq.gz.plot --text simulation_0.fq.gz.plot.tsv simulation_0.fq.gz\n",
      "<multiprocessing.pool.ApplyResult object at 0x7f83c00c9f28>\n",
      "<multiprocessing.pool.ApplyResult object at 0x7f83c0057128>\n"
     ]
    }
   ],
   "source": [
    "FASTQ_GZ_0_FILE_PATH = '/home/k/Downloads/t1.peripheral_blood.genome.dna.0.fastq.gz'\n",
    "assert os.path.isfile(FASTQ_GZ_0_FILE_PATH)\n",
    "\n",
    "FASTQ_GZ_1_FILE_PATH = '/home/k/Downloads/t1.peripheral_blood.genome.dna.0.fastq.gz'\n",
    "assert os.path.isfile(FASTQ_GZ_1_FILE_PATH)\n",
    "\n",
    "with mp.Pool(processes=N_JOBS) as p:\n",
    "\n",
    "    r0 = p.apply_async(\n",
    "        plot_fastq_gz_or_bam,\n",
    "        args=[FASTQ_GZ_0_FILE_PATH],\n",
    "        kwds=dict(overwrite=OVERWRITE))\n",
    "    print(r0)\n",
    "\n",
    "    r1 = p.apply_async(\n",
    "        plot_fastq_gz_or_bam,\n",
    "        args=[FASTQ_GZ_1_FILE_PATH],\n",
    "        kwds=dict(overwrite=OVERWRITE))\n",
    "    print(r1)"
   ]
  },
  {
   "cell_type": "code",
   "execution_count": 4,
   "metadata": {
    "ExecuteTime": {
     "end_time": "2017-11-17T01:25:45.398987Z",
     "start_time": "2017-11-17T01:24:49.294658Z"
    }
   },
   "outputs": [
    {
     "name": "stdout",
     "output_type": "stream",
     "text": [
      "bwa mem -t 2 /home/k/Downloads/grch/GCA_000001405.15_GRCh38_full_plus_hs38DH-extra_analysis_set.fa.gz simulation_0.fq.gz simulation_1.fq.gz | samtools view -Sb --threads 2 > align_fastq_gzs_using_bwa.bam\n",
      "samtools sort --threads 2 align_fastq_gzs_using_bwa.bam > sort_bam_using_samtools.bam\n",
      "samtools index -@ 2 sort_bam_using_samtools.bam\n",
      "fastqp --output sort_bam_using_samtools.bam.plot --text sort_bam_using_samtools.bam.plot.tsv sort_bam_using_samtools.bam\n"
     ]
    }
   ],
   "source": [
    "BAM_FILE_PATH = None\n",
    "\n",
    "if BAM_FILE_PATH:\n",
    "    assert os.path.isfile(BAM_FILE_PATH)\n",
    "\n",
    "else:\n",
    "    BAM_FILE_PATH = align_fastq_gzs_using_bwa(\n",
    "        FASTA_GZ_FILE_PATH, [\n",
    "            FASTQ_GZ_0_FILE_PATH,\n",
    "            FASTQ_GZ_1_FILE_PATH,\n",
    "        ],\n",
    "        n_jobs=N_JOBS,\n",
    "        overwrite=OVERWRITE)\n",
    "    \n",
    "    plot_fastq_gz_or_bam(BAM_FILE_PATH, overwrite=OVERWRITE)"
   ]
  },
  {
   "cell_type": "code",
   "execution_count": 8,
   "metadata": {
    "ExecuteTime": {
     "end_time": "2017-11-17T01:29:43.070985Z",
     "start_time": "2017-11-17T01:29:42.798291Z"
    },
    "scrolled": false
   },
   "outputs": [
    {
     "name": "stdout",
     "output_type": "stream",
     "text": [
      "freebayes --fasta-reference /home/k/Downloads/grch/GCA_000001405.15_GRCh38_full_plus_hs38DH-extra_analysis_set.fa --region chr5 sort_bam_using_samtools.bam > call_variants_on_bam_using_freebayes.--region_chr5.vcf\n",
      "freebayes --fasta-reference /home/k/Downloads/grch/GCA_000001405.15_GRCh38_full_plus_hs38DH-extra_analysis_set.fa --region chr1 sort_bam_using_samtools.bam > call_variants_on_bam_using_freebayes.--region_chr1.vcf\n",
      "Uh oh :( ... Warning: malformed fasta index file /home/k/Downloads/grch/GCA_000001405.15_GRCh38_full_plus_hs38DH-extra_analysis_set.fa.faidoes not have enough fields @ line 2842\n",
      "\n",
      "HLA-A*01:01:01:01\tHLA00001\t3503\t3261547044\t72\t73\n",
      "\n",
      "freebayes --fasta-reference /home/k/Downloads/grch/GCA_000001405.15_GRCh38_full_plus_hs38DH-extra_analysis_set.fa --region chr9 sort_bam_using_samtools.bam > call_variants_on_bam_using_freebayes.--region_chr9.vcf\n",
      "Uh oh :( ... Warning: malformed fasta index file /home/k/Downloads/grch/GCA_000001405.15_GRCh38_full_plus_hs38DH-extra_analysis_set.fa.faidoes not have enough fields @ line 2842\n",
      "\n",
      "HLA-A*01:01:01:01\tHLA00001\t3503\t3261547044\t72\t73\n",
      "\n",
      "freebayes --fasta-reference /home/k/Downloads/grch/GCA_000001405.15_GRCh38_full_plus_hs38DH-extra_analysis_set.fa --region chr13 sort_bam_using_samtools.bam > call_variants_on_bam_using_freebayes.--region_chr13.vcf\n",
      "Uh oh :( ... Warning: malformed fasta index file /home/k/Downloads/grch/GCA_000001405.15_GRCh38_full_plus_hs38DH-extra_analysis_set.fa.faidoes not have enough fields @ line 2842\n",
      "\n",
      "HLA-A*01:01:01:01\tHLA00001\t3503\t3261547044\t72\t73\n",
      "\n",
      "freebayes --fasta-reference /home/k/Downloads/grch/GCA_000001405.15_GRCh38_full_plus_hs38DH-extra_analysis_set.fa --region chr17 sort_bam_using_samtools.bam > call_variants_on_bam_using_freebayes.--region_chr17.vcf\n",
      "Uh oh :( ... Warning: malformed fasta index file /home/k/Downloads/grch/GCA_000001405.15_GRCh38_full_plus_hs38DH-extra_analysis_set.fa.faidoes not have enough fields @ line 2842\n",
      "\n",
      "HLA-A*01:01:01:01\tHLA00001\t3503\t3261547044\t72\t73\n",
      "\n",
      "Uh oh :( ... Warning: malformed fasta index file /home/k/Downloads/grch/GCA_000001405.15_GRCh38_full_plus_hs38DH-extra_analysis_set.fa.faidoes not have enough fields @ line 2842\n",
      "\n",
      "HLA-A*01:01:01:01\tHLA00001\t3503\t3261547044\t72\t73\n",
      "\n",
      "freebayes --fasta-reference /home/k/Downloads/grch/GCA_000001405.15_GRCh38_full_plus_hs38DH-extra_analysis_set.fa --region chr21 sort_bam_using_samtools.bam > call_variants_on_bam_using_freebayes.--region_chr21.vcf\n",
      "freebayes --fasta-reference /home/k/Downloads/grch/GCA_000001405.15_GRCh38_full_plus_hs38DH-extra_analysis_set.fa --region chrM sort_bam_using_samtools.bam > call_variants_on_bam_using_freebayes.--region_chrM.vcf\n",
      "Uh oh :( ... Warning: malformed fasta index file /home/k/Downloads/grch/GCA_000001405.15_GRCh38_full_plus_hs38DH-extra_analysis_set.fa.faidoes not have enough fields @ line 2842\n",
      "\n",
      "HLA-A*01:01:01:01\tHLA00001\t3503\t3261547044\t72\t73\n",
      "\n",
      "Uh oh :( ... Warning: malformed fasta index file /home/k/Downloads/grch/GCA_000001405.15_GRCh38_full_plus_hs38DH-extra_analysis_set.fa.faidoes not have enough fields @ line 2842\n",
      "\n",
      "HLA-A*01:01:01:01\tHLA00001\t3503\t3261547044\t72\t73\n",
      "\n"
     ]
    },
    {
     "ename": "MaybeEncodingError",
     "evalue": "Error sending result: '<multiprocessing.pool.ExceptionWithTraceback object at 0x7f8414bcf630>'. Reason: 'TypeError(\"cannot serialize '_io.TextIOWrapper' object\",)'",
     "output_type": "error",
     "traceback": [
      "\u001b[0;31m---------------------------------------------------------------------------\u001b[0m",
      "\u001b[0;31mMaybeEncodingError\u001b[0m                        Traceback (most recent call last)",
      "\u001b[0;32m<ipython-input-8-db79fd235e95>\u001b[0m in \u001b[0;36m<module>\u001b[0;34m()\u001b[0m\n\u001b[1;32m     10\u001b[0m                           for i in range(1, 23)] + ['chrX', 'chrY', 'chrM'],\n\u001b[1;32m     11\u001b[0m         \u001b[0mn_jobs\u001b[0m\u001b[0;34m=\u001b[0m\u001b[0mN_JOBS\u001b[0m\u001b[0;34m,\u001b[0m\u001b[0;34m\u001b[0m\u001b[0m\n\u001b[0;32m---> 12\u001b[0;31m         overwrite=OVERWRITE)\n\u001b[0m\u001b[1;32m     13\u001b[0m \u001b[0;34m\u001b[0m\u001b[0m\n\u001b[1;32m     14\u001b[0m     VCF_GZ_FILE_PATH = annotate_vcf_gz_using_snpeff(\n",
      "\u001b[0;32m~/Jumis/github_kwatme/sequencing_process/sequencing_process/process_bam.py\u001b[0m in \u001b[0;36mcall_variants_on_bam_using_freebayes_and_multiprocess\u001b[0;34m(bam_file_path, fasta_file_path, regions, n_jobs, overwrite)\u001b[0m\n\u001b[1;32m    103\u001b[0m         \u001b[0mcall_variants_on_bam_using_freebayes\u001b[0m\u001b[0;34m,\u001b[0m\u001b[0;34m\u001b[0m\u001b[0m\n\u001b[1;32m    104\u001b[0m         \u001b[0;34m[\u001b[0m\u001b[0;34m[\u001b[0m\u001b[0mbam_file_path\u001b[0m\u001b[0;34m,\u001b[0m \u001b[0mfasta_file_path\u001b[0m\u001b[0;34m,\u001b[0m \u001b[0mr\u001b[0m\u001b[0;34m,\u001b[0m \u001b[0;36m1\u001b[0m\u001b[0;34m,\u001b[0m \u001b[0moverwrite\u001b[0m\u001b[0;34m]\u001b[0m \u001b[0;32mfor\u001b[0m \u001b[0mr\u001b[0m \u001b[0;32min\u001b[0m \u001b[0mregions\u001b[0m\u001b[0;34m]\u001b[0m\u001b[0;34m,\u001b[0m\u001b[0;34m\u001b[0m\u001b[0m\n\u001b[0;32m--> 105\u001b[0;31m         n_jobs=n_jobs)\n\u001b[0m\u001b[1;32m    106\u001b[0m \u001b[0;34m\u001b[0m\u001b[0m\n\u001b[1;32m    107\u001b[0m     return concatenate_vcf_gzs_using_bcftools(\n",
      "\u001b[0;32m~/Jumis/github_kwatme/sequencing_process/sequencing_process/support/support/multiprocess.py\u001b[0m in \u001b[0;36mmultiprocess\u001b[0;34m(function, args, n_jobs, random_seed)\u001b[0m\n\u001b[1;32m     24\u001b[0m \u001b[0;34m\u001b[0m\u001b[0m\n\u001b[1;32m     25\u001b[0m     \u001b[0;32mwith\u001b[0m \u001b[0mPool\u001b[0m\u001b[0;34m(\u001b[0m\u001b[0mn_jobs\u001b[0m\u001b[0;34m)\u001b[0m \u001b[0;32mas\u001b[0m \u001b[0mp\u001b[0m\u001b[0;34m:\u001b[0m\u001b[0;34m\u001b[0m\u001b[0m\n\u001b[0;32m---> 26\u001b[0;31m         \u001b[0;32mreturn\u001b[0m \u001b[0mp\u001b[0m\u001b[0;34m.\u001b[0m\u001b[0mstarmap\u001b[0m\u001b[0;34m(\u001b[0m\u001b[0mfunction\u001b[0m\u001b[0;34m,\u001b[0m \u001b[0margs\u001b[0m\u001b[0;34m)\u001b[0m\u001b[0;34m\u001b[0m\u001b[0m\n\u001b[0m",
      "\u001b[0;32m~/Jumis/conda/lib/python3.6/multiprocessing/pool.py\u001b[0m in \u001b[0;36mstarmap\u001b[0;34m(self, func, iterable, chunksize)\u001b[0m\n\u001b[1;32m    272\u001b[0m         \u001b[0;31m`\u001b[0m\u001b[0mfunc\u001b[0m\u001b[0;31m`\u001b[0m \u001b[0;32mand\u001b[0m \u001b[0;34m(\u001b[0m\u001b[0ma\u001b[0m\u001b[0;34m,\u001b[0m \u001b[0mb\u001b[0m\u001b[0;34m)\u001b[0m \u001b[0mbecomes\u001b[0m \u001b[0mfunc\u001b[0m\u001b[0;34m(\u001b[0m\u001b[0ma\u001b[0m\u001b[0;34m,\u001b[0m \u001b[0mb\u001b[0m\u001b[0;34m)\u001b[0m\u001b[0;34m.\u001b[0m\u001b[0;34m\u001b[0m\u001b[0m\n\u001b[1;32m    273\u001b[0m         '''\n\u001b[0;32m--> 274\u001b[0;31m         \u001b[0;32mreturn\u001b[0m \u001b[0mself\u001b[0m\u001b[0;34m.\u001b[0m\u001b[0m_map_async\u001b[0m\u001b[0;34m(\u001b[0m\u001b[0mfunc\u001b[0m\u001b[0;34m,\u001b[0m \u001b[0miterable\u001b[0m\u001b[0;34m,\u001b[0m \u001b[0mstarmapstar\u001b[0m\u001b[0;34m,\u001b[0m \u001b[0mchunksize\u001b[0m\u001b[0;34m)\u001b[0m\u001b[0;34m.\u001b[0m\u001b[0mget\u001b[0m\u001b[0;34m(\u001b[0m\u001b[0;34m)\u001b[0m\u001b[0;34m\u001b[0m\u001b[0m\n\u001b[0m\u001b[1;32m    275\u001b[0m \u001b[0;34m\u001b[0m\u001b[0m\n\u001b[1;32m    276\u001b[0m     def starmap_async(self, func, iterable, chunksize=None, callback=None,\n",
      "\u001b[0;32m~/Jumis/conda/lib/python3.6/multiprocessing/pool.py\u001b[0m in \u001b[0;36mget\u001b[0;34m(self, timeout)\u001b[0m\n\u001b[1;32m    642\u001b[0m             \u001b[0;32mreturn\u001b[0m \u001b[0mself\u001b[0m\u001b[0;34m.\u001b[0m\u001b[0m_value\u001b[0m\u001b[0;34m\u001b[0m\u001b[0m\n\u001b[1;32m    643\u001b[0m         \u001b[0;32melse\u001b[0m\u001b[0;34m:\u001b[0m\u001b[0;34m\u001b[0m\u001b[0m\n\u001b[0;32m--> 644\u001b[0;31m             \u001b[0;32mraise\u001b[0m \u001b[0mself\u001b[0m\u001b[0;34m.\u001b[0m\u001b[0m_value\u001b[0m\u001b[0;34m\u001b[0m\u001b[0m\n\u001b[0m\u001b[1;32m    645\u001b[0m \u001b[0;34m\u001b[0m\u001b[0m\n\u001b[1;32m    646\u001b[0m     \u001b[0;32mdef\u001b[0m \u001b[0m_set\u001b[0m\u001b[0;34m(\u001b[0m\u001b[0mself\u001b[0m\u001b[0;34m,\u001b[0m \u001b[0mi\u001b[0m\u001b[0;34m,\u001b[0m \u001b[0mobj\u001b[0m\u001b[0;34m)\u001b[0m\u001b[0;34m:\u001b[0m\u001b[0;34m\u001b[0m\u001b[0m\n",
      "\u001b[0;31mMaybeEncodingError\u001b[0m: Error sending result: '<multiprocessing.pool.ExceptionWithTraceback object at 0x7f8414bcf630>'. Reason: 'TypeError(\"cannot serialize '_io.TextIOWrapper' object\",)'"
     ]
    }
   ],
   "source": [
    "VCF_GZ_FILE_PATH = None\n",
    "\n",
    "if VCF_GZ_FILE_PATH:\n",
    "    assert os.path.isfile(VCF_GZ_FILE_PATH)\n",
    "\n",
    "else:\n",
    "    VCF_GZ_FILE_PATH = call_variants_on_bam_using_freebayes_and_multiprocess(\n",
    "        BAM_FILE_PATH,\n",
    "        FASTA_FILE_PATH, ['chr{}'.format(i)\n",
    "                          for i in range(1, 23)] + ['chrX', 'chrY', 'chrM'],\n",
    "        n_jobs=N_JOBS,\n",
    "        overwrite=OVERWRITE)\n",
    "\n",
    "    VCF_GZ_FILE_PATH = annotate_vcf_gz_using_snpeff(\n",
    "        VCF_GZ_FILE_PATH, n_jobs=N_JOBS, overwrite=OVERWRITE)\n",
    "\n",
    "    VCF_GZ_FILE_PATH = annotate_vcf_gz_using_bcftools(\n",
    "        VCF_GZ_FILE_PATH,\n",
    "        CLINVAR_VCF_GZ_FILE_PATH,\n",
    "        '--columns =ID,INFO',\n",
    "        n_jobs=N_JOBS,\n",
    "        overwrite=OVERWRITE)\n",
    "\n",
    "    VCF_GZ_FILE_PATH = filter_vcf_gz_using_bcftools(\n",
    "        VCF_GZ_FILE_PATH, n_jobs=N_JOBS, overwrite=OVERWRITE)"
   ]
  },
  {
   "cell_type": "code",
   "execution_count": 6,
   "metadata": {
    "ExecuteTime": {
     "end_time": "2017-11-17T01:28:18.471999Z",
     "start_time": "2017-11-17T01:28:18.447245Z"
    }
   },
   "outputs": [
    {
     "data": {
      "text/plain": [
       "['1',\n",
       " '2',\n",
       " '3',\n",
       " '4',\n",
       " '5',\n",
       " '6',\n",
       " '7',\n",
       " '8',\n",
       " '9',\n",
       " '10',\n",
       " '11',\n",
       " '12',\n",
       " '13',\n",
       " '14',\n",
       " '15',\n",
       " '16',\n",
       " '17',\n",
       " '18',\n",
       " '19',\n",
       " '20',\n",
       " '21',\n",
       " '22',\n",
       " 'X',\n",
       " 'Y',\n",
       " 'MT']"
      ]
     },
     "execution_count": 6,
     "metadata": {},
     "output_type": "execute_result"
    }
   ],
   "source": [
    "[str(i) for i in range(1, 23)] + ['X', 'Y', 'MT']"
   ]
  },
  {
   "cell_type": "code",
   "execution_count": null,
   "metadata": {},
   "outputs": [],
   "source": []
  },
  {
   "cell_type": "code",
   "execution_count": null,
   "metadata": {},
   "outputs": [],
   "source": []
  }
 ],
 "metadata": {
  "kernelspec": {
   "display_name": "Python [default]",
   "language": "python",
   "name": "python3"
  },
  "language_info": {
   "codemirror_mode": {
    "name": "ipython",
    "version": 3
   },
   "file_extension": ".py",
   "mimetype": "text/x-python",
   "name": "python",
   "nbconvert_exporter": "python",
   "pygments_lexer": "ipython3",
   "version": "3.6.3"
  }
 },
 "nbformat": 4,
 "nbformat_minor": 2
}
