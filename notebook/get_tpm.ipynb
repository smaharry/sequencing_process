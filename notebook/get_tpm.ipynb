{
 "cells": [
  {
   "cell_type": "code",
   "execution_count": null,
   "metadata": {
    "ExecuteTime": {
     "end_time": "2017-11-16T08:49:10.513644Z",
     "start_time": "2017-11-16T08:49:10.028732Z"
    }
   },
   "outputs": [],
   "source": [
    "import multiprocessing as mp\n",
    "import os\n",
    "import sys\n",
    "\n",
    "import pandas as pd\n",
    "\n",
    "sys.path.insert(0, '..')\n",
    "from sequencing_process.plot_fastq_gz_or_bam import plot_fastq_gz_or_bam\n",
    "from sequencing_process.process_fastq_gz import count_transcripts_using_kallisto"
   ]
  },
  {
   "cell_type": "code",
   "execution_count": null,
   "metadata": {
    "ExecuteTime": {
     "end_time": "2017-11-16T08:49:10.514692Z",
     "start_time": "2017-11-16T08:49:10.015Z"
    }
   },
   "outputs": [],
   "source": [
    "CDNA_FASTA_GZ_FILE_PATH = '../../../data/grch/Homo_sapiens.GRCh38.cdna.all.fa.gz'\n",
    "assert os.path.exists(CDNA_FASTA_GZ_FILE_PATH)\n",
    "\n",
    "ENST_INFORMATION_FILE_PATH = '../../../data/enst_information.tsv'\n",
    "assert os.path.exists(ENST_INFORMATION_FILE_PATH)\n",
    "\n",
    "FASTQ_GZ_0_FILE_PATH = '../data/fastq/t1.tumor.rna.0.fastq.gz'\n",
    "assert os.path.exists(FASTQ_GZ_0_FILE_PATH)\n",
    "\n",
    "FASTQ_GZ_1_FILE_PATH = '../data/fastq/t1.tumor.rna.1.fastq.gz'\n",
    "assert os.path.exists(FASTQ_GZ_1_FILE_PATH)\n",
    "\n",
    "KALLISTO_OUTPUT_DIRECTORY_PATH = '../output/kallisto/'\n",
    "\n",
    "N_JOBS = 2\n",
    "OVER_WRITE = False"
   ]
  },
  {
   "cell_type": "code",
   "execution_count": null,
   "metadata": {
    "ExecuteTime": {
     "end_time": "2017-11-16T08:49:10.515779Z",
     "start_time": "2017-11-16T08:49:10.019Z"
    }
   },
   "outputs": [],
   "source": [
    "with mp.Pool(processes=N_JOBS) as p:\n",
    "\n",
    "    r0 = p.apply_async(\n",
    "        plot_fastq_gz_or_bam,\n",
    "        args=[FASTQ_GZ_0_FILE_PATH],\n",
    "        kwds=dict(overwrite=OVERWRITE))\n",
    "    print(r0)\n",
    "\n",
    "    r1 = p.apply_async(\n",
    "        plot_fastq_gz_or_bam,\n",
    "        args=[FASTQ_GZ_1_FILE_PATH],\n",
    "        kwds=dict(overwrite=OVERWRITE))\n",
    "    print(r1)"
   ]
  },
  {
   "cell_type": "code",
   "execution_count": null,
   "metadata": {
    "ExecuteTime": {
     "end_time": "2017-11-16T08:49:10.517235Z",
     "start_time": "2017-11-16T08:49:10.021Z"
    }
   },
   "outputs": [],
   "source": [
    "if not os.path.exists(\n",
    "        os.path.join(KALLISTO_OUTPUT_DIRECTORY_PATH, 'abundance.tsv')):\n",
    "\n",
    "    count_transcripts_using_kallisto(\n",
    "        CDNA_FASTA_GZ_FILE_PATH, [\n",
    "            FASTQ_GZ_0_FILE_PATH,\n",
    "            FASTQ_GZ_1_FILE_PATH,\n",
    "        ],\n",
    "        OUTPUT_DIRECTORY_PATH,\n",
    "        n_jobs=N_JOBS,\n",
    "        overwrite=OVERWRITE)"
   ]
  },
  {
   "cell_type": "code",
   "execution_count": null,
   "metadata": {
    "ExecuteTime": {
     "end_time": "2017-11-16T08:49:10.519005Z",
     "start_time": "2017-11-16T08:49:10.024Z"
    },
    "scrolled": true
   },
   "outputs": [],
   "source": [
    "tpm = pd.read_table(\n",
    "    os.path.join(KALLISTO_OUTPUT_DIRECTORY_PATH, 'abundance.tsv'),\n",
    "    index_col=0)['tpm']\n",
    "tpm"
   ]
  },
  {
   "cell_type": "code",
   "execution_count": null,
   "metadata": {
    "ExecuteTime": {
     "end_time": "2017-11-16T08:49:10.520621Z",
     "start_time": "2017-11-16T08:49:10.027Z"
    },
    "scrolled": true
   },
   "outputs": [],
   "source": [
    "enst_information = pd.read_table(ENST_INFORMATION_FILE_PATH, index_col=1)\n",
    "enst_to_gene_name = enst_information['Gene name'].to_dict()"
   ]
  },
  {
   "cell_type": "code",
   "execution_count": null,
   "metadata": {
    "ExecuteTime": {
     "end_time": "2017-11-16T08:49:10.522223Z",
     "start_time": "2017-11-16T08:49:10.030Z"
    },
    "scrolled": true
   },
   "outputs": [],
   "source": [
    "tpm.index = tpm.index.map(enst_to_gene_name.get)\n",
    "tpm_by_gene = tpm\n",
    "tpm_by_gene.index.name = 'Gene'\n",
    "tpm_by_gene"
   ]
  },
  {
   "cell_type": "code",
   "execution_count": null,
   "metadata": {
    "ExecuteTime": {
     "end_time": "2017-11-16T08:49:10.524213Z",
     "start_time": "2017-11-16T08:49:10.032Z"
    }
   },
   "outputs": [],
   "source": [
    "tpm_by_gene_max = tpm_by_gene.groupby(level=0).max()\n",
    "tpm_by_gene_max.name = 'TPM by Gene Max'\n",
    "tpm_by_gene_max"
   ]
  },
  {
   "cell_type": "code",
   "execution_count": null,
   "metadata": {
    "ExecuteTime": {
     "end_time": "2017-11-16T08:49:10.526229Z",
     "start_time": "2017-11-16T08:49:10.035Z"
    },
    "scrolled": true
   },
   "outputs": [],
   "source": [
    "fp = os.path.join(KALLISTO_OUTPUT_DIRECTORY_PATH, 'tpm_by_gene_max.tsv')\n",
    "if not os.path.exists(fp) or OVERWRITE:\n",
    "    tpm_by_gene_max.to_csv(fp, sep='\\t', header=True)"
   ]
  }
 ],
 "metadata": {
  "kernelspec": {
   "display_name": "Python [conda root]",
   "language": "python",
   "name": "conda-root-py"
  },
  "language_info": {
   "codemirror_mode": {
    "name": "ipython",
    "version": 3
   },
   "file_extension": ".py",
   "mimetype": "text/x-python",
   "name": "python",
   "nbconvert_exporter": "python",
   "pygments_lexer": "ipython3",
   "version": "3.6.3"
  }
 },
 "nbformat": 4,
 "nbformat_minor": 2
}
