{
 "cells": [
  {
   "cell_type": "code",
   "execution_count": 1,
   "metadata": {
    "ExecuteTime": {
     "end_time": "2017-11-17T21:52:49.532316Z",
     "start_time": "2017-11-17T21:52:49.121129Z"
    }
   },
   "outputs": [],
   "source": [
    "import os\n",
    "import multiprocessing as mp\n",
    "import sys\n",
    "\n",
    "sys.path.insert(0, '..')\n",
    "from sequencing_process.make_reference_genome_for_sequencing_process import make_reference_genome_for_sequencing_process\n",
    "from sequencing_process.plot_fastq_gz_or_bam import plot_fastq_gz_or_bam\n",
    "from sequencing_process.process_fastq_gz import align_fastq_gzs_using_bwa\n",
    "from sequencing_process.process_bam import sort_and_index_bam_using_samtools, call_variants_on_bam_using_freebayes_and_multiprocess\n",
    "from sequencing_process.process_vcf_gz import annotate_vcf_gz_using_snpeff, annotate_vcf_gz_using_bcftools, filter_vcf_gz_using_bcftools\n",
    "\n",
    "%load_ext autoreload\n",
    "%autoreload 2\n",
    "%matplotlib inline"
   ]
  },
  {
   "cell_type": "code",
   "execution_count": 2,
   "metadata": {
    "ExecuteTime": {
     "end_time": "2017-11-17T21:52:49.555528Z",
     "start_time": "2017-11-17T21:52:49.534218Z"
    }
   },
   "outputs": [],
   "source": [
    "GRCH_DIRECTORY_PATH = '/Volumes/Jumis/data/grch'\n",
    "assert os.path.isdir(GRCH_DIRECTORY_PATH)\n",
    "\n",
    "# make_reference_genome_for_sequencing_process(GRCH_DIRECTORY_PATH)\n",
    "\n",
    "FASTA_GZ_FILE_PATH = os.path.join(\n",
    "    GRCH_DIRECTORY_PATH,\n",
    "    'GCA_000001405.15_GRCh38_full_plus_hs38DH-extra_analysis_set.fa.gz')\n",
    "assert os.path.isfile(FASTA_GZ_FILE_PATH)\n",
    "\n",
    "FASTA_FILE_PATH = FASTA_GZ_FILE_PATH[:-3]\n",
    "assert os.path.isfile(FASTA_FILE_PATH)\n",
    "\n",
    "CLINVAR_VCF_GZ_FILE_PATH = os.path.join(GRCH_DIRECTORY_PATH, 'clinvar.vcf.gz')\n",
    "assert os.path.isfile(CLINVAR_VCF_GZ_FILE_PATH)\n",
    "\n",
    "N_JOBS = 2\n",
    "OVERWRITE = True\n",
    "\n",
    "PLOT = True"
   ]
  },
  {
   "cell_type": "code",
   "execution_count": 3,
   "metadata": {
    "ExecuteTime": {
     "end_time": "2017-11-17T21:52:49.587459Z",
     "start_time": "2017-11-17T21:52:49.557765Z"
    }
   },
   "outputs": [
    {
     "name": "stdout",
     "output_type": "stream",
     "text": [
      "fastqp --output ./5k/simulation.bwa.read2.fastq.gz.plot --text ./5k/simulation.bwa.read2.fastq.gz.plot.tsv ./5k/simulation.bwa.read2.fastq.gz\n",
      "fastqp --output ./5k/simulation.bwa.read1.fastq.gz.plot --text ./5k/simulation.bwa.read1.fastq.gz.plot.tsv ./5k/simulation.bwa.read1.fastq.gz\n"
     ]
    }
   ],
   "source": [
    "FASTQ_GZ_0_FILE_PATH = './5k/simulation.bwa.read1.fastq.gz'\n",
    "assert os.path.isfile(FASTQ_GZ_0_FILE_PATH)\n",
    "\n",
    "FASTQ_GZ_1_FILE_PATH = './5k/simulation.bwa.read2.fastq.gz'\n",
    "assert os.path.isfile(FASTQ_GZ_1_FILE_PATH)\n",
    "\n",
    "if PLOT:\n",
    "    p = mp.Pool(processes=2)\n",
    "\n",
    "    r0 = p.apply_async(\n",
    "        plot_fastq_gz_or_bam,\n",
    "        args=[FASTQ_GZ_0_FILE_PATH],\n",
    "        kwds=dict(overwrite=OVERWRITE))\n",
    "\n",
    "    r1 = p.apply_async(\n",
    "        plot_fastq_gz_or_bam,\n",
    "        args=[FASTQ_GZ_1_FILE_PATH],\n",
    "        kwds=dict(overwrite=OVERWRITE))"
   ]
  },
  {
   "cell_type": "code",
   "execution_count": 4,
   "metadata": {
    "ExecuteTime": {
     "end_time": "2017-11-17T21:54:01.124371Z",
     "start_time": "2017-11-17T21:52:49.590623Z"
    }
   },
   "outputs": [
    {
     "name": "stdout",
     "output_type": "stream",
     "text": [
      "bwa mem -t 2 /Volumes/Jumis/data/grch/GCA_000001405.15_GRCh38_full_plus_hs38DH-extra_analysis_set.fa.gz ./5k/simulation.bwa.read1.fastq.gz ./5k/simulation.bwa.read2.fastq.gz | samtools view -Sb --threads 2 > ./5k/align_fastq_gzs_using_bwa.bam\n",
      "samtools sort --threads 2 ./5k/align_fastq_gzs_using_bwa.bam > ./5k/sort_and_index_bam_using_samtools.bam\n",
      "Consider removing unsorted .bam file ./5k/align_fastq_gzs_using_bwa.bam.\n",
      "samtools index -@ 2 ./5k/sort_and_index_bam_using_samtools.bam\n",
      "fastqp --output ./5k/sort_and_index_bam_using_samtools.bam.plot --text ./5k/sort_and_index_bam_using_samtools.bam.plot.tsv ./5k/sort_and_index_bam_using_samtools.bam\n"
     ]
    }
   ],
   "source": [
    "BAM_FILE_PATH = None\n",
    "\n",
    "if BAM_FILE_PATH:\n",
    "    assert os.path.isfile(BAM_FILE_PATH)\n",
    "\n",
    "else:\n",
    "    BAM_FILE_PATH = align_fastq_gzs_using_bwa(\n",
    "        FASTA_GZ_FILE_PATH, [\n",
    "            FASTQ_GZ_0_FILE_PATH,\n",
    "            FASTQ_GZ_1_FILE_PATH,\n",
    "        ],\n",
    "        n_jobs=N_JOBS,\n",
    "        overwrite=OVERWRITE)\n",
    "\n",
    "    BAM_FILE_PATH = sort_and_index_bam_using_samtools(\n",
    "        BAM_FILE_PATH, n_jobs=N_JOBS, overwrite=OVERWRITE)\n",
    "\n",
    "    if PLOT:\n",
    "        plot_fastq_gz_or_bam(BAM_FILE_PATH, overwrite=OVERWRITE)"
   ]
  },
  {
   "cell_type": "code",
   "execution_count": 5,
   "metadata": {
    "ExecuteTime": {
     "end_time": "2017-11-17T21:55:55.933383Z",
     "start_time": "2017-11-17T21:54:01.126315Z"
    },
    "scrolled": false
   },
   "outputs": [
    {
     "name": "stdout",
     "output_type": "stream",
     "text": [
      "freebayes --fasta-reference /Volumes/Jumis/data/grch/GCA_000001405.15_GRCh38_full_plus_hs38DH-extra_analysis_set.fa --region chr5 ./5k/sort_and_index_bam_using_samtools.bam > ./5k/call_variants_on_bam_using_freebayes.--region_chr5.vcf\n",
      "freebayes --fasta-reference /Volumes/Jumis/data/grch/GCA_000001405.15_GRCh38_full_plus_hs38DH-extra_analysis_set.fa --region chr1 ./5k/sort_and_index_bam_using_samtools.bam > ./5k/call_variants_on_bam_using_freebayes.--region_chr1.vcf\n",
      "bgzip --threads 1 --force ./5k/call_variants_on_bam_using_freebayes.--region_chr5.vcf; tabix --force ./5k/call_variants_on_bam_using_freebayes.--region_chr5.vcf.gz\n",
      "freebayes --fasta-reference /Volumes/Jumis/data/grch/GCA_000001405.15_GRCh38_full_plus_hs38DH-extra_analysis_set.fa --region chr6 ./5k/sort_and_index_bam_using_samtools.bam > ./5k/call_variants_on_bam_using_freebayes.--region_chr6.vcf\n",
      "bgzip --threads 1 --force ./5k/call_variants_on_bam_using_freebayes.--region_chr1.vcf; tabix --force ./5k/call_variants_on_bam_using_freebayes.--region_chr1.vcf.gz\n",
      "freebayes --fasta-reference /Volumes/Jumis/data/grch/GCA_000001405.15_GRCh38_full_plus_hs38DH-extra_analysis_set.fa --region chr2 ./5k/sort_and_index_bam_using_samtools.bam > ./5k/call_variants_on_bam_using_freebayes.--region_chr2.vcf\n",
      "bgzip --threads 1 --force ./5k/call_variants_on_bam_using_freebayes.--region_chr6.vcf; tabix --force ./5k/call_variants_on_bam_using_freebayes.--region_chr6.vcf.gz\n",
      "freebayes --fasta-reference /Volumes/Jumis/data/grch/GCA_000001405.15_GRCh38_full_plus_hs38DH-extra_analysis_set.fa --region chr7 ./5k/sort_and_index_bam_using_samtools.bam > ./5k/call_variants_on_bam_using_freebayes.--region_chr7.vcf\n",
      "bgzip --threads 1 --force ./5k/call_variants_on_bam_using_freebayes.--region_chr2.vcf; tabix --force ./5k/call_variants_on_bam_using_freebayes.--region_chr2.vcf.gz\n",
      "freebayes --fasta-reference /Volumes/Jumis/data/grch/GCA_000001405.15_GRCh38_full_plus_hs38DH-extra_analysis_set.fa --region chr3 ./5k/sort_and_index_bam_using_samtools.bam > ./5k/call_variants_on_bam_using_freebayes.--region_chr3.vcf\n",
      "bgzip --threads 1 --force ./5k/call_variants_on_bam_using_freebayes.--region_chr7.vcf; tabix --force ./5k/call_variants_on_bam_using_freebayes.--region_chr7.vcf.gz\n",
      "freebayes --fasta-reference /Volumes/Jumis/data/grch/GCA_000001405.15_GRCh38_full_plus_hs38DH-extra_analysis_set.fa --region chr8 ./5k/sort_and_index_bam_using_samtools.bam > ./5k/call_variants_on_bam_using_freebayes.--region_chr8.vcf\n",
      "bgzip --threads 1 --force ./5k/call_variants_on_bam_using_freebayes.--region_chr8.vcf; tabix --force ./5k/call_variants_on_bam_using_freebayes.--region_chr8.vcf.gz\n",
      "freebayes --fasta-reference /Volumes/Jumis/data/grch/GCA_000001405.15_GRCh38_full_plus_hs38DH-extra_analysis_set.fa --region chr9 ./5k/sort_and_index_bam_using_samtools.bam > ./5k/call_variants_on_bam_using_freebayes.--region_chr9.vcf\n",
      "bgzip --threads 1 --force ./5k/call_variants_on_bam_using_freebayes.--region_chr3.vcf; tabix --force ./5k/call_variants_on_bam_using_freebayes.--region_chr3.vcf.gz\n",
      "freebayes --fasta-reference /Volumes/Jumis/data/grch/GCA_000001405.15_GRCh38_full_plus_hs38DH-extra_analysis_set.fa --region chr4 ./5k/sort_and_index_bam_using_samtools.bam > ./5k/call_variants_on_bam_using_freebayes.--region_chr4.vcf\n",
      "bgzip --threads 1 --force ./5k/call_variants_on_bam_using_freebayes.--region_chr9.vcf; tabix --force ./5k/call_variants_on_bam_using_freebayes.--region_chr9.vcf.gz\n",
      "freebayes --fasta-reference /Volumes/Jumis/data/grch/GCA_000001405.15_GRCh38_full_plus_hs38DH-extra_analysis_set.fa --region chr10 ./5k/sort_and_index_bam_using_samtools.bam > ./5k/call_variants_on_bam_using_freebayes.--region_chr10.vcf\n",
      "bgzip --threads 1 --force ./5k/call_variants_on_bam_using_freebayes.--region_chr4.vcf; tabix --force ./5k/call_variants_on_bam_using_freebayes.--region_chr4.vcf.gz\n",
      "freebayes --fasta-reference /Volumes/Jumis/data/grch/GCA_000001405.15_GRCh38_full_plus_hs38DH-extra_analysis_set.fa --region chr13 ./5k/sort_and_index_bam_using_samtools.bam > ./5k/call_variants_on_bam_using_freebayes.--region_chr13.vcf\n",
      "bgzip --threads 1 --force ./5k/call_variants_on_bam_using_freebayes.--region_chr10.vcf; tabix --force ./5k/call_variants_on_bam_using_freebayes.--region_chr10.vcf.gz\n",
      "freebayes --fasta-reference /Volumes/Jumis/data/grch/GCA_000001405.15_GRCh38_full_plus_hs38DH-extra_analysis_set.fa --region chr11 ./5k/sort_and_index_bam_using_samtools.bam > ./5k/call_variants_on_bam_using_freebayes.--region_chr11.vcf\n",
      "bgzip --threads 1 --force ./5k/call_variants_on_bam_using_freebayes.--region_chr13.vcf; tabix --force ./5k/call_variants_on_bam_using_freebayes.--region_chr13.vcf.gz\n",
      "freebayes --fasta-reference /Volumes/Jumis/data/grch/GCA_000001405.15_GRCh38_full_plus_hs38DH-extra_analysis_set.fa --region chr14 ./5k/sort_and_index_bam_using_samtools.bam > ./5k/call_variants_on_bam_using_freebayes.--region_chr14.vcf\n",
      "bgzip --threads 1 --force ./5k/call_variants_on_bam_using_freebayes.--region_chr11.vcf; tabix --force ./5k/call_variants_on_bam_using_freebayes.--region_chr11.vcf.gz\n",
      "freebayes --fasta-reference /Volumes/Jumis/data/grch/GCA_000001405.15_GRCh38_full_plus_hs38DH-extra_analysis_set.fa --region chr12 ./5k/sort_and_index_bam_using_samtools.bam > ./5k/call_variants_on_bam_using_freebayes.--region_chr12.vcf\n",
      "bgzip --threads 1 --force ./5k/call_variants_on_bam_using_freebayes.--region_chr14.vcf; tabix --force ./5k/call_variants_on_bam_using_freebayes.--region_chr14.vcf.gz\n",
      "freebayes --fasta-reference /Volumes/Jumis/data/grch/GCA_000001405.15_GRCh38_full_plus_hs38DH-extra_analysis_set.fa --region chr15 ./5k/sort_and_index_bam_using_samtools.bam > ./5k/call_variants_on_bam_using_freebayes.--region_chr15.vcf\n",
      "bgzip --threads 1 --force ./5k/call_variants_on_bam_using_freebayes.--region_chr12.vcf; tabix --force ./5k/call_variants_on_bam_using_freebayes.--region_chr12.vcf.gz\n",
      "freebayes --fasta-reference /Volumes/Jumis/data/grch/GCA_000001405.15_GRCh38_full_plus_hs38DH-extra_analysis_set.fa --region chr17 ./5k/sort_and_index_bam_using_samtools.bam > ./5k/call_variants_on_bam_using_freebayes.--region_chr17.vcf\n",
      "bgzip --threads 1 --force ./5k/call_variants_on_bam_using_freebayes.--region_chr15.vcf; tabix --force ./5k/call_variants_on_bam_using_freebayes.--region_chr15.vcf.gz\n",
      "freebayes --fasta-reference /Volumes/Jumis/data/grch/GCA_000001405.15_GRCh38_full_plus_hs38DH-extra_analysis_set.fa --region chr16 ./5k/sort_and_index_bam_using_samtools.bam > ./5k/call_variants_on_bam_using_freebayes.--region_chr16.vcf\n",
      "bgzip --threads 1 --force ./5k/call_variants_on_bam_using_freebayes.--region_chr17.vcf; tabix --force ./5k/call_variants_on_bam_using_freebayes.--region_chr17.vcf.gz\n",
      "freebayes --fasta-reference /Volumes/Jumis/data/grch/GCA_000001405.15_GRCh38_full_plus_hs38DH-extra_analysis_set.fa --region chr18 ./5k/sort_and_index_bam_using_samtools.bam > ./5k/call_variants_on_bam_using_freebayes.--region_chr18.vcf\n",
      "bgzip --threads 1 --force ./5k/call_variants_on_bam_using_freebayes.--region_chr16.vcf; tabix --force ./5k/call_variants_on_bam_using_freebayes.--region_chr16.vcf.gz\n",
      "freebayes --fasta-reference /Volumes/Jumis/data/grch/GCA_000001405.15_GRCh38_full_plus_hs38DH-extra_analysis_set.fa --region chr21 ./5k/sort_and_index_bam_using_samtools.bam > ./5k/call_variants_on_bam_using_freebayes.--region_chr21.vcf\n",
      "bgzip --threads 1 --force ./5k/call_variants_on_bam_using_freebayes.--region_chr21.vcf; tabix --force ./5k/call_variants_on_bam_using_freebayes.--region_chr21.vcf.gz\n",
      "freebayes --fasta-reference /Volumes/Jumis/data/grch/GCA_000001405.15_GRCh38_full_plus_hs38DH-extra_analysis_set.fa --region chr22 ./5k/sort_and_index_bam_using_samtools.bam > ./5k/call_variants_on_bam_using_freebayes.--region_chr22.vcf\n",
      "bgzip --threads 1 --force ./5k/call_variants_on_bam_using_freebayes.--region_chr18.vcf; tabix --force ./5k/call_variants_on_bam_using_freebayes.--region_chr18.vcf.gz\n",
      "freebayes --fasta-reference /Volumes/Jumis/data/grch/GCA_000001405.15_GRCh38_full_plus_hs38DH-extra_analysis_set.fa --region chr19 ./5k/sort_and_index_bam_using_samtools.bam > ./5k/call_variants_on_bam_using_freebayes.--region_chr19.vcf\n",
      "bgzip --threads 1 --force ./5k/call_variants_on_bam_using_freebayes.--region_chr22.vcf; tabix --force ./5k/call_variants_on_bam_using_freebayes.--region_chr22.vcf.gz\n"
     ]
    },
    {
     "name": "stdout",
     "output_type": "stream",
     "text": [
      "freebayes --fasta-reference /Volumes/Jumis/data/grch/GCA_000001405.15_GRCh38_full_plus_hs38DH-extra_analysis_set.fa --region chrX ./5k/sort_and_index_bam_using_samtools.bam > ./5k/call_variants_on_bam_using_freebayes.--region_chrX.vcf\n",
      "bgzip --threads 1 --force ./5k/call_variants_on_bam_using_freebayes.--region_chr19.vcf; tabix --force ./5k/call_variants_on_bam_using_freebayes.--region_chr19.vcf.gz\n",
      "freebayes --fasta-reference /Volumes/Jumis/data/grch/GCA_000001405.15_GRCh38_full_plus_hs38DH-extra_analysis_set.fa --region chr20 ./5k/sort_and_index_bam_using_samtools.bam > ./5k/call_variants_on_bam_using_freebayes.--region_chr20.vcf\n",
      "bgzip --threads 1 --force ./5k/call_variants_on_bam_using_freebayes.--region_chr20.vcf; tabix --force ./5k/call_variants_on_bam_using_freebayes.--region_chr20.vcf.gz\n",
      "freebayes --fasta-reference /Volumes/Jumis/data/grch/GCA_000001405.15_GRCh38_full_plus_hs38DH-extra_analysis_set.fa --region chrM ./5k/sort_and_index_bam_using_samtools.bam > ./5k/call_variants_on_bam_using_freebayes.--region_chrM.vcf\n",
      "bgzip --threads 1 --force ./5k/call_variants_on_bam_using_freebayes.--region_chrM.vcf; tabix --force ./5k/call_variants_on_bam_using_freebayes.--region_chrM.vcf.gz\n",
      "bgzip --threads 1 --force ./5k/call_variants_on_bam_using_freebayes.--region_chrX.vcf; tabix --force ./5k/call_variants_on_bam_using_freebayes.--region_chrX.vcf.gz\n",
      "freebayes --fasta-reference /Volumes/Jumis/data/grch/GCA_000001405.15_GRCh38_full_plus_hs38DH-extra_analysis_set.fa --region chrY ./5k/sort_and_index_bam_using_samtools.bam > ./5k/call_variants_on_bam_using_freebayes.--region_chrY.vcf\n",
      "bgzip --threads 1 --force ./5k/call_variants_on_bam_using_freebayes.--region_chrY.vcf; tabix --force ./5k/call_variants_on_bam_using_freebayes.--region_chrY.vcf.gz\n",
      "bcftools concat --allow-overlaps --threads 2 ./5k/call_variants_on_bam_using_freebayes.--region_chr1.vcf.gz ./5k/call_variants_on_bam_using_freebayes.--region_chr2.vcf.gz ./5k/call_variants_on_bam_using_freebayes.--region_chr3.vcf.gz ./5k/call_variants_on_bam_using_freebayes.--region_chr4.vcf.gz ./5k/call_variants_on_bam_using_freebayes.--region_chr5.vcf.gz ./5k/call_variants_on_bam_using_freebayes.--region_chr6.vcf.gz ./5k/call_variants_on_bam_using_freebayes.--region_chr7.vcf.gz ./5k/call_variants_on_bam_using_freebayes.--region_chr8.vcf.gz ./5k/call_variants_on_bam_using_freebayes.--region_chr9.vcf.gz ./5k/call_variants_on_bam_using_freebayes.--region_chr10.vcf.gz ./5k/call_variants_on_bam_using_freebayes.--region_chr11.vcf.gz ./5k/call_variants_on_bam_using_freebayes.--region_chr12.vcf.gz ./5k/call_variants_on_bam_using_freebayes.--region_chr13.vcf.gz ./5k/call_variants_on_bam_using_freebayes.--region_chr14.vcf.gz ./5k/call_variants_on_bam_using_freebayes.--region_chr15.vcf.gz ./5k/call_variants_on_bam_using_freebayes.--region_chr16.vcf.gz ./5k/call_variants_on_bam_using_freebayes.--region_chr17.vcf.gz ./5k/call_variants_on_bam_using_freebayes.--region_chr18.vcf.gz ./5k/call_variants_on_bam_using_freebayes.--region_chr19.vcf.gz ./5k/call_variants_on_bam_using_freebayes.--region_chr20.vcf.gz ./5k/call_variants_on_bam_using_freebayes.--region_chr21.vcf.gz ./5k/call_variants_on_bam_using_freebayes.--region_chr22.vcf.gz ./5k/call_variants_on_bam_using_freebayes.--region_chrX.vcf.gz ./5k/call_variants_on_bam_using_freebayes.--region_chrY.vcf.gz ./5k/call_variants_on_bam_using_freebayes.--region_chrM.vcf.gz > ./5k/concatenate_vcf_gzs_using_bcftools.vcf\n",
      "Consider removing .vcf.gz files ['./5k/call_variants_on_bam_using_freebayes.--region_chr1.vcf.gz', './5k/call_variants_on_bam_using_freebayes.--region_chr2.vcf.gz', './5k/call_variants_on_bam_using_freebayes.--region_chr3.vcf.gz', './5k/call_variants_on_bam_using_freebayes.--region_chr4.vcf.gz', './5k/call_variants_on_bam_using_freebayes.--region_chr5.vcf.gz', './5k/call_variants_on_bam_using_freebayes.--region_chr6.vcf.gz', './5k/call_variants_on_bam_using_freebayes.--region_chr7.vcf.gz', './5k/call_variants_on_bam_using_freebayes.--region_chr8.vcf.gz', './5k/call_variants_on_bam_using_freebayes.--region_chr9.vcf.gz', './5k/call_variants_on_bam_using_freebayes.--region_chr10.vcf.gz', './5k/call_variants_on_bam_using_freebayes.--region_chr11.vcf.gz', './5k/call_variants_on_bam_using_freebayes.--region_chr12.vcf.gz', './5k/call_variants_on_bam_using_freebayes.--region_chr13.vcf.gz', './5k/call_variants_on_bam_using_freebayes.--region_chr14.vcf.gz', './5k/call_variants_on_bam_using_freebayes.--region_chr15.vcf.gz', './5k/call_variants_on_bam_using_freebayes.--region_chr16.vcf.gz', './5k/call_variants_on_bam_using_freebayes.--region_chr17.vcf.gz', './5k/call_variants_on_bam_using_freebayes.--region_chr18.vcf.gz', './5k/call_variants_on_bam_using_freebayes.--region_chr19.vcf.gz', './5k/call_variants_on_bam_using_freebayes.--region_chr20.vcf.gz', './5k/call_variants_on_bam_using_freebayes.--region_chr21.vcf.gz', './5k/call_variants_on_bam_using_freebayes.--region_chr22.vcf.gz', './5k/call_variants_on_bam_using_freebayes.--region_chrX.vcf.gz', './5k/call_variants_on_bam_using_freebayes.--region_chrY.vcf.gz', './5k/call_variants_on_bam_using_freebayes.--region_chrM.vcf.gz'] and their indices.\n",
      "bgzip --threads 2 --force ./5k/concatenate_vcf_gzs_using_bcftools.vcf; tabix --force ./5k/concatenate_vcf_gzs_using_bcftools.vcf.gz\n",
      "snpEff -Xmx8G -htmlStats ./5k/annotate_vcf_gz_using_snpeff.vcf.stats.html -csvStats ./5k/annotate_vcf_gz_using_snpeff.vcf.stats.csv -verbose -noLog GRCh38.86 ./5k/concatenate_vcf_gzs_using_bcftools.vcf.gz > ./5k/annotate_vcf_gz_using_snpeff.vcf\n",
      "bgzip --threads 2 --force ./5k/annotate_vcf_gz_using_snpeff.vcf; tabix --force ./5k/annotate_vcf_gz_using_snpeff.vcf.gz\n",
      "bcftools annotate --annotations /Volumes/Jumis/data/grch/clinvar.vcf.gz --threads 2 --columns =ID,INFO ./5k/annotate_vcf_gz_using_snpeff.vcf.gz > ./5k/annotate_vcf_gz_using_bcftools.vcf\n",
      "bgzip --threads 2 --force ./5k/annotate_vcf_gz_using_bcftools.vcf; tabix --force ./5k/annotate_vcf_gz_using_bcftools.vcf.gz\n",
      "bcftools view --include '10<=DP & 10<=QUAL & 10<=(QUAL/AO) & 1<=SRF & 1<=SRR & 1<=SAF & 1<=SAR & 1<=RPR & 1<=RPL' --threads 2 ./5k/annotate_vcf_gz_using_bcftools.vcf.gz > ./5k/filter_vcf_gz_using_bcftools.vcf\n",
      "bgzip --threads 2 --force ./5k/filter_vcf_gz_using_bcftools.vcf; tabix --force ./5k/filter_vcf_gz_using_bcftools.vcf.gz\n"
     ]
    }
   ],
   "source": [
    "VCF_GZ_FILE_PATH = None\n",
    "\n",
    "if VCF_GZ_FILE_PATH:\n",
    "    assert os.path.isfile(VCF_GZ_FILE_PATH)\n",
    "\n",
    "else:\n",
    "    VCF_GZ_FILE_PATH = call_variants_on_bam_using_freebayes_and_multiprocess(\n",
    "        BAM_FILE_PATH,\n",
    "        FASTA_FILE_PATH, ['chr{}'.format(i)\n",
    "                          for i in range(1, 23)] + ['chrX', 'chrY', 'chrM'],\n",
    "        n_jobs=N_JOBS,\n",
    "        overwrite=OVERWRITE)\n",
    "    \n",
    "    VCF_GZ_FILE_PATH = annotate_vcf_gz_using_snpeff(\n",
    "        VCF_GZ_FILE_PATH, n_jobs=N_JOBS, overwrite=OVERWRITE)\n",
    "\n",
    "    VCF_GZ_FILE_PATH = annotate_vcf_gz_using_bcftools(\n",
    "        VCF_GZ_FILE_PATH,\n",
    "        CLINVAR_VCF_GZ_FILE_PATH, ['--columns =ID,INFO'],\n",
    "        n_jobs=N_JOBS,\n",
    "        overwrite=OVERWRITE)\n",
    "\n",
    "    VCF_GZ_FILE_PATH = filter_vcf_gz_using_bcftools(\n",
    "        VCF_GZ_FILE_PATH, n_jobs=N_JOBS, overwrite=OVERWRITE)"
   ]
  },
  {
   "cell_type": "code",
   "execution_count": 6,
   "metadata": {
    "ExecuteTime": {
     "end_time": "2017-11-17T21:55:55.934577Z",
     "start_time": "2017-11-17T21:52:49.116Z"
    }
   },
   "outputs": [],
   "source": [
    "if PLOT:\n",
    "    p.terminate()"
   ]
  }
 ],
 "metadata": {
  "kernelspec": {
   "display_name": "Python [default]",
   "language": "python",
   "name": "python3"
  },
  "language_info": {
   "codemirror_mode": {
    "name": "ipython",
    "version": 3
   },
   "file_extension": ".py",
   "mimetype": "text/x-python",
   "name": "python",
   "nbconvert_exporter": "python",
   "pygments_lexer": "ipython3",
   "version": "3.6.3"
  }
 },
 "nbformat": 4,
 "nbformat_minor": 2
}
