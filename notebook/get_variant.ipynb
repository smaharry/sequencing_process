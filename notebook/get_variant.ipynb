{
 "cells": [
  {
   "cell_type": "code",
   "execution_count": 1,
   "metadata": {
    "ExecuteTime": {
     "end_time": "2017-11-29T04:48:42.540923Z",
     "start_time": "2017-11-29T04:48:42.110133Z"
    }
   },
   "outputs": [],
   "source": [
    "import os\n",
    "import sys\n",
    "\n",
    "sys.path.insert(0, '..')\n",
    "from sequencing_process.support.support.path import clean_path\n",
    "from sequencing_process.process_fastq_gz import check_fastq_gzs_using_fastqc, trim_fastq_gzs_using_skewer, align_fastq_gzs_using_bwa_mem\n",
    "from sequencing_process.process_bam import sort_and_index_bam_using_samtools_sort_and_index, mark_duplicates_in_bam_using_picard_markduplicates, check_bam_using_samtools_flagstat, call_variants_on_bam_using_freebayes_and_multiprocess\n",
    "from sequencing_process.process_vcf_gz import annotate_vcf_gz_using_snpeff, rename_chromosomes_of_vcf_gz_using_bcftools_annotate, annotate_vcf_gz_using_bcftools_annotate, filter_vcf_gz_using_bcftools_view\n",
    "\n",
    "%load_ext autoreload\n",
    "%autoreload 2\n",
    "%matplotlib inline"
   ]
  },
  {
   "cell_type": "markdown",
   "metadata": {},
   "source": [
    "## Set reference file paths"
   ]
  },
  {
   "cell_type": "code",
   "execution_count": 2,
   "metadata": {
    "ExecuteTime": {
     "end_time": "2017-11-29T04:48:44.193341Z",
     "start_time": "2017-11-29T04:48:44.155382Z"
    }
   },
   "outputs": [],
   "source": [
    "GRCH_DIRECTORY_PATH = clean_path('/Volumes/Jumis/data/grch')\n",
    "assert os.path.isdir(GRCH_DIRECTORY_PATH)\n",
    "\n",
    "FASTA_GZ_FILE_PATH = os.path.join(\n",
    "    GRCH_DIRECTORY_PATH,\n",
    "    'GCA_000001405.15_GRCh38_full_plus_hs38DH-extra_analysis_set.fa.gz')\n",
    "assert os.path.isfile(FASTA_GZ_FILE_PATH)\n",
    "\n",
    "FASTA_FILE_PATH = FASTA_GZ_FILE_PATH[:-3]\n",
    "assert os.path.isfile(FASTA_FILE_PATH)\n",
    "\n",
    "CLINVAR_VCF_GZ_FILE_PATH = os.path.join(GRCH_DIRECTORY_PATH, 'clinvar.vcf.gz')\n",
    "assert os.path.isfile(CLINVAR_VCF_GZ_FILE_PATH)"
   ]
  },
  {
   "cell_type": "markdown",
   "metadata": {},
   "source": [
    "## Set parameters"
   ]
  },
  {
   "cell_type": "code",
   "execution_count": 3,
   "metadata": {
    "ExecuteTime": {
     "end_time": "2017-11-29T04:48:46.037705Z",
     "start_time": "2017-11-29T04:48:46.011282Z"
    }
   },
   "outputs": [],
   "source": [
    "N_JOBS = 4\n",
    "OVERWRITE = True"
   ]
  },
  {
   "cell_type": "markdown",
   "metadata": {},
   "source": [
    "## Check .fastq.gz"
   ]
  },
  {
   "cell_type": "code",
   "execution_count": 4,
   "metadata": {
    "ExecuteTime": {
     "end_time": "2017-11-29T04:48:56.827492Z",
     "start_time": "2017-11-29T04:48:51.001303Z"
    }
   },
   "outputs": [
    {
     "name": "stdout",
     "output_type": "stream",
     "text": [
      "fastqc --threads 4 /Users/k/Jumis/github_kwatme/sequencing_process/simulation/1k/simulation.bwa.read1.fastq.gz /Users/k/Jumis/github_kwatme/sequencing_process/simulation/1k/simulation.bwa.read2.fastq.gz\n"
     ]
    }
   ],
   "source": [
    "DIRECTORY_PATH = clean_path('../simulation/1k')\n",
    "\n",
    "fastq_gz_1_file_path = os.path.join(DIRECTORY_PATH,\n",
    "                                    'simulation.bwa.read1.fastq.gz')\n",
    "assert os.path.isfile(fastq_gz_1_file_path)\n",
    "\n",
    "fastq_gz_2_file_path = os.path.join(DIRECTORY_PATH,\n",
    "                                    'simulation.bwa.read2.fastq.gz')\n",
    "assert os.path.isfile(fastq_gz_2_file_path)\n",
    "\n",
    "check_fastq_gzs_using_fastqc(\n",
    "    [fastq_gz_1_file_path, fastq_gz_2_file_path],\n",
    "    n_jobs=N_JOBS,\n",
    "    overwrite=OVERWRITE)"
   ]
  },
  {
   "cell_type": "markdown",
   "metadata": {},
   "source": [
    "## Trim and recheck .fastq.gz"
   ]
  },
  {
   "cell_type": "code",
   "execution_count": 7,
   "metadata": {
    "ExecuteTime": {
     "end_time": "2017-11-29T04:52:22.555534Z",
     "start_time": "2017-11-29T04:52:17.591587Z"
    }
   },
   "outputs": [
    {
     "name": "stdout",
     "output_type": "stream",
     "text": [
      "skewer -x /Users/k/Jumis/github_kwatme/sequencing_process/resource/general_bad_sequence.fasta -r 0 -d 0 --end-quality 10 --min 30 -n --output /Users/k/Jumis/github_kwatme/sequencing_process/simulation/1k/sequence --masked-output --excluded-output --threads 1 -y /Users/k/Jumis/github_kwatme/sequencing_process/resource/general_bad_sequence.fasta /Users/k/Jumis/github_kwatme/sequencing_process/simulation/1k/simulation.bwa.read1.fastq.gz /Users/k/Jumis/github_kwatme/sequencing_process/simulation/1k/simulation.bwa.read2.fastq.gz\n",
      "/Users/k/Jumis/github_kwatme/sequencing_process/simulation/1k/sequence-trimmed.log:\n",
      "skewer v0.2.2 [April 4, 2016]\n",
      "COMMAND LINE:\tskewer -x /Users/k/Jumis/github_kwatme/sequencing_process/resource/general_bad_sequence.fasta -r 0 -d 0 --end-quality 10 --min 30 -n --output /Users/k/Jumis/github_kwatme/sequencing_process/simulation/1k/sequence --masked-output --excluded-output --threads 1 -y /Users/k/Jumis/github_kwatme/sequencing_process/resource/general_bad_sequence.fasta /Users/k/Jumis/github_kwatme/sequencing_process/simulation/1k/simulation.bwa.read1.fastq.gz /Users/k/Jumis/github_kwatme/sequencing_process/simulation/1k/simulation.bwa.read2.fastq.gz\n",
      "Input file:\t/Users/k/Jumis/github_kwatme/sequencing_process/simulation/1k/simulation.bwa.read1.fastq.gz\n",
      "Paired file:\t/Users/k/Jumis/github_kwatme/sequencing_process/simulation/1k/simulation.bwa.read2.fastq.gz\n",
      "trimmed:\t/Users/k/Jumis/github_kwatme/sequencing_process/simulation/1k/sequence-trimmed-pair1.fastq, /Users/k/Jumis/github_kwatme/sequencing_process/simulation/1k/sequence-trimmed-pair2.fastq\n",
      "\n",
      "Parameters used:\n",
      "-- 3' end adapter sequences in file (-x):\t/Users/k/Jumis/github_kwatme/sequencing_process/resource/general_bad_sequence.fasta\n",
      "A:\tAGATCGGAAGAGC\n",
      "B:\tCTGTCTCTTATACACATCT\n",
      "-- paired 3' end adapter sequences in file (-y):\t/Users/k/Jumis/github_kwatme/sequencing_process/resource/general_bad_sequence.fasta\n",
      "01:\tAGATCGGAAGAGC\n",
      "02:\tCTGTCTCTTATACACATCT\n",
      "-- maximum error ratio allowed (-r):\t0.000\n",
      "-- maximum indel error ratio allowed (-d):\t0.000\n",
      "-- end quality threshold (-q):\t\t10\n",
      "-- minimum read length allowed after trimming (-l):\t30\n",
      "-- file format (-f):\t\tSanger/Illumina 1.8+ FASTQ (auto detected)\n",
      "Tue Nov 28 20:52:17 2017 >> started\n",
      "\n",
      "Tue Nov 28 20:52:17 2017 >> done (0.044s)\n",
      "1000 read pairs processed; of these:\n",
      "   0 ( 0.00%) degenerative read pairs filtered out\n",
      "   0 ( 0.00%) short read pairs filtered out after trimming by size control\n",
      "   0 ( 0.00%) empty read pairs filtered out after trimming by size control\n",
      "1000 (100.00%) read pairs available; of these:\n",
      "1000 (100.00%) untrimmed read pairs available after processing\n",
      "\n",
      "Length distribution of reads after trimming:\n",
      "length\tcount\tpercentage\n",
      "150\t1000\t100.00%\n",
      "\n",
      "gzip --force /Users/k/Jumis/github_kwatme/sequencing_process/simulation/1k/sequence-trimmed-pair1.fastq\n",
      "gzip --force /Users/k/Jumis/github_kwatme/sequencing_process/simulation/1k/sequence-trimmed-pair2.fastq\n",
      "fastqc --threads 4 /Users/k/Jumis/github_kwatme/sequencing_process/simulation/1k/sequence-trimmed-pair1.fastq.gz /Users/k/Jumis/github_kwatme/sequencing_process/simulation/1k/sequence-trimmed-pair2.fastq.gz\n"
     ]
    }
   ],
   "source": [
    "fastq_gz_1_trimmed_file_path, fastq_gz_2_trimmed_file_path = trim_fastq_gzs_using_skewer(\n",
    "    [fastq_gz_1_file_path, fastq_gz_2_file_path],\n",
    "    end_quality=10,\n",
    "    output_prefix=os.path.join(DIRECTORY_PATH, 'sequence'),\n",
    "    overwrite=OVERWRITE)\n",
    "\n",
    "check_fastq_gzs_using_fastqc(\n",
    "    [fastq_gz_1_trimmed_file_path, fastq_gz_2_trimmed_file_path],\n",
    "    n_jobs=N_JOBS,\n",
    "    overwrite=OVERWRITE)"
   ]
  },
  {
   "cell_type": "markdown",
   "metadata": {},
   "source": [
    "## Align to the reference genome"
   ]
  },
  {
   "cell_type": "code",
   "execution_count": 8,
   "metadata": {
    "ExecuteTime": {
     "end_time": "2017-11-29T04:53:51.706723Z",
     "start_time": "2017-11-29T04:52:43.760267Z"
    },
    "scrolled": false
   },
   "outputs": [
    {
     "name": "stdout",
     "output_type": "stream",
     "text": [
      "bwa mem -t 4 /Volumes/Jumis/data/grch/GCA_000001405.15_GRCh38_full_plus_hs38DH-extra_analysis_set.fa.gz /Users/k/Jumis/github_kwatme/sequencing_process/simulation/1k/sequence-trimmed-pair1.fastq.gz /Users/k/Jumis/github_kwatme/sequencing_process/simulation/1k/sequence-trimmed-pair2.fastq.gz | /Users/k/Jumis/github_kwatme/sequencing_process/resource/k8-0.2.3/k8-darwin /Users/k/Jumis/github_kwatme/sequencing_process/resource/bwa-postalt.js /Volumes/Jumis/data/grch/GCA_000001405.15_GRCh38_full_plus_hs38DH-extra_analysis_set.fa.gz.alt | samtools view -Sb --threads 4 > /Users/k/Jumis/github_kwatme/sequencing_process/simulation/1k/align_fastq_gzs_using_bwa_mem.bam\n",
      "samtools sort --threads 4 /Users/k/Jumis/github_kwatme/sequencing_process/simulation/1k/align_fastq_gzs_using_bwa_mem.bam > /Users/k/Jumis/github_kwatme/sequencing_process/simulation/1k/sort_and_index_bam_using_samtools_sort_and_index.bam\n",
      "rm -rf /Users/k/Jumis/github_kwatme/sequencing_process/simulation/1k/align_fastq_gzs_using_bwa_mem.bam\n",
      "samtools index -@ 4 /Users/k/Jumis/github_kwatme/sequencing_process/simulation/1k/sort_and_index_bam_using_samtools_sort_and_index.bam\n",
      "picard -Xmx12G MarkDuplicates REMOVE_DUPLICATES=true INPUT=/Users/k/Jumis/github_kwatme/sequencing_process/simulation/1k/sort_and_index_bam_using_samtools_sort_and_index.bam OUTPUT=/Users/k/Jumis/github_kwatme/sequencing_process/simulation/1k/clean.bam METRICS_FILE=/Users/k/Jumis/github_kwatme/sequencing_process/simulation/1k/clean.bam.metrics\n",
      "rm -rf /Users/k/Jumis/github_kwatme/sequencing_process/simulation/1k/sort_and_index_bam_using_samtools_sort_and_index.bam\n",
      "rm -rf /Users/k/Jumis/github_kwatme/sequencing_process/simulation/1k/sort_and_index_bam_using_samtools_sort_and_index.bam.bai\n",
      "/Users/k/Jumis/github_kwatme/sequencing_process/simulation/1k/clean.bam.metrics:\n",
      "## htsjdk.samtools.metrics.StringHeader\n",
      "# MarkDuplicates INPUT=[/Users/k/Jumis/github_kwatme/sequencing_process/simulation/1k/sort_and_index_bam_using_samtools_sort_and_index.bam] OUTPUT=/Users/k/Jumis/github_kwatme/sequencing_process/simulation/1k/clean.bam METRICS_FILE=/Users/k/Jumis/github_kwatme/sequencing_process/simulation/1k/clean.bam.metrics REMOVE_DUPLICATES=true    MAX_SEQUENCES_FOR_DISK_READ_ENDS_MAP=50000 MAX_FILE_HANDLES_FOR_READ_ENDS_MAP=8000 SORTING_COLLECTION_SIZE_RATIO=0.25 TAG_DUPLICATE_SET_MEMBERS=false REMOVE_SEQUENCING_DUPLICATES=false TAGGING_POLICY=DontTag CLEAR_DT=true ADD_PG_TAG_TO_READS=true ASSUME_SORTED=false DUPLICATE_SCORING_STRATEGY=SUM_OF_BASE_QUALITIES PROGRAM_RECORD_ID=MarkDuplicates PROGRAM_GROUP_NAME=MarkDuplicates READ_NAME_REGEX=<optimized capture of last three ':' separated fields as numeric values> OPTICAL_DUPLICATE_PIXEL_DISTANCE=100 MAX_OPTICAL_DUPLICATE_SET_SIZE=300000 VERBOSITY=INFO QUIET=false VALIDATION_STRINGENCY=STRICT COMPRESSION_LEVEL=5 MAX_RECORDS_IN_RAM=500000 CREATE_INDEX=false CREATE_MD5_FILE=false GA4GH_CLIENT_SECRETS=client_secrets.json USE_JDK_DEFLATER=false USE_JDK_INFLATER=false\n",
      "## htsjdk.samtools.metrics.StringHeader\n",
      "# Started on: Tue Nov 28 20:53:42 PST 2017\n",
      "\n",
      "## METRICS CLASS\tpicard.sam.DuplicationMetrics\n",
      "LIBRARY\tUNPAIRED_READS_EXAMINED\tREAD_PAIRS_EXAMINED\tSECONDARY_OR_SUPPLEMENTARY_RDS\tUNMAPPED_READS\tUNPAIRED_READ_DUPLICATES\tREAD_PAIR_DUPLICATES\tREAD_PAIR_OPTICAL_DUPLICATES\tPERCENT_DUPLICATION\tESTIMATED_LIBRARY_SIZE\n",
      "Unknown Library\t0\t956\t633\t88\t0\t0\t0\t0\t\n",
      "\n",
      "\n",
      "\n",
      "samtools index -@ 4 /Users/k/Jumis/github_kwatme/sequencing_process/simulation/1k/clean.bam\n",
      "samtools flagstat --threads 4 /Users/k/Jumis/github_kwatme/sequencing_process/simulation/1k/clean.bam > /Users/k/Jumis/github_kwatme/sequencing_process/simulation/1k/clean.bam.flagstat\n",
      "/Users/k/Jumis/github_kwatme/sequencing_process/simulation/1k/clean.bam.flagstat:\n",
      "2633 + 0 in total (QC-passed reads + QC-failed reads)\n",
      "0 + 0 secondary\n",
      "633 + 0 supplementary\n",
      "0 + 0 duplicates\n",
      "2545 + 0 mapped (96.66% : N/A)\n",
      "2000 + 0 paired in sequencing\n",
      "1000 + 0 read1\n",
      "1000 + 0 read2\n",
      "1912 + 0 properly paired (95.60% : N/A)\n",
      "1912 + 0 with itself and mate mapped\n",
      "0 + 0 singletons (0.00% : N/A)\n",
      "0 + 0 with mate mapped to a different chr\n",
      "0 + 0 with mate mapped to a different chr (mapQ>=5)\n",
      "\n"
     ]
    }
   ],
   "source": [
    "bam_file_path = align_fastq_gzs_using_bwa_mem(\n",
    "    [fastq_gz_1_trimmed_file_path, fastq_gz_2_trimmed_file_path],\n",
    "    FASTA_GZ_FILE_PATH,\n",
    "    n_jobs=N_JOBS,\n",
    "    overwrite=OVERWRITE)\n",
    "\n",
    "sorted_and_indexed_bam_file_path = sort_and_index_bam_using_samtools_sort_and_index(\n",
    "    bam_file_path,\n",
    "    remove_input_bam_file_path=True,\n",
    "    n_jobs=N_JOBS,\n",
    "    overwrite=OVERWRITE)\n",
    "\n",
    "duplicate_removed_bam_file_path = mark_duplicates_in_bam_using_picard_markduplicates(\n",
    "    sorted_and_indexed_bam_file_path,\n",
    "    remove_duplicates=True,\n",
    "    remove_input_bam_file_path_and_its_index=True,\n",
    "    n_jobs=N_JOBS,\n",
    "    output_bam_file_path=os.path.join(DIRECTORY_PATH, 'clean.bam'),\n",
    "    overwrite=OVERWRITE)\n",
    "\n",
    "check_bam_using_samtools_flagstat(\n",
    "    duplicate_removed_bam_file_path, n_jobs=N_JOBS, overwrite=OVERWRITE)"
   ]
  },
  {
   "cell_type": "markdown",
   "metadata": {},
   "source": [
    "## Detect variant"
   ]
  },
  {
   "cell_type": "code",
   "execution_count": 11,
   "metadata": {
    "ExecuteTime": {
     "end_time": "2017-11-29T05:17:40.007029Z",
     "start_time": "2017-11-29T05:17:32.482039Z"
    },
    "scrolled": true
   },
   "outputs": [
    {
     "name": "stdout",
     "output_type": "stream",
     "text": [
      "bcftools annotate --annotations /Volumes/Jumis/data/grch/clinvar.vcf.gz --threads 4 --columns =ID,INFO /Users/k/Jumis/github_kwatme/sequencing_process/simulation/1k/rename_chromosomes_of_vcf_gz_using_bcftools_annotate.vcf.gz > /Users/k/Jumis/github_kwatme/sequencing_process/simulation/1k/annotated.vcf\n",
      "rm -rf /Users/k/Jumis/github_kwatme/sequencing_process/simulation/1k/rename_chromosomes_of_vcf_gz_using_bcftools_annotate.vcf.gz\n",
      "rm -rf /Users/k/Jumis/github_kwatme/sequencing_process/simulation/1k/rename_chromosomes_of_vcf_gz_using_bcftools_annotate.vcf.gz.tbi\n",
      "bgzip --threads 4 --force /Users/k/Jumis/github_kwatme/sequencing_process/simulation/1k/annotated.vcf && tabix --force /Users/k/Jumis/github_kwatme/sequencing_process/simulation/1k/annotated.vcf.gz\n",
      "bcftools view --include '10<DP & 30<QUAL & 10<(QUAL/AO) & 1<SRF & 1<SRR & 1<SAF & 1<SAR & 1<RPR & 1<RPL' --threads 4 /Users/k/Jumis/github_kwatme/sequencing_process/simulation/1k/annotated.vcf.gz > /Users/k/Jumis/github_kwatme/sequencing_process/simulation/1k/filtered.vcf\n",
      "bgzip --threads 4 --force /Users/k/Jumis/github_kwatme/sequencing_process/simulation/1k/filtered.vcf && tabix --force /Users/k/Jumis/github_kwatme/sequencing_process/simulation/1k/filtered.vcf.gz\n"
     ]
    }
   ],
   "source": [
    "vcf_gz_file_path = call_variants_on_bam_using_freebayes_and_multiprocess(\n",
    "    duplicate_removed_bam_file_path,\n",
    "    FASTA_FILE_PATH, ['chr{}'.format(i)\n",
    "                      for i in range(1, 23)] + ['chrX', 'chrY', 'chrM'],\n",
    "    n_jobs=N_JOBS,\n",
    "    overwrite=OVERWRITE)\n",
    "\n",
    "chromosomes_renamed_vcf_gz_file_path = rename_chromosomes_of_vcf_gz_using_bcftools_annotate(\n",
    "    vcf_gz_file_path,\n",
    "    remove_input_vcf_gz_file_path_and_its_index=True,\n",
    "    n_jobs=N_JOBS,\n",
    "    overwrite=OVERWRITE)\n",
    "\n",
    "snpeff_annotated_vcf_gz_file_path = annotate_vcf_gz_using_snpeff(\n",
    "    chromosomes_renamed_vcf_gz_file_path,\n",
    "    'GRCh38.86',\n",
    "    remove_input_vcf_gz_file_path_and_its_index=True,\n",
    "    n_jobs=N_JOBS,\n",
    "    overwrite=OVERWRITE)\n",
    "\n",
    "clinvar_annotated_vcf_gz_file_path = annotate_vcf_gz_using_bcftools_annotate(\n",
    "    snpeff_annotated_vcf_gz_file_path,\n",
    "    CLINVAR_VCF_GZ_FILE_PATH, ['--columns =ID,INFO'],\n",
    "    remove_input_vcf_gz_file_path_and_its_index=True,\n",
    "    n_jobs=N_JOBS,\n",
    "    output_vcf_file_path=os.path.join(DIRECTORY_PATH, 'annotated.vcf'),\n",
    "    overwrite=OVERWRITE)\n",
    "\n",
    "filtered_vcf_gz_file_path = filter_vcf_gz_using_bcftools_view(\n",
    "    clinvar_annotated_vcf_gz_file_path,\n",
    "    n_jobs=N_JOBS,\n",
    "    output_vcf_file_path=os.path.join(DIRECTORY_PATH, 'filtered.vcf'),\n",
    "    overwrite=OVERWRITE)"
   ]
  }
 ],
 "metadata": {
  "kernelspec": {
   "display_name": "Python [default]",
   "language": "python",
   "name": "python3"
  },
  "language_info": {
   "codemirror_mode": {
    "name": "ipython",
    "version": 3
   },
   "file_extension": ".py",
   "mimetype": "text/x-python",
   "name": "python",
   "nbconvert_exporter": "python",
   "pygments_lexer": "ipython3",
   "version": "3.6.2"
  }
 },
 "nbformat": 4,
 "nbformat_minor": 2
}
