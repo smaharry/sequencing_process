{
 "cells": [
  {
   "cell_type": "code",
   "execution_count": 1,
   "metadata": {
    "ExecuteTime": {
     "end_time": "2017-11-29T02:50:14.391267Z",
     "start_time": "2017-11-29T02:50:13.643369Z"
    }
   },
   "outputs": [],
   "source": [
    "import os\n",
    "import sys\n",
    "\n",
    "sys.path.insert(0, '..')\n",
    "from sequencing_process.support.support.path import clean_path\n",
    "from sequencing_process.process_fastq_gz import check_fastq_gzs_using_fastqc, trim_fastq_gzs_using_skewer, align_fastq_gzs_using_bwa_mem\n",
    "from sequencing_process.process_bam import sort_and_index_bam_using_samtools, mark_duplicates_in_bam_using_picard_markduplicates, check_bam_using_samtools_flagstat, call_variants_on_bam_using_freebayes, call_variants_on_bam_using_freebayes_and_multiprocess\n",
    "from sequencing_process.process_vcf_gz import annotate_vcf_gz_using_snpeff, annotate_vcf_gz_using_bcftools, filter_vcf_gz_using_bcftools\n",
    "\n",
    "%load_ext autoreload\n",
    "%autoreload 2\n",
    "%matplotlib inline"
   ]
  },
  {
   "cell_type": "markdown",
   "metadata": {},
   "source": [
    "## Set reference file paths"
   ]
  },
  {
   "cell_type": "code",
   "execution_count": 2,
   "metadata": {
    "ExecuteTime": {
     "end_time": "2017-11-29T02:50:14.454917Z",
     "start_time": "2017-11-29T02:50:14.396712Z"
    }
   },
   "outputs": [],
   "source": [
    "GRCH_DIRECTORY_PATH = clean_path('/Volumes/Jumis/data/grch')\n",
    "assert os.path.isdir(GRCH_DIRECTORY_PATH)\n",
    "\n",
    "FASTA_GZ_FILE_PATH = os.path.join(\n",
    "    GRCH_DIRECTORY_PATH,\n",
    "    'GCA_000001405.15_GRCh38_full_plus_hs38DH-extra_analysis_set.fa.gz')\n",
    "assert os.path.isfile(FASTA_GZ_FILE_PATH)\n",
    "\n",
    "FASTA_FILE_PATH = FASTA_GZ_FILE_PATH[:-3]\n",
    "assert os.path.isfile(FASTA_FILE_PATH)\n",
    "\n",
    "CLINVAR_VCF_GZ_FILE_PATH = os.path.join(GRCH_DIRECTORY_PATH, 'clinvar.vcf.gz')\n",
    "assert os.path.isfile(CLINVAR_VCF_GZ_FILE_PATH)"
   ]
  },
  {
   "cell_type": "markdown",
   "metadata": {},
   "source": [
    "## Set parameters"
   ]
  },
  {
   "cell_type": "code",
   "execution_count": 3,
   "metadata": {
    "ExecuteTime": {
     "end_time": "2017-11-29T02:50:14.496574Z",
     "start_time": "2017-11-29T02:50:14.459543Z"
    }
   },
   "outputs": [],
   "source": [
    "N_JOBS = 4\n",
    "OVERWRITE = True"
   ]
  },
  {
   "cell_type": "markdown",
   "metadata": {},
   "source": [
    "## Check .fastq.gz"
   ]
  },
  {
   "cell_type": "code",
   "execution_count": 4,
   "metadata": {
    "ExecuteTime": {
     "end_time": "2017-11-29T02:50:21.655947Z",
     "start_time": "2017-11-29T02:50:14.500683Z"
    }
   },
   "outputs": [
    {
     "name": "stdout",
     "output_type": "stream",
     "text": [
      "Using paired .fastq.gz file paths ...\n",
      "fastqc --threads 4 /Users/k/Jumis/github_kwatme/sequencing_process/simulation/5k/simulation.bwa.read1.fastq.gz /Users/k/Jumis/github_kwatme/sequencing_process/simulation/5k/simulation.bwa.read2.fastq.gz\n"
     ]
    }
   ],
   "source": [
    "DIRECTORY_PATH = clean_path('../simulation/1k')\n",
    "\n",
    "fastq_gz_1_file_path = os.path.join(DIRECTORY_PATH,\n",
    "                                    'simulation.bwa.read1.fastq.gz')\n",
    "assert os.path.isfile(fastq_gz_1_file_path)\n",
    "\n",
    "fastq_gz_2_file_path = os.path.join(DIRECTORY_PATH,\n",
    "                                    'simulation.bwa.read2.fastq.gz')\n",
    "assert os.path.isfile(fastq_gz_2_file_path)\n",
    "\n",
    "check_fastq_gzs_using_fastqc(\n",
    "    [fastq_gz_1_file_path, fastq_gz_2_file_path],\n",
    "    n_jobs=N_JOBS,\n",
    "    overwrite=OVERWRITE)"
   ]
  },
  {
   "cell_type": "markdown",
   "metadata": {},
   "source": [
    "## Trim and recheck .fastq.gz"
   ]
  },
  {
   "cell_type": "code",
   "execution_count": 5,
   "metadata": {
    "ExecuteTime": {
     "end_time": "2017-11-29T02:50:29.602650Z",
     "start_time": "2017-11-29T02:50:21.659810Z"
    }
   },
   "outputs": [
    {
     "name": "stdout",
     "output_type": "stream",
     "text": [
      "Using paired .fastq.gz file paths ...\n",
      "skewer -x /Users/k/Jumis/github_kwatme/sequencing_process/resource/general_bad_sequence.fasta -r 0 -d 0 --end-quality 3 --min 30 -n --output /Users/k/Jumis/github_kwatme/sequencing_process/simulation/5k/trim_fastq_gzs_using_skewer --masked-output --excluded-output --threads 1 -y /Users/k/Jumis/github_kwatme/sequencing_process/resource/general_bad_sequence.fasta /Users/k/Jumis/github_kwatme/sequencing_process/simulation/5k/simulation.bwa.read1.fastq.gz /Users/k/Jumis/github_kwatme/sequencing_process/simulation/5k/simulation.bwa.read2.fastq.gz\n",
      "/Users/k/Jumis/github_kwatme/sequencing_process/simulation/5k/trim_fastq_gzs_using_skewer-trimmed.log:\n",
      "skewer v0.2.2 [April 4, 2016]\n",
      "COMMAND LINE:\tskewer -x /Users/k/Jumis/github_kwatme/sequencing_process/resource/general_bad_sequence.fasta -r 0 -d 0 --end-quality 3 --min 30 -n --output /Users/k/Jumis/github_kwatme/sequencing_process/simulation/5k/trim_fastq_gzs_using_skewer --masked-output --excluded-output --threads 1 -y /Users/k/Jumis/github_kwatme/sequencing_process/resource/general_bad_sequence.fasta /Users/k/Jumis/github_kwatme/sequencing_process/simulation/5k/simulation.bwa.read1.fastq.gz /Users/k/Jumis/github_kwatme/sequencing_process/simulation/5k/simulation.bwa.read2.fastq.gz\n",
      "Input file:\t/Users/k/Jumis/github_kwatme/sequencing_process/simulation/5k/simulation.bwa.read1.fastq.gz\n",
      "Paired file:\t/Users/k/Jumis/github_kwatme/sequencing_process/simulation/5k/simulation.bwa.read2.fastq.gz\n",
      "trimmed:\t/Users/k/Jumis/github_kwatme/sequencing_process/simulation/5k/trim_fastq_gzs_using_skewer-trimmed-pair1.fastq, /Users/k/Jumis/github_kwatme/sequencing_process/simulation/5k/trim_fastq_gzs_using_skewer-trimmed-pair2.fastq\n",
      "\n",
      "Parameters used:\n",
      "-- 3' end adapter sequences in file (-x):\t/Users/k/Jumis/github_kwatme/sequencing_process/resource/general_bad_sequence.fasta\n",
      "A:\tAGATCGGAAGAGC\n",
      "B:\tCTGTCTCTTATACACATCT\n",
      "-- paired 3' end adapter sequences in file (-y):\t/Users/k/Jumis/github_kwatme/sequencing_process/resource/general_bad_sequence.fasta\n",
      "01:\tAGATCGGAAGAGC\n",
      "02:\tCTGTCTCTTATACACATCT\n",
      "-- maximum error ratio allowed (-r):\t0.000\n",
      "-- maximum indel error ratio allowed (-d):\t0.000\n",
      "-- end quality threshold (-q):\t\t3\n",
      "-- minimum read length allowed after trimming (-l):\t30\n",
      "-- file format (-f):\t\tSanger/Illumina 1.8+ FASTQ (auto detected)\n",
      "Tue Nov 28 18:50:21 2017 >> started\n",
      "\n",
      "Tue Nov 28 18:50:22 2017 >> done (0.171s)\n",
      "5000 read pairs processed; of these:\n",
      "   0 ( 0.00%) degenerative read pairs filtered out\n",
      "   0 ( 0.00%) short read pairs filtered out after trimming by size control\n",
      "   0 ( 0.00%) empty read pairs filtered out after trimming by size control\n",
      "5000 (100.00%) read pairs available; of these:\n",
      "5000 (100.00%) untrimmed read pairs available after processing\n",
      "\n",
      "Length distribution of reads after trimming:\n",
      "length\tcount\tpercentage\n",
      "150\t5000\t100.00%\n",
      "\n",
      "gzip --force /Users/k/Jumis/github_kwatme/sequencing_process/simulation/5k/trim_fastq_gzs_using_skewer-trimmed-pair1.fastq\n",
      "gzip --force /Users/k/Jumis/github_kwatme/sequencing_process/simulation/5k/trim_fastq_gzs_using_skewer-trimmed-pair2.fastq\n",
      "Using paired .fastq.gz file paths ...\n",
      "fastqc --threads 4 /Users/k/Jumis/github_kwatme/sequencing_process/simulation/5k/trim_fastq_gzs_using_skewer-trimmed-pair1.fastq.gz /Users/k/Jumis/github_kwatme/sequencing_process/simulation/5k/trim_fastq_gzs_using_skewer-trimmed-pair2.fastq.gz\n"
     ]
    }
   ],
   "source": [
    "fastq_gz_1_trimmed_file_path, fastq_gz_2_trimmed_file_path = trim_fastq_gzs_using_skewer(\n",
    "    [fastq_gz_1_file_path, fastq_gz_2_file_path],\n",
    "    end_quality=3,\n",
    "    overwrite=OVERWRITE)\n",
    "\n",
    "check_fastq_gzs_using_fastqc(\n",
    "    [fastq_gz_1_trimmed_file_path, fastq_gz_2_trimmed_file_path],\n",
    "    n_jobs=N_JOBS,\n",
    "    overwrite=OVERWRITE)"
   ]
  },
  {
   "cell_type": "markdown",
   "metadata": {},
   "source": [
    "## Align to the reference genome"
   ]
  },
  {
   "cell_type": "code",
   "execution_count": 6,
   "metadata": {
    "ExecuteTime": {
     "end_time": "2017-11-29T02:51:29.573163Z",
     "start_time": "2017-11-29T02:50:29.607393Z"
    },
    "scrolled": false
   },
   "outputs": [
    {
     "name": "stdout",
     "output_type": "stream",
     "text": [
      "Using paired .fastq.gz file paths ...\n",
      "bwa mem -t 4 /Volumes/Jumis/data/grch/GCA_000001405.15_GRCh38_full_plus_hs38DH-extra_analysis_set.fa.gz /Users/k/Jumis/github_kwatme/sequencing_process/simulation/5k/trim_fastq_gzs_using_skewer-trimmed-pair1.fastq.gz /Users/k/Jumis/github_kwatme/sequencing_process/simulation/5k/trim_fastq_gzs_using_skewer-trimmed-pair2.fastq.gz | /Users/k/Jumis/github_kwatme/sequencing_process/resource/k8-0.2.3/k8-darwin /Users/k/Jumis/github_kwatme/sequencing_process/resource/bwa-postalt.js /Volumes/Jumis/data/grch/GCA_000001405.15_GRCh38_full_plus_hs38DH-extra_analysis_set.fa.gz.alt | samtools view -Sb --threads 4 > /Users/k/Jumis/github_kwatme/sequencing_process/simulation/5k/align_fastq_gzs_using_bwa_mem.bam\n",
      "samtools sort --threads 4 /Users/k/Jumis/github_kwatme/sequencing_process/simulation/5k/align_fastq_gzs_using_bwa_mem.bam > /Users/k/Jumis/github_kwatme/sequencing_process/simulation/5k/sort_and_index_bam_using_samtools.bam\n",
      "Consider removing unsorted .bam file /Users/k/Jumis/github_kwatme/sequencing_process/simulation/5k/align_fastq_gzs_using_bwa_mem.bam.\n",
      "samtools index -@ 4 /Users/k/Jumis/github_kwatme/sequencing_process/simulation/5k/sort_and_index_bam_using_samtools.bam\n",
      "picard -Xmx8G MarkDuplicates REMOVE_DUPLICATES=true INPUT=/Users/k/Jumis/github_kwatme/sequencing_process/simulation/5k/sort_and_index_bam_using_samtools.bam OUTPUT=/Users/k/Jumis/github_kwatme/sequencing_process/simulation/5k/clean.bam METRICS_FILE=/Users/k/Jumis/github_kwatme/sequencing_process/simulation/5k/clean.bam.metrics\n",
      "samtools index -@ 4 /Users/k/Jumis/github_kwatme/sequencing_process/simulation/5k/clean.bam\n",
      "samtools flagstat --threads 4 /Users/k/Jumis/github_kwatme/sequencing_process/simulation/5k/clean.bam > /Users/k/Jumis/github_kwatme/sequencing_process/simulation/5k/check_bam_using_samtools_flagstat\n",
      "/Users/k/Jumis/github_kwatme/sequencing_process/simulation/5k/check_bam_using_samtools_flagstat:\n",
      "12426 + 0 in total (QC-passed reads + QC-failed reads)\n",
      "0 + 0 secondary\n",
      "2426 + 0 supplementary\n",
      "0 + 0 duplicates\n",
      "11860 + 0 mapped (95.45% : N/A)\n",
      "10000 + 0 paired in sequencing\n",
      "5000 + 0 read1\n",
      "5000 + 0 read2\n",
      "9430 + 0 properly paired (94.30% : N/A)\n",
      "9434 + 0 with itself and mate mapped\n",
      "0 + 0 singletons (0.00% : N/A)\n",
      "4 + 0 with mate mapped to a different chr\n",
      "2 + 0 with mate mapped to a different chr (mapQ>=5)\n",
      "\n"
     ]
    }
   ],
   "source": [
    "bam_file_path = align_fastq_gzs_using_bwa_mem(\n",
    "    [fastq_gz_1_trimmed_file_path, fastq_gz_2_trimmed_file_path],\n",
    "    FASTA_GZ_FILE_PATH,\n",
    "    n_jobs=N_JOBS,\n",
    "    overwrite=OVERWRITE)\n",
    "\n",
    "sorted_and_indexed_bam_file_path = sort_and_index_bam_using_samtools(\n",
    "    bam_file_path,\n",
    "    remove_input_bam_file_path=True,\n",
    "    n_jobs=N_JOBS,\n",
    "    overwrite=OVERWRITE)\n",
    "\n",
    "check_bam_using_samtools_flagstat(\n",
    "    sorted_and_indexed_bam_file_path, n_jobs=N_JOBS, overwrite=OVERWRITE)\n",
    "\n",
    "duplicate_removed_bam_file_path = mark_duplicates_in_bam_using_picard_markduplicates(\n",
    "    sorted_and_indexed_bam_file_path,\n",
    "    remove_duplicates=True,\n",
    "    remove_input_bam_file_path_and_its_index=True,\n",
    "    n_jobs=N_JOBS,\n",
    "    overwrite=OVERWRITE)\n",
    "\n",
    "check_bam_using_samtools_flagstat(\n",
    "    duplicate_removed_bam_file_path, n_jobs=N_JOBS, overwrite=OVERWRITE)"
   ]
  },
  {
   "cell_type": "markdown",
   "metadata": {},
   "source": [
    "## Detect variant"
   ]
  },
  {
   "cell_type": "code",
   "execution_count": 8,
   "metadata": {
    "ExecuteTime": {
     "end_time": "2017-11-29T03:05:06.987191Z",
     "start_time": "2017-11-29T02:52:30.290286Z"
    },
    "scrolled": false
   },
   "outputs": [
    {
     "name": "stdout",
     "output_type": "stream",
     "text": [
      "freebayes --fasta-reference /Volumes/Jumis/data/grch/GCA_000001405.15_GRCh38_full_plus_hs38DH-extra_analysis_set.fa --region chr5 /Users/k/Jumis/github_kwatme/sequencing_process/simulation/5k/clean.bam > /Users/k/Jumis/github_kwatme/sequencing_process/simulation/5k/call_variants_on_bam_using_freebayes.--region_chr5.vcf\n",
      "freebayes --fasta-reference /Volumes/Jumis/data/grch/GCA_000001405.15_GRCh38_full_plus_hs38DH-extra_analysis_set.fa --region chr3 /Users/k/Jumis/github_kwatme/sequencing_process/simulation/5k/clean.bam > /Users/k/Jumis/github_kwatme/sequencing_process/simulation/5k/call_variants_on_bam_using_freebayes.--region_chr3.vcf\n",
      "freebayes --fasta-reference /Volumes/Jumis/data/grch/GCA_000001405.15_GRCh38_full_plus_hs38DH-extra_analysis_set.fa --region chr7 /Users/k/Jumis/github_kwatme/sequencing_process/simulation/5k/clean.bam > /Users/k/Jumis/github_kwatme/sequencing_process/simulation/5k/call_variants_on_bam_using_freebayes.--region_chr7.vcf\n",
      "freebayes --fasta-reference /Volumes/Jumis/data/grch/GCA_000001405.15_GRCh38_full_plus_hs38DH-extra_analysis_set.fa --region chr1 /Users/k/Jumis/github_kwatme/sequencing_process/simulation/5k/clean.bam > /Users/k/Jumis/github_kwatme/sequencing_process/simulation/5k/call_variants_on_bam_using_freebayes.--region_chr1.vcf\n",
      "bgzip --threads 1 --force /Users/k/Jumis/github_kwatme/sequencing_process/simulation/5k/call_variants_on_bam_using_freebayes.--region_chr7.vcf && tabix --force /Users/k/Jumis/github_kwatme/sequencing_process/simulation/5k/call_variants_on_bam_using_freebayes.--region_chr7.vcf.gz\n",
      "freebayes --fasta-reference /Volumes/Jumis/data/grch/GCA_000001405.15_GRCh38_full_plus_hs38DH-extra_analysis_set.fa --region chr8 /Users/k/Jumis/github_kwatme/sequencing_process/simulation/5k/clean.bam > /Users/k/Jumis/github_kwatme/sequencing_process/simulation/5k/call_variants_on_bam_using_freebayes.--region_chr8.vcf\n",
      "bgzip --threads 1 --force /Users/k/Jumis/github_kwatme/sequencing_process/simulation/5k/call_variants_on_bam_using_freebayes.--region_chr5.vcf && tabix --force /Users/k/Jumis/github_kwatme/sequencing_process/simulation/5k/call_variants_on_bam_using_freebayes.--region_chr5.vcf.gz\n",
      "freebayes --fasta-reference /Volumes/Jumis/data/grch/GCA_000001405.15_GRCh38_full_plus_hs38DH-extra_analysis_set.fa --region chr6 /Users/k/Jumis/github_kwatme/sequencing_process/simulation/5k/clean.bam > /Users/k/Jumis/github_kwatme/sequencing_process/simulation/5k/call_variants_on_bam_using_freebayes.--region_chr6.vcf\n",
      "bgzip --threads 1 --force /Users/k/Jumis/github_kwatme/sequencing_process/simulation/5k/call_variants_on_bam_using_freebayes.--region_chr3.vcf && tabix --force /Users/k/Jumis/github_kwatme/sequencing_process/simulation/5k/call_variants_on_bam_using_freebayes.--region_chr3.vcf.gz\n",
      "freebayes --fasta-reference /Volumes/Jumis/data/grch/GCA_000001405.15_GRCh38_full_plus_hs38DH-extra_analysis_set.fa --region chr4 /Users/k/Jumis/github_kwatme/sequencing_process/simulation/5k/clean.bam > /Users/k/Jumis/github_kwatme/sequencing_process/simulation/5k/call_variants_on_bam_using_freebayes.--region_chr4.vcf\n",
      "bgzip --threads 1 --force /Users/k/Jumis/github_kwatme/sequencing_process/simulation/5k/call_variants_on_bam_using_freebayes.--region_chr1.vcf && tabix --force /Users/k/Jumis/github_kwatme/sequencing_process/simulation/5k/call_variants_on_bam_using_freebayes.--region_chr1.vcf.gz\n",
      "freebayes --fasta-reference /Volumes/Jumis/data/grch/GCA_000001405.15_GRCh38_full_plus_hs38DH-extra_analysis_set.fa --region chr2 /Users/k/Jumis/github_kwatme/sequencing_process/simulation/5k/clean.bam > /Users/k/Jumis/github_kwatme/sequencing_process/simulation/5k/call_variants_on_bam_using_freebayes.--region_chr2.vcf\n",
      "bgzip --threads 1 --force /Users/k/Jumis/github_kwatme/sequencing_process/simulation/5k/call_variants_on_bam_using_freebayes.--region_chr8.vcf && tabix --force /Users/k/Jumis/github_kwatme/sequencing_process/simulation/5k/call_variants_on_bam_using_freebayes.--region_chr8.vcf.gz\n",
      "freebayes --fasta-reference /Volumes/Jumis/data/grch/GCA_000001405.15_GRCh38_full_plus_hs38DH-extra_analysis_set.fa --region chr9 /Users/k/Jumis/github_kwatme/sequencing_process/simulation/5k/clean.bam > /Users/k/Jumis/github_kwatme/sequencing_process/simulation/5k/call_variants_on_bam_using_freebayes.--region_chr9.vcf\n",
      "bgzip --threads 1 --force /Users/k/Jumis/github_kwatme/sequencing_process/simulation/5k/call_variants_on_bam_using_freebayes.--region_chr6.vcf && tabix --force /Users/k/Jumis/github_kwatme/sequencing_process/simulation/5k/call_variants_on_bam_using_freebayes.--region_chr6.vcf.gz\n",
      "freebayes --fasta-reference /Volumes/Jumis/data/grch/GCA_000001405.15_GRCh38_full_plus_hs38DH-extra_analysis_set.fa --region chr11 /Users/k/Jumis/github_kwatme/sequencing_process/simulation/5k/clean.bam > /Users/k/Jumis/github_kwatme/sequencing_process/simulation/5k/call_variants_on_bam_using_freebayes.--region_chr11.vcf\n",
      "bgzip --threads 1 --force /Users/k/Jumis/github_kwatme/sequencing_process/simulation/5k/call_variants_on_bam_using_freebayes.--region_chr4.vcf && tabix --force /Users/k/Jumis/github_kwatme/sequencing_process/simulation/5k/call_variants_on_bam_using_freebayes.--region_chr4.vcf.gz\n",
      "freebayes --fasta-reference /Volumes/Jumis/data/grch/GCA_000001405.15_GRCh38_full_plus_hs38DH-extra_analysis_set.fa --region chr13 /Users/k/Jumis/github_kwatme/sequencing_process/simulation/5k/clean.bam > /Users/k/Jumis/github_kwatme/sequencing_process/simulation/5k/call_variants_on_bam_using_freebayes.--region_chr13.vcf\n",
      "bgzip --threads 1 --force /Users/k/Jumis/github_kwatme/sequencing_process/simulation/5k/call_variants_on_bam_using_freebayes.--region_chr9.vcf && tabix --force /Users/k/Jumis/github_kwatme/sequencing_process/simulation/5k/call_variants_on_bam_using_freebayes.--region_chr9.vcf.gz\n",
      "freebayes --fasta-reference /Volumes/Jumis/data/grch/GCA_000001405.15_GRCh38_full_plus_hs38DH-extra_analysis_set.fa --region chr10 /Users/k/Jumis/github_kwatme/sequencing_process/simulation/5k/clean.bam > /Users/k/Jumis/github_kwatme/sequencing_process/simulation/5k/call_variants_on_bam_using_freebayes.--region_chr10.vcf\n",
      "bgzip --threads 1 --force /Users/k/Jumis/github_kwatme/sequencing_process/simulation/5k/call_variants_on_bam_using_freebayes.--region_chr11.vcf && tabix --force /Users/k/Jumis/github_kwatme/sequencing_process/simulation/5k/call_variants_on_bam_using_freebayes.--region_chr11.vcf.gz\n",
      "freebayes --fasta-reference /Volumes/Jumis/data/grch/GCA_000001405.15_GRCh38_full_plus_hs38DH-extra_analysis_set.fa --region chr12 /Users/k/Jumis/github_kwatme/sequencing_process/simulation/5k/clean.bam > /Users/k/Jumis/github_kwatme/sequencing_process/simulation/5k/call_variants_on_bam_using_freebayes.--region_chr12.vcf\n",
      "bgzip --threads 1 --force /Users/k/Jumis/github_kwatme/sequencing_process/simulation/5k/call_variants_on_bam_using_freebayes.--region_chr2.vcf && tabix --force /Users/k/Jumis/github_kwatme/sequencing_process/simulation/5k/call_variants_on_bam_using_freebayes.--region_chr2.vcf.gz\n",
      "freebayes --fasta-reference /Volumes/Jumis/data/grch/GCA_000001405.15_GRCh38_full_plus_hs38DH-extra_analysis_set.fa --region chr15 /Users/k/Jumis/github_kwatme/sequencing_process/simulation/5k/clean.bam > /Users/k/Jumis/github_kwatme/sequencing_process/simulation/5k/call_variants_on_bam_using_freebayes.--region_chr15.vcf\n",
      "bgzip --threads 1 --force /Users/k/Jumis/github_kwatme/sequencing_process/simulation/5k/call_variants_on_bam_using_freebayes.--region_chr13.vcf && tabix --force /Users/k/Jumis/github_kwatme/sequencing_process/simulation/5k/call_variants_on_bam_using_freebayes.--region_chr13.vcf.gz\n",
      "freebayes --fasta-reference /Volumes/Jumis/data/grch/GCA_000001405.15_GRCh38_full_plus_hs38DH-extra_analysis_set.fa --region chr14 /Users/k/Jumis/github_kwatme/sequencing_process/simulation/5k/clean.bam > /Users/k/Jumis/github_kwatme/sequencing_process/simulation/5k/call_variants_on_bam_using_freebayes.--region_chr14.vcf\n",
      "bgzip --threads 1 --force /Users/k/Jumis/github_kwatme/sequencing_process/simulation/5k/call_variants_on_bam_using_freebayes.--region_chr10.vcf && tabix --force /Users/k/Jumis/github_kwatme/sequencing_process/simulation/5k/call_variants_on_bam_using_freebayes.--region_chr10.vcf.gz\n"
     ]
    },
    {
     "name": "stdout",
     "output_type": "stream",
     "text": [
      "freebayes --fasta-reference /Volumes/Jumis/data/grch/GCA_000001405.15_GRCh38_full_plus_hs38DH-extra_analysis_set.fa --region chr17 /Users/k/Jumis/github_kwatme/sequencing_process/simulation/5k/clean.bam > /Users/k/Jumis/github_kwatme/sequencing_process/simulation/5k/call_variants_on_bam_using_freebayes.--region_chr17.vcf\n",
      "bgzip --threads 1 --force /Users/k/Jumis/github_kwatme/sequencing_process/simulation/5k/call_variants_on_bam_using_freebayes.--region_chr15.vcf && tabix --force /Users/k/Jumis/github_kwatme/sequencing_process/simulation/5k/call_variants_on_bam_using_freebayes.--region_chr15.vcf.gz\n",
      "freebayes --fasta-reference /Volumes/Jumis/data/grch/GCA_000001405.15_GRCh38_full_plus_hs38DH-extra_analysis_set.fa --region chr16 /Users/k/Jumis/github_kwatme/sequencing_process/simulation/5k/clean.bam > /Users/k/Jumis/github_kwatme/sequencing_process/simulation/5k/call_variants_on_bam_using_freebayes.--region_chr16.vcf\n",
      "bgzip --threads 1 --force /Users/k/Jumis/github_kwatme/sequencing_process/simulation/5k/call_variants_on_bam_using_freebayes.--region_chr12.vcf && tabix --force /Users/k/Jumis/github_kwatme/sequencing_process/simulation/5k/call_variants_on_bam_using_freebayes.--region_chr12.vcf.gz\n",
      "freebayes --fasta-reference /Volumes/Jumis/data/grch/GCA_000001405.15_GRCh38_full_plus_hs38DH-extra_analysis_set.fa --region chr19 /Users/k/Jumis/github_kwatme/sequencing_process/simulation/5k/clean.bam > /Users/k/Jumis/github_kwatme/sequencing_process/simulation/5k/call_variants_on_bam_using_freebayes.--region_chr19.vcf\n",
      "bgzip --threads 1 --force /Users/k/Jumis/github_kwatme/sequencing_process/simulation/5k/call_variants_on_bam_using_freebayes.--region_chr14.vcf && tabix --force /Users/k/Jumis/github_kwatme/sequencing_process/simulation/5k/call_variants_on_bam_using_freebayes.--region_chr14.vcf.gz\n",
      "freebayes --fasta-reference /Volumes/Jumis/data/grch/GCA_000001405.15_GRCh38_full_plus_hs38DH-extra_analysis_set.fa --region chr21 /Users/k/Jumis/github_kwatme/sequencing_process/simulation/5k/clean.bam > /Users/k/Jumis/github_kwatme/sequencing_process/simulation/5k/call_variants_on_bam_using_freebayes.--region_chr21.vcf\n",
      "bgzip --threads 1 --force /Users/k/Jumis/github_kwatme/sequencing_process/simulation/5k/call_variants_on_bam_using_freebayes.--region_chr17.vcf && tabix --force /Users/k/Jumis/github_kwatme/sequencing_process/simulation/5k/call_variants_on_bam_using_freebayes.--region_chr17.vcf.gz\n",
      "freebayes --fasta-reference /Volumes/Jumis/data/grch/GCA_000001405.15_GRCh38_full_plus_hs38DH-extra_analysis_set.fa --region chr18 /Users/k/Jumis/github_kwatme/sequencing_process/simulation/5k/clean.bam > /Users/k/Jumis/github_kwatme/sequencing_process/simulation/5k/call_variants_on_bam_using_freebayes.--region_chr18.vcf\n",
      "bgzip --threads 1 --force /Users/k/Jumis/github_kwatme/sequencing_process/simulation/5k/call_variants_on_bam_using_freebayes.--region_chr21.vcf && tabix --force /Users/k/Jumis/github_kwatme/sequencing_process/simulation/5k/call_variants_on_bam_using_freebayes.--region_chr21.vcf.gz\n",
      "freebayes --fasta-reference /Volumes/Jumis/data/grch/GCA_000001405.15_GRCh38_full_plus_hs38DH-extra_analysis_set.fa --region chr22 /Users/k/Jumis/github_kwatme/sequencing_process/simulation/5k/clean.bam > /Users/k/Jumis/github_kwatme/sequencing_process/simulation/5k/call_variants_on_bam_using_freebayes.--region_chr22.vcf\n",
      "bgzip --threads 1 --force /Users/k/Jumis/github_kwatme/sequencing_process/simulation/5k/call_variants_on_bam_using_freebayes.--region_chr19.vcf && tabix --force /Users/k/Jumis/github_kwatme/sequencing_process/simulation/5k/call_variants_on_bam_using_freebayes.--region_chr19.vcf.gz\n",
      "freebayes --fasta-reference /Volumes/Jumis/data/grch/GCA_000001405.15_GRCh38_full_plus_hs38DH-extra_analysis_set.fa --region chr20 /Users/k/Jumis/github_kwatme/sequencing_process/simulation/5k/clean.bam > /Users/k/Jumis/github_kwatme/sequencing_process/simulation/5k/call_variants_on_bam_using_freebayes.--region_chr20.vcf\n",
      "bgzip --threads 1 --force /Users/k/Jumis/github_kwatme/sequencing_process/simulation/5k/call_variants_on_bam_using_freebayes.--region_chr16.vcf && tabix --force /Users/k/Jumis/github_kwatme/sequencing_process/simulation/5k/call_variants_on_bam_using_freebayes.--region_chr16.vcf.gz\n",
      "freebayes --fasta-reference /Volumes/Jumis/data/grch/GCA_000001405.15_GRCh38_full_plus_hs38DH-extra_analysis_set.fa --region chrX /Users/k/Jumis/github_kwatme/sequencing_process/simulation/5k/clean.bam > /Users/k/Jumis/github_kwatme/sequencing_process/simulation/5k/call_variants_on_bam_using_freebayes.--region_chrX.vcf\n",
      "bgzip --threads 1 --force /Users/k/Jumis/github_kwatme/sequencing_process/simulation/5k/call_variants_on_bam_using_freebayes.--region_chr22.vcf && tabix --force /Users/k/Jumis/github_kwatme/sequencing_process/simulation/5k/call_variants_on_bam_using_freebayes.--region_chr22.vcf.gz\n",
      "freebayes --fasta-reference /Volumes/Jumis/data/grch/GCA_000001405.15_GRCh38_full_plus_hs38DH-extra_analysis_set.fa --region chrM /Users/k/Jumis/github_kwatme/sequencing_process/simulation/5k/clean.bam > /Users/k/Jumis/github_kwatme/sequencing_process/simulation/5k/call_variants_on_bam_using_freebayes.--region_chrM.vcf\n",
      "bgzip --threads 1 --force /Users/k/Jumis/github_kwatme/sequencing_process/simulation/5k/call_variants_on_bam_using_freebayes.--region_chrM.vcf && tabix --force /Users/k/Jumis/github_kwatme/sequencing_process/simulation/5k/call_variants_on_bam_using_freebayes.--region_chrM.vcf.gz\n",
      "bgzip --threads 1 --force /Users/k/Jumis/github_kwatme/sequencing_process/simulation/5k/call_variants_on_bam_using_freebayes.--region_chr18.vcf && tabix --force /Users/k/Jumis/github_kwatme/sequencing_process/simulation/5k/call_variants_on_bam_using_freebayes.--region_chr18.vcf.gz\n",
      "bgzip --threads 1 --force /Users/k/Jumis/github_kwatme/sequencing_process/simulation/5k/call_variants_on_bam_using_freebayes.--region_chr20.vcf && tabix --force /Users/k/Jumis/github_kwatme/sequencing_process/simulation/5k/call_variants_on_bam_using_freebayes.--region_chr20.vcf.gz\n",
      "bgzip --threads 1 --force /Users/k/Jumis/github_kwatme/sequencing_process/simulation/5k/call_variants_on_bam_using_freebayes.--region_chrX.vcf && tabix --force /Users/k/Jumis/github_kwatme/sequencing_process/simulation/5k/call_variants_on_bam_using_freebayes.--region_chrX.vcf.gz\n",
      "freebayes --fasta-reference /Volumes/Jumis/data/grch/GCA_000001405.15_GRCh38_full_plus_hs38DH-extra_analysis_set.fa --region chrY /Users/k/Jumis/github_kwatme/sequencing_process/simulation/5k/clean.bam > /Users/k/Jumis/github_kwatme/sequencing_process/simulation/5k/call_variants_on_bam_using_freebayes.--region_chrY.vcf\n",
      "bgzip --threads 1 --force /Users/k/Jumis/github_kwatme/sequencing_process/simulation/5k/call_variants_on_bam_using_freebayes.--region_chrY.vcf && tabix --force /Users/k/Jumis/github_kwatme/sequencing_process/simulation/5k/call_variants_on_bam_using_freebayes.--region_chrY.vcf.gz\n",
      "bcftools concat --allow-overlaps --threads 4 /Users/k/Jumis/github_kwatme/sequencing_process/simulation/5k/call_variants_on_bam_using_freebayes.--region_chr1.vcf.gz /Users/k/Jumis/github_kwatme/sequencing_process/simulation/5k/call_variants_on_bam_using_freebayes.--region_chr2.vcf.gz /Users/k/Jumis/github_kwatme/sequencing_process/simulation/5k/call_variants_on_bam_using_freebayes.--region_chr3.vcf.gz /Users/k/Jumis/github_kwatme/sequencing_process/simulation/5k/call_variants_on_bam_using_freebayes.--region_chr4.vcf.gz /Users/k/Jumis/github_kwatme/sequencing_process/simulation/5k/call_variants_on_bam_using_freebayes.--region_chr5.vcf.gz /Users/k/Jumis/github_kwatme/sequencing_process/simulation/5k/call_variants_on_bam_using_freebayes.--region_chr6.vcf.gz /Users/k/Jumis/github_kwatme/sequencing_process/simulation/5k/call_variants_on_bam_using_freebayes.--region_chr7.vcf.gz /Users/k/Jumis/github_kwatme/sequencing_process/simulation/5k/call_variants_on_bam_using_freebayes.--region_chr8.vcf.gz /Users/k/Jumis/github_kwatme/sequencing_process/simulation/5k/call_variants_on_bam_using_freebayes.--region_chr9.vcf.gz /Users/k/Jumis/github_kwatme/sequencing_process/simulation/5k/call_variants_on_bam_using_freebayes.--region_chr10.vcf.gz /Users/k/Jumis/github_kwatme/sequencing_process/simulation/5k/call_variants_on_bam_using_freebayes.--region_chr11.vcf.gz /Users/k/Jumis/github_kwatme/sequencing_process/simulation/5k/call_variants_on_bam_using_freebayes.--region_chr12.vcf.gz /Users/k/Jumis/github_kwatme/sequencing_process/simulation/5k/call_variants_on_bam_using_freebayes.--region_chr13.vcf.gz /Users/k/Jumis/github_kwatme/sequencing_process/simulation/5k/call_variants_on_bam_using_freebayes.--region_chr14.vcf.gz /Users/k/Jumis/github_kwatme/sequencing_process/simulation/5k/call_variants_on_bam_using_freebayes.--region_chr15.vcf.gz /Users/k/Jumis/github_kwatme/sequencing_process/simulation/5k/call_variants_on_bam_using_freebayes.--region_chr16.vcf.gz /Users/k/Jumis/github_kwatme/sequencing_process/simulation/5k/call_variants_on_bam_using_freebayes.--region_chr17.vcf.gz /Users/k/Jumis/github_kwatme/sequencing_process/simulation/5k/call_variants_on_bam_using_freebayes.--region_chr18.vcf.gz /Users/k/Jumis/github_kwatme/sequencing_process/simulation/5k/call_variants_on_bam_using_freebayes.--region_chr19.vcf.gz /Users/k/Jumis/github_kwatme/sequencing_process/simulation/5k/call_variants_on_bam_using_freebayes.--region_chr20.vcf.gz /Users/k/Jumis/github_kwatme/sequencing_process/simulation/5k/call_variants_on_bam_using_freebayes.--region_chr21.vcf.gz /Users/k/Jumis/github_kwatme/sequencing_process/simulation/5k/call_variants_on_bam_using_freebayes.--region_chr22.vcf.gz /Users/k/Jumis/github_kwatme/sequencing_process/simulation/5k/call_variants_on_bam_using_freebayes.--region_chrX.vcf.gz /Users/k/Jumis/github_kwatme/sequencing_process/simulation/5k/call_variants_on_bam_using_freebayes.--region_chrY.vcf.gz /Users/k/Jumis/github_kwatme/sequencing_process/simulation/5k/call_variants_on_bam_using_freebayes.--region_chrM.vcf.gz > /Users/k/Jumis/github_kwatme/sequencing_process/simulation/5k/concatenate_vcf_gzs_using_bcftools.vcf\n",
      "Consider removing .vcf.gz files ['/Users/k/Jumis/github_kwatme/sequencing_process/simulation/5k/call_variants_on_bam_using_freebayes.--region_chr1.vcf.gz', '/Users/k/Jumis/github_kwatme/sequencing_process/simulation/5k/call_variants_on_bam_using_freebayes.--region_chr2.vcf.gz', '/Users/k/Jumis/github_kwatme/sequencing_process/simulation/5k/call_variants_on_bam_using_freebayes.--region_chr3.vcf.gz', '/Users/k/Jumis/github_kwatme/sequencing_process/simulation/5k/call_variants_on_bam_using_freebayes.--region_chr4.vcf.gz', '/Users/k/Jumis/github_kwatme/sequencing_process/simulation/5k/call_variants_on_bam_using_freebayes.--region_chr5.vcf.gz', '/Users/k/Jumis/github_kwatme/sequencing_process/simulation/5k/call_variants_on_bam_using_freebayes.--region_chr6.vcf.gz', '/Users/k/Jumis/github_kwatme/sequencing_process/simulation/5k/call_variants_on_bam_using_freebayes.--region_chr7.vcf.gz', '/Users/k/Jumis/github_kwatme/sequencing_process/simulation/5k/call_variants_on_bam_using_freebayes.--region_chr8.vcf.gz', '/Users/k/Jumis/github_kwatme/sequencing_process/simulation/5k/call_variants_on_bam_using_freebayes.--region_chr9.vcf.gz', '/Users/k/Jumis/github_kwatme/sequencing_process/simulation/5k/call_variants_on_bam_using_freebayes.--region_chr10.vcf.gz', '/Users/k/Jumis/github_kwatme/sequencing_process/simulation/5k/call_variants_on_bam_using_freebayes.--region_chr11.vcf.gz', '/Users/k/Jumis/github_kwatme/sequencing_process/simulation/5k/call_variants_on_bam_using_freebayes.--region_chr12.vcf.gz', '/Users/k/Jumis/github_kwatme/sequencing_process/simulation/5k/call_variants_on_bam_using_freebayes.--region_chr13.vcf.gz', '/Users/k/Jumis/github_kwatme/sequencing_process/simulation/5k/call_variants_on_bam_using_freebayes.--region_chr14.vcf.gz', '/Users/k/Jumis/github_kwatme/sequencing_process/simulation/5k/call_variants_on_bam_using_freebayes.--region_chr15.vcf.gz', '/Users/k/Jumis/github_kwatme/sequencing_process/simulation/5k/call_variants_on_bam_using_freebayes.--region_chr16.vcf.gz', '/Users/k/Jumis/github_kwatme/sequencing_process/simulation/5k/call_variants_on_bam_using_freebayes.--region_chr17.vcf.gz', '/Users/k/Jumis/github_kwatme/sequencing_process/simulation/5k/call_variants_on_bam_using_freebayes.--region_chr18.vcf.gz', '/Users/k/Jumis/github_kwatme/sequencing_process/simulation/5k/call_variants_on_bam_using_freebayes.--region_chr19.vcf.gz', '/Users/k/Jumis/github_kwatme/sequencing_process/simulation/5k/call_variants_on_bam_using_freebayes.--region_chr20.vcf.gz', '/Users/k/Jumis/github_kwatme/sequencing_process/simulation/5k/call_variants_on_bam_using_freebayes.--region_chr21.vcf.gz', '/Users/k/Jumis/github_kwatme/sequencing_process/simulation/5k/call_variants_on_bam_using_freebayes.--region_chr22.vcf.gz', '/Users/k/Jumis/github_kwatme/sequencing_process/simulation/5k/call_variants_on_bam_using_freebayes.--region_chrX.vcf.gz', '/Users/k/Jumis/github_kwatme/sequencing_process/simulation/5k/call_variants_on_bam_using_freebayes.--region_chrY.vcf.gz', '/Users/k/Jumis/github_kwatme/sequencing_process/simulation/5k/call_variants_on_bam_using_freebayes.--region_chrM.vcf.gz'] and their indices.\n",
      "bgzip --threads 4 --force /Users/k/Jumis/github_kwatme/sequencing_process/simulation/5k/concatenate_vcf_gzs_using_bcftools.vcf && tabix --force /Users/k/Jumis/github_kwatme/sequencing_process/simulation/5k/concatenate_vcf_gzs_using_bcftools.vcf.gz\n",
      "snpEff -Xmx12G -htmlStats /Users/k/Jumis/github_kwatme/sequencing_process/simulation/5k/snpeff.vcf.stats.html -csvStats /Users/k/Jumis/github_kwatme/sequencing_process/simulation/5k/snpeff.vcf.stats.csv -t -verbose -noLog GRCh38.86 /Users/k/Jumis/github_kwatme/sequencing_process/simulation/5k/concatenate_vcf_gzs_using_bcftools.vcf.gz > /Users/k/Jumis/github_kwatme/sequencing_process/simulation/5k/snpeff.vcf\n"
     ]
    },
    {
     "ename": "CalledProcessError",
     "evalue": "Command 'snpEff -Xmx12G -htmlStats /Users/k/Jumis/github_kwatme/sequencing_process/simulation/5k/snpeff.vcf.stats.html -csvStats /Users/k/Jumis/github_kwatme/sequencing_process/simulation/5k/snpeff.vcf.stats.csv -t -verbose -noLog GRCh38.86 /Users/k/Jumis/github_kwatme/sequencing_process/simulation/5k/concatenate_vcf_gzs_using_bcftools.vcf.gz > /Users/k/Jumis/github_kwatme/sequencing_process/simulation/5k/snpeff.vcf' returned non-zero exit status 255.",
     "output_type": "error",
     "traceback": [
      "\u001b[0;31m---------------------------------------------------------------------------\u001b[0m",
      "\u001b[0;31mCalledProcessError\u001b[0m                        Traceback (most recent call last)",
      "\u001b[0;32m<ipython-input-8-5bf5a82fa967>\u001b[0m in \u001b[0;36m<module>\u001b[0;34m()\u001b[0m\n\u001b[1;32m     11\u001b[0m     \u001b[0mn_jobs\u001b[0m\u001b[0;34m=\u001b[0m\u001b[0mN_JOBS\u001b[0m\u001b[0;34m,\u001b[0m\u001b[0;34m\u001b[0m\u001b[0m\n\u001b[1;32m     12\u001b[0m     \u001b[0moutput_vcf_file_path\u001b[0m\u001b[0;34m=\u001b[0m\u001b[0mos\u001b[0m\u001b[0;34m.\u001b[0m\u001b[0mpath\u001b[0m\u001b[0;34m.\u001b[0m\u001b[0mjoin\u001b[0m\u001b[0;34m(\u001b[0m\u001b[0mDIRECTORY_PATH\u001b[0m\u001b[0;34m,\u001b[0m \u001b[0;34m'snpeff.vcf'\u001b[0m\u001b[0;34m)\u001b[0m\u001b[0;34m,\u001b[0m\u001b[0;34m\u001b[0m\u001b[0m\n\u001b[0;32m---> 13\u001b[0;31m     overwrite=OVERWRITE)\n\u001b[0m\u001b[1;32m     14\u001b[0m \u001b[0mos\u001b[0m\u001b[0;34m.\u001b[0m\u001b[0mremove\u001b[0m\u001b[0;34m(\u001b[0m\u001b[0mvcf_gz_file_path\u001b[0m\u001b[0;34m)\u001b[0m\u001b[0;34m\u001b[0m\u001b[0m\n\u001b[1;32m     15\u001b[0m \u001b[0mos\u001b[0m\u001b[0;34m.\u001b[0m\u001b[0mremove\u001b[0m\u001b[0;34m(\u001b[0m\u001b[0mvcf_gz_file_path\u001b[0m \u001b[0;34m+\u001b[0m \u001b[0;34m'.tbi'\u001b[0m\u001b[0;34m)\u001b[0m\u001b[0;34m\u001b[0m\u001b[0m\n",
      "\u001b[0;32m~/Jumis/github_kwatme/sequencing_process/sequencing_process/process_vcf_gz.py\u001b[0m in \u001b[0;36mannotate_vcf_gz_using_snpeff\u001b[0;34m(vcf_gz_file_path, genomic_assembly, maximum_memory, n_jobs, output_vcf_file_path, overwrite)\u001b[0m\n\u001b[1;32m    137\u001b[0m         format(maximum_memory, output_vcf_file_path, output_vcf_file_path,\n\u001b[1;32m    138\u001b[0m                genomic_assembly, vcf_gz_file_path, output_vcf_file_path),\n\u001b[0;32m--> 139\u001b[0;31m         print_command=True)\n\u001b[0m\u001b[1;32m    140\u001b[0m \u001b[0;34m\u001b[0m\u001b[0m\n\u001b[1;32m    141\u001b[0m     return bgzip_and_tabix(\n",
      "\u001b[0;32m~/Jumis/github_kwatme/sequencing_process/sequencing_process/support/support/subprocess_.py\u001b[0m in \u001b[0;36mrun_command\u001b[0;34m(command, print_command)\u001b[0m\n\u001b[1;32m     23\u001b[0m         \u001b[0mstderr\u001b[0m\u001b[0;34m=\u001b[0m\u001b[0mPIPE\u001b[0m\u001b[0;34m,\u001b[0m\u001b[0;34m\u001b[0m\u001b[0m\n\u001b[1;32m     24\u001b[0m         \u001b[0mcheck\u001b[0m\u001b[0;34m=\u001b[0m\u001b[0;32mTrue\u001b[0m\u001b[0;34m,\u001b[0m\u001b[0;34m\u001b[0m\u001b[0m\n\u001b[0;32m---> 25\u001b[0;31m         universal_newlines=True)\n\u001b[0m\u001b[1;32m     26\u001b[0m \u001b[0;34m\u001b[0m\u001b[0m\n\u001b[1;32m     27\u001b[0m \u001b[0;34m\u001b[0m\u001b[0m\n",
      "\u001b[0;32m~/Jumis/conda/lib/python3.6/subprocess.py\u001b[0m in \u001b[0;36mrun\u001b[0;34m(input, timeout, check, *popenargs, **kwargs)\u001b[0m\n\u001b[1;32m    416\u001b[0m         \u001b[0;32mif\u001b[0m \u001b[0mcheck\u001b[0m \u001b[0;32mand\u001b[0m \u001b[0mretcode\u001b[0m\u001b[0;34m:\u001b[0m\u001b[0;34m\u001b[0m\u001b[0m\n\u001b[1;32m    417\u001b[0m             raise CalledProcessError(retcode, process.args,\n\u001b[0;32m--> 418\u001b[0;31m                                      output=stdout, stderr=stderr)\n\u001b[0m\u001b[1;32m    419\u001b[0m     \u001b[0;32mreturn\u001b[0m \u001b[0mCompletedProcess\u001b[0m\u001b[0;34m(\u001b[0m\u001b[0mprocess\u001b[0m\u001b[0;34m.\u001b[0m\u001b[0margs\u001b[0m\u001b[0;34m,\u001b[0m \u001b[0mretcode\u001b[0m\u001b[0;34m,\u001b[0m \u001b[0mstdout\u001b[0m\u001b[0;34m,\u001b[0m \u001b[0mstderr\u001b[0m\u001b[0;34m)\u001b[0m\u001b[0;34m\u001b[0m\u001b[0m\n\u001b[1;32m    420\u001b[0m \u001b[0;34m\u001b[0m\u001b[0m\n",
      "\u001b[0;31mCalledProcessError\u001b[0m: Command 'snpEff -Xmx12G -htmlStats /Users/k/Jumis/github_kwatme/sequencing_process/simulation/5k/snpeff.vcf.stats.html -csvStats /Users/k/Jumis/github_kwatme/sequencing_process/simulation/5k/snpeff.vcf.stats.csv -t -verbose -noLog GRCh38.86 /Users/k/Jumis/github_kwatme/sequencing_process/simulation/5k/concatenate_vcf_gzs_using_bcftools.vcf.gz > /Users/k/Jumis/github_kwatme/sequencing_process/simulation/5k/snpeff.vcf' returned non-zero exit status 255."
     ]
    }
   ],
   "source": [
    "vcf_gz_file_path = call_variants_on_bam_using_freebayes_and_multiprocess(\n",
    "    clean_bam_file_path,\n",
    "    FASTA_FILE_PATH, ['chr{}'.format(i)\n",
    "                      for i in range(1, 23)] + ['chrX', 'chrY', 'chrM'],\n",
    "    n_jobs=N_JOBS,\n",
    "    overwrite=OVERWRITE)\n",
    "\n",
    "snpeff_annotated_vcf_gz_file_path = annotate_vcf_gz_using_snpeff(\n",
    "    vcf_gz_file_path,\n",
    "    'GRCh38.86',\n",
    "    remove_input_vcf_gz_file_path_and_its_index=True,\n",
    "    n_jobs=N_JOBS,\n",
    "    output_vcf_file_path=os.path.join(DIRECTORY_PATH, 'snpeff.vcf'),\n",
    "    overwrite=OVERWRITE)\n",
    "\n",
    "clinvar_annotated_vcf_gz_file_path = annotate_vcf_gz_using_bcftools(\n",
    "    snpeff_annotated_vcf_gz_file_path,\n",
    "    CLINVAR_VCF_GZ_FILE_PATH, ['--columns =ID,INFO'],\n",
    "    remove_input_vcf_gz_file_path_and_its_index=True,\n",
    "    n_jobs=N_JOBS,\n",
    "    output_vcf_file_path=os.path.join(DIRECTORY_PATH, 'annotated.vcf'),\n",
    "    overwrite=OVERWRITE)\n",
    "\n",
    "filtered_vcf_gz_file_path = filter_vcf_gz_using_bcftools(\n",
    "    clinvar_annotated_vcf_gz_file_path,\n",
    "    n_jobs=N_JOBS,\n",
    "    output_vcf_file_path=os.path.join(DIRECTORY_PATH, 'filtered.vcf'),\n",
    "    overwrite=OVERWRITE)"
   ]
  }
 ],
 "metadata": {
  "kernelspec": {
   "display_name": "Python [default]",
   "language": "python",
   "name": "python3"
  },
  "language_info": {
   "codemirror_mode": {
    "name": "ipython",
    "version": 3
   },
   "file_extension": ".py",
   "mimetype": "text/x-python",
   "name": "python",
   "nbconvert_exporter": "python",
   "pygments_lexer": "ipython3",
   "version": "3.6.2"
  }
 },
 "nbformat": 4,
 "nbformat_minor": 2
}
