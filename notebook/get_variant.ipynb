{
 "cells": [
  {
   "cell_type": "code",
   "execution_count": null,
   "metadata": {
    "ExecuteTime": {
     "end_time": "2017-11-29T04:42:57.694626Z",
     "start_time": "2017-11-29T04:42:57.301582Z"
    }
   },
   "outputs": [],
   "source": [
    "import os\n",
    "import sys\n",
    "\n",
    "sys.path.insert(0, '..')\n",
    "from sequencing_process.support.support.path import clean_path\n",
    "from sequencing_process.process_fastq_gz import check_fastq_gzs_using_fastqc, trim_fastq_gzs_using_skewer, align_fastq_gzs_using_bwa_mem\n",
    "from sequencing_process.process_bam import sort_and_index_bam_using_samtools_sort_and_index, mark_duplicates_in_bam_using_picard_markduplicates, check_bam_using_samtools_flagstat, call_variants_on_bam_using_freebayes_and_multiprocess\n",
    "from sequencing_process.process_vcf_gz import annotate_vcf_gz_using_snpeff, rename_chromosomes_of_vcf_gz_using_bcftools_annotate, annotate_vcf_gz_using_bcftools_annotate, filter_vcf_gz_using_bcftools_view\n",
    "\n",
    "%load_ext autoreload\n",
    "%autoreload 2\n",
    "%matplotlib inline"
   ]
  },
  {
   "cell_type": "markdown",
   "metadata": {},
   "source": [
    "## Set reference file paths"
   ]
  },
  {
   "cell_type": "code",
   "execution_count": null,
   "metadata": {
    "ExecuteTime": {
     "end_time": "2017-11-29T03:40:26.351327Z",
     "start_time": "2017-11-29T03:40:26.318620Z"
    }
   },
   "outputs": [],
   "source": [
    "GRCH_DIRECTORY_PATH = clean_path('/Volumes/Jumis/data/grch')\n",
    "assert os.path.isdir(GRCH_DIRECTORY_PATH)\n",
    "\n",
    "FASTA_GZ_FILE_PATH = os.path.join(\n",
    "    GRCH_DIRECTORY_PATH,\n",
    "    'GCA_000001405.15_GRCh38_full_plus_hs38DH-extra_analysis_set.fa.gz')\n",
    "assert os.path.isfile(FASTA_GZ_FILE_PATH)\n",
    "\n",
    "FASTA_FILE_PATH = FASTA_GZ_FILE_PATH[:-3]\n",
    "assert os.path.isfile(FASTA_FILE_PATH)\n",
    "\n",
    "CLINVAR_VCF_GZ_FILE_PATH = os.path.join(GRCH_DIRECTORY_PATH, 'clinvar.vcf.gz')\n",
    "assert os.path.isfile(CLINVAR_VCF_GZ_FILE_PATH)"
   ]
  },
  {
   "cell_type": "markdown",
   "metadata": {},
   "source": [
    "## Set parameters"
   ]
  },
  {
   "cell_type": "code",
   "execution_count": null,
   "metadata": {
    "ExecuteTime": {
     "end_time": "2017-11-29T03:40:26.378578Z",
     "start_time": "2017-11-29T03:40:26.354960Z"
    }
   },
   "outputs": [],
   "source": [
    "N_JOBS = 4\n",
    "OVERWRITE = True"
   ]
  },
  {
   "cell_type": "markdown",
   "metadata": {},
   "source": [
    "## Check .fastq.gz"
   ]
  },
  {
   "cell_type": "code",
   "execution_count": null,
   "metadata": {
    "ExecuteTime": {
     "end_time": "2017-11-29T03:40:31.231095Z",
     "start_time": "2017-11-29T03:40:26.381368Z"
    }
   },
   "outputs": [],
   "source": [
    "DIRECTORY_PATH = clean_path('../simulation/1k')\n",
    "\n",
    "fastq_gz_1_file_path = os.path.join(DIRECTORY_PATH,\n",
    "                                    'simulation.bwa.read1.fastq.gz')\n",
    "assert os.path.isfile(fastq_gz_1_file_path)\n",
    "\n",
    "fastq_gz_2_file_path = os.path.join(DIRECTORY_PATH,\n",
    "                                    'simulation.bwa.read2.fastq.gz')\n",
    "assert os.path.isfile(fastq_gz_2_file_path)\n",
    "\n",
    "check_fastq_gzs_using_fastqc(\n",
    "    [fastq_gz_1_file_path, fastq_gz_2_file_path],\n",
    "    n_jobs=N_JOBS,\n",
    "    overwrite=OVERWRITE)"
   ]
  },
  {
   "cell_type": "markdown",
   "metadata": {},
   "source": [
    "## Trim and recheck .fastq.gz"
   ]
  },
  {
   "cell_type": "code",
   "execution_count": null,
   "metadata": {
    "ExecuteTime": {
     "end_time": "2017-11-29T03:40:36.356237Z",
     "start_time": "2017-11-29T03:40:31.234703Z"
    }
   },
   "outputs": [],
   "source": [
    "fastq_gz_1_trimmed_file_path, fastq_gz_2_trimmed_file_path = trim_fastq_gzs_using_skewer(\n",
    "    [fastq_gz_1_file_path, fastq_gz_2_file_path],\n",
    "    end_quality=3,\n",
    "    output_prefix='sequence',\n",
    "    overwrite=OVERWRITE)\n",
    "\n",
    "check_fastq_gzs_using_fastqc(\n",
    "    [fastq_gz_1_trimmed_file_path, fastq_gz_2_trimmed_file_path],\n",
    "    n_jobs=N_JOBS,\n",
    "    overwrite=OVERWRITE)"
   ]
  },
  {
   "cell_type": "markdown",
   "metadata": {},
   "source": [
    "## Align to the reference genome"
   ]
  },
  {
   "cell_type": "code",
   "execution_count": null,
   "metadata": {
    "ExecuteTime": {
     "end_time": "2017-11-29T03:41:51.425754Z",
     "start_time": "2017-11-29T03:40:36.359810Z"
    },
    "scrolled": false
   },
   "outputs": [],
   "source": [
    "bam_file_path = align_fastq_gzs_using_bwa_mem(\n",
    "    [fastq_gz_1_trimmed_file_path, fastq_gz_2_trimmed_file_path],\n",
    "    FASTA_GZ_FILE_PATH,\n",
    "    n_jobs=N_JOBS,\n",
    "    overwrite=OVERWRITE)\n",
    "\n",
    "sorted_and_indexed_bam_file_path = sort_and_index_bam_using_samtools(\n",
    "    bam_file_path,\n",
    "    remove_input_bam_file_path=True,\n",
    "    n_jobs=N_JOBS,\n",
    "    overwrite=OVERWRITE)\n",
    "\n",
    "duplicate_removed_bam_file_path = mark_duplicates_in_bam_using_picard_markduplicates(\n",
    "    sorted_and_indexed_bam_file_path,\n",
    "    remove_duplicates=True,\n",
    "    remove_input_bam_file_path_and_its_index=True,\n",
    "    n_jobs=N_JOBS,\n",
    "    output_bam_file_path=os.path.join(DIRECTORY_PATH, 'clean.bam'),\n",
    "    overwrite=OVERWRITE)\n",
    "\n",
    "check_bam_using_samtools_flagstat(\n",
    "    duplicate_removed_bam_file_path, n_jobs=N_JOBS, overwrite=OVERWRITE)"
   ]
  },
  {
   "cell_type": "markdown",
   "metadata": {},
   "source": [
    "## Detect variant"
   ]
  },
  {
   "cell_type": "code",
   "execution_count": null,
   "metadata": {
    "ExecuteTime": {
     "end_time": "2017-11-29T03:50:13.589109Z",
     "start_time": "2017-11-29T03:43:18.404424Z"
    },
    "scrolled": false
   },
   "outputs": [],
   "source": [
    "vcf_gz_file_path = call_variants_on_bam_using_freebayes_and_multiprocess(\n",
    "    duplicate_removed_bam_file_path,\n",
    "    FASTA_FILE_PATH, ['chr{}'.format(i)\n",
    "                      for i in range(1, 23)] + ['chrX', 'chrY', 'chrM'],\n",
    "    n_jobs=N_JOBS,\n",
    "    overwrite=OVERWRITE)\n",
    "\n",
    "chromosomes_renamed_vcf_gz_file_path = rename_contigs_using_bcftools_annotate(\n",
    "    vcf_gz_file_path,\n",
    "    remove_input_vcf_gz_file_path_and_its_index=True,\n",
    "    n_jobs=N_JOBS,\n",
    "    overwrite=OVERWRITE)\n",
    "\n",
    "snpeff_annotated_vcf_gz_file_path = annotate_vcf_gz_using_snpeff(\n",
    "    chromosomes_renamed_vcf_gz_file_path,\n",
    "    'GRCh38.86',\n",
    "    remove_input_vcf_gz_file_path_and_its_index=True,\n",
    "    n_jobs=N_JOBS,\n",
    "    overwrite=OVERWRITE)\n",
    "\n",
    "clinvar_annotated_vcf_gz_file_path = annotate_vcf_gz_using_bcftools_annotate(\n",
    "    snpeff_annotated_vcf_gz_file_path,\n",
    "    CLINVAR_VCF_GZ_FILE_PATH, ['--columns =ID,INFO'],\n",
    "    remove_input_vcf_gz_file_path_and_its_index=True,\n",
    "    n_jobs=N_JOBS,\n",
    "    output_vcf_file_path=os.path.join(DIRECTORY_PATH, 'annotated.vcf'),\n",
    "    overwrite=OVERWRITE)\n",
    "\n",
    "filtered_vcf_gz_file_path = filter_vcf_gz_using_bcftools_view(\n",
    "    clinvar_annotated_vcf_gz_file_path,\n",
    "    n_jobs=N_JOBS,\n",
    "    output_vcf_file_path=os.path.join(DIRECTORY_PATH, 'filtered.vcf'),\n",
    "    overwrite=OVERWRITE)"
   ]
  }
 ],
 "metadata": {
  "kernelspec": {
   "display_name": "Python [default]",
   "language": "python",
   "name": "python3"
  },
  "language_info": {
   "codemirror_mode": {
    "name": "ipython",
    "version": 3
   },
   "file_extension": ".py",
   "mimetype": "text/x-python",
   "name": "python",
   "nbconvert_exporter": "python",
   "pygments_lexer": "ipython3",
   "version": "3.6.2"
  }
 },
 "nbformat": 4,
 "nbformat_minor": 2
}
