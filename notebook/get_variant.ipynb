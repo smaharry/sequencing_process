{
  "cells": [ {
      "cell_type": "code",
      "execution_count": 1,
      "metadata": {
        "ExecuteTime": {
          "end_time": "2017-11-17T21:52:49.532316Z",
          "start_time": "2017-11-17T21:52:49.121129Z"
        }
      },
      "outputs": [],
      "source": [
        "import os\n",
        "import multiprocessing as mp\n",
        "import sys\n",
        "\n",
        "sys.path.insert(0, '..')\n",
        "from sequencing_process.support.support.path import clean_path\n",
        "from sequencing_process.make_reference_genome_for_sequencing_process import make_reference_genome_for_sequencing_process\n",
        "from sequencing_process.plot_fastq_gz_or_bam import plot_fastq_gz_or_bam\n",
        "from sequencing_process.process_fastq_gz import align_fastq_gzs_using_bwa\n",
        "from sequencing_process.process_bam import sort_and_index_bam_using_samtools, mark_duplicates_in_bam_using_picard, call_variants_on_bam_using_freebayes_and_multiprocess\n",
        "from sequencing_process.process_vcf_gz import annotate_vcf_gz_using_snpeff, annotate_vcf_gz_using_bcftools, filter_vcf_gz_using_bcftools\n",
        "\n",
        "%load_ext autoreload\n",
        "%autoreload 2\n",
        "%matplotlib inline"
      ]
    },
    {
      "cell_type": "code",
      "execution_count": 2,
      "metadata": {
        "ExecuteTime": {
          "end_time": "2017-11-17T21:52:49.555528Z",
          "start_time": "2017-11-17T21:52:49.534218Z"
        }
      },
      "outputs": [],
      "source": [
        "GRCH_DIRECTORY_PATH = clean_path('/Volumes/Jumis/data/grch')\n",
        "assert os.path.isdir(GRCH_DIRECTORY_PATH)\n",
        "\n",
        "# make_reference_genome_for_sequencing_process(GRCH_DIRECTORY_PATH)\n",
        "\n",
        "FASTA_GZ_FILE_PATH = os.path.join(\n",
        "    GRCH_DIRECTORY_PATH,\n",
        "    'GCA_000001405.15_GRCh38_full_plus_hs38DH-extra_analysis_set.fa.gz')\n",
        "assert os.path.isfile(FASTA_GZ_FILE_PATH)\n",
        "\n",
        "FASTA_FILE_PATH = FASTA_GZ_FILE_PATH[:-3]\n",
        "assert os.path.isfile(FASTA_FILE_PATH)\n",
        "\n",
        "CLINVAR_VCF_GZ_FILE_PATH = os.path.join(GRCH_DIRECTORY_PATH, 'clinvar.vcf.gz')\n",
        "assert os.path.isfile(CLINVAR_VCF_GZ_FILE_PATH)\n",
        "\n",
        "N_JOBS = 4\n",
        "OVERWRITE = True\n",
        "\n",
        "PLOT = True"
      ]
    },
    {
      "cell_type": "code",
      "execution_count": 3,
      "metadata": {
        "ExecuteTime": {
          "end_time": "2017-11-17T21:52:49.587459Z",
          "start_time": "2017-11-17T21:52:49.557765Z"
        }
      },
      "outputs": [ {
        "name": "stdout",
        "output_type": "stream",
        "text": [
          "fastqp --output /Users/k/Jumis/github_kwatme/sequencing_process/notebook/1k/simulation.bwa.read1.fastq.gz.plot --text /Users/k/Jumis/github_kwatme/sequencing_process/notebook/1k/simulation.bwa.read1.fastq.gz.plot.tsv /Users/k/Jumis/github_kwatme/sequencing_process/notebook/1k/simulation.bwa.read1.fastq.gz\n",
          "fastqp --output /Users/k/Jumis/github_kwatme/sequencing_process/notebook/1k/simulation.bwa.read2.fastq.gz.plot --text /Users/k/Jumis/github_kwatme/sequencing_process/notebook/1k/simulation.bwa.read2.fastq.gz.plot.tsv /Users/k/Jumis/github_kwatme/sequencing_process/notebook/1k/simulation.bwa.read2.fastq.gz\n"
        ]
      } ],
      "source": [
        "DIRECTORY_PATH = clean_path('1k')\n",
        "fastq_gz_0_file_path = os.path.join(DIRECTORY_PATH,\n",
        "                                    'simulation.bwa.read1.fastq.gz')\n",
        "assert os.path.isfile(fastq_gz_0_file_path)\n",
        "\n",
        "fastq_gz_1_file_path = os.path.join(DIRECTORY_PATH,\n",
        "                                    'simulation.bwa.read2.fastq.gz')\n",
        "assert os.path.isfile(fastq_gz_1_file_path)\n",
        "\n",
        "if PLOT:\n",
        "    p = mp.Pool(processes=2)\n",
        "\n",
        "    p.apply_async(\n",
        "        plot_fastq_gz_or_bam,\n",
        "        args=[fastq_gz_0_file_path],\n",
        "        kwds=dict(overwrite=OVERWRITE))\n",
        "\n",
        "    p.apply_async(\n",
        "        plot_fastq_gz_or_bam,\n",
        "        args=[fastq_gz_1_file_path],\n",
        "        kwds=dict(overwrite=OVERWRITE))"
      ]
    },
    {
      "cell_type": "code",
      "execution_count": 4,
      "metadata": {
        "ExecuteTime": {
          "end_time": "2017-11-17T21:54:01.124371Z",
          "start_time": "2017-11-17T21:52:49.590623Z"
        },
        "scrolled": false
      },
      "outputs": [ {
        "name": "stdout",
        "output_type": "stream",
        "text": [
          "bwa mem -t 4 /Volumes/Jumis/data/grch/GCA_000001405.15_GRCh38_full_plus_hs38DH-extra_analysis_set.fa.gz /Users/k/Jumis/github_kwatme/sequencing_process/notebook/1k/simulation.bwa.read1.fastq.gz /Users/k/Jumis/github_kwatme/sequencing_process/notebook/1k/simulation.bwa.read2.fastq.gz | /Users/k/Jumis/github_kwatme/sequencing_process/sequencing_process/k8-0.2.3/k8-darwin /Users/k/Jumis/github_kwatme/sequencing_process/sequencing_process/bwa-postalt.js /Volumes/Jumis/data/grch/GCA_000001405.15_GRCh38_full_plus_hs38DH-extra_analysis_set.fa.gz.alt | samtools view -Sb --threads 4 > /Users/k/Jumis/github_kwatme/sequencing_process/notebook/1k/align_fastq_gzs_using_bwa.bam\n",
          "samtools sort --threads 4 /Users/k/Jumis/github_kwatme/sequencing_process/notebook/1k/align_fastq_gzs_using_bwa.bam > /Users/k/Jumis/github_kwatme/sequencing_process/notebook/1k/sort_and_index_bam_using_samtools.bam\n",
          "Consider removing unsorted .bam file /Users/k/Jumis/github_kwatme/sequencing_process/notebook/1k/align_fastq_gzs_using_bwa.bam.\n",
          "samtools index -@ 4 /Users/k/Jumis/github_kwatme/sequencing_process/notebook/1k/sort_and_index_bam_using_samtools.bam\n",
          "picard -Xmx8G MarkDuplicates REMOVE_DUPLICATES=false INPUT=/Users/k/Jumis/github_kwatme/sequencing_process/notebook/1k/sort_and_index_bam_using_samtools.bam OUTPUT=/Users/k/Jumis/github_kwatme/sequencing_process/notebook/1k/aligned.bam METRICS_FILE=/Users/k/Jumis/github_kwatme/sequencing_process/notebook/1k/aligned.bam.metrics\n",
          "samtools index -@ 4 /Users/k/Jumis/github_kwatme/sequencing_process/notebook/1k/aligned.bam\n",
          "fastqp --output /Users/k/Jumis/github_kwatme/sequencing_process/notebook/1k/aligned.bam.plot --text /Users/k/Jumis/github_kwatme/sequencing_process/notebook/1k/aligned.bam.plot.tsv /Users/k/Jumis/github_kwatme/sequencing_process/notebook/1k/aligned.bam\n"
        ]
      } ],
      "source": [
        "aligned_bam_file_path = align_fastq_gzs_using_bwa(\n",
        "    FASTA_GZ_FILE_PATH, [\n",
        "        fastq_gz_0_file_path,\n",
        "        fastq_gz_1_file_path,\n",
        "    ],\n",
        "    n_jobs=N_JOBS,\n",
        "    overwrite=OVERWRITE)\n",
        "\n",
        "sorted_and_indexed_bam_file_path = sort_and_index_bam_using_samtools(\n",
        "    aligned_bam_file_path, n_jobs=N_JOBS, overwrite=OVERWRITE)\n",
        "os.remove(aligned_bam_file_path)\n",
        "\n",
        "duplicate_marked_bam_file_path = mark_duplicates_in_bam_using_picard(\n",
        "    sorted_and_indexed_bam_file_path,\n",
        "    n_jobs=N_JOBS,\n",
        "    output_bam_file_path=os.path.join(DIRECTORY_PATH, 'aligned.bam'),\n",
        "    overwrite=OVERWRITE)\n",
        "os.remove(sorted_and_indexed_bam_file_path)\n",
        "os.remove(sorted_and_indexed_bam_file_path + '.bai')\n",
        "\n",
        "if PLOT:\n",
        "    plot_fastq_gz_or_bam(duplicate_marked_bam_file_path, overwrite=OVERWRITE)"
      ]
    },
    {
      "cell_type": "code",
      "execution_count": 5,
      "metadata": {
        "ExecuteTime": {
          "end_time": "2017-11-17T21:55:55.933383Z",
          "start_time": "2017-11-17T21:54:01.126315Z"
        },
        "scrolled": false
      },
      "outputs": [ {
          "name": "stdout",
          "output_type": "stream",
          "text": [
            "freebayes --fasta-reference /Volumes/Jumis/data/grch/GCA_000001405.15_GRCh38_full_plus_hs38DH-extra_analysis_set.fa --region chr1 /Users/k/Jumis/github_kwatme/sequencing_process/notebook/1k/aligned.bam > /Users/k/Jumis/github_kwatme/sequencing_process/notebook/1k/call_variants_on_bam_using_freebayes.--region_chr1.vcf\n",
            "freebayes --fasta-reference /Volumes/Jumis/data/grch/GCA_000001405.15_GRCh38_full_plus_hs38DH-extra_analysis_set.fa --region chr5 /Users/k/Jumis/github_kwatme/sequencing_process/notebook/1k/aligned.bam > /Users/k/Jumis/github_kwatme/sequencing_process/notebook/1k/call_variants_on_bam_using_freebayes.--region_chr5.vcf\n",
            "freebayes --fasta-reference /Volumes/Jumis/data/grch/GCA_000001405.15_GRCh38_full_plus_hs38DH-extra_analysis_set.fa --region chr7 /Users/k/Jumis/github_kwatme/sequencing_process/notebook/1k/aligned.bam > /Users/k/Jumis/github_kwatme/sequencing_process/notebook/1k/call_variants_on_bam_using_freebayes.--region_chr7.vcf\n",
            "freebayes --fasta-reference /Volumes/Jumis/data/grch/GCA_000001405.15_GRCh38_full_plus_hs38DH-extra_analysis_set.fa --region chr3 /Users/k/Jumis/github_kwatme/sequencing_process/notebook/1k/aligned.bam > /Users/k/Jumis/github_kwatme/sequencing_process/notebook/1k/call_variants_on_bam_using_freebayes.--region_chr3.vcf\n",
            "bgzip --threads 1 --force /Users/k/Jumis/github_kwatme/sequencing_process/notebook/1k/call_variants_on_bam_using_freebayes.--region_chr7.vcf; tabix --force /Users/k/Jumis/github_kwatme/sequencing_process/notebook/1k/call_variants_on_bam_using_freebayes.--region_chr7.vcf.gz\n",
            "freebayes --fasta-reference /Volumes/Jumis/data/grch/GCA_000001405.15_GRCh38_full_plus_hs38DH-extra_analysis_set.fa --region chr8 /Users/k/Jumis/github_kwatme/sequencing_process/notebook/1k/aligned.bam > /Users/k/Jumis/github_kwatme/sequencing_process/notebook/1k/call_variants_on_bam_using_freebayes.--region_chr8.vcf\n",
            "bgzip --threads 1 --force /Users/k/Jumis/github_kwatme/sequencing_process/notebook/1k/call_variants_on_bam_using_freebayes.--region_chr5.vcf; tabix --force /Users/k/Jumis/github_kwatme/sequencing_process/notebook/1k/call_variants_on_bam_using_freebayes.--region_chr5.vcf.gz\n",
            "freebayes --fasta-reference /Volumes/Jumis/data/grch/GCA_000001405.15_GRCh38_full_plus_hs38DH-extra_analysis_set.fa --region chr6 /Users/k/Jumis/github_kwatme/sequencing_process/notebook/1k/aligned.bam > /Users/k/Jumis/github_kwatme/sequencing_process/notebook/1k/call_variants_on_bam_using_freebayes.--region_chr6.vcf\n",
            "bgzip --threads 1 --force /Users/k/Jumis/github_kwatme/sequencing_process/notebook/1k/call_variants_on_bam_using_freebayes.--region_chr3.vcf; tabix --force /Users/k/Jumis/github_kwatme/sequencing_process/notebook/1k/call_variants_on_bam_using_freebayes.--region_chr3.vcf.gz\n",
            "freebayes --fasta-reference /Volumes/Jumis/data/grch/GCA_000001405.15_GRCh38_full_plus_hs38DH-extra_analysis_set.fa --region chr4 /Users/k/Jumis/github_kwatme/sequencing_process/notebook/1k/aligned.bam > /Users/k/Jumis/github_kwatme/sequencing_process/notebook/1k/call_variants_on_bam_using_freebayes.--region_chr4.vcf\n",
            "bgzip --threads 1 --force /Users/k/Jumis/github_kwatme/sequencing_process/notebook/1k/call_variants_on_bam_using_freebayes.--region_chr1.vcf; tabix --force /Users/k/Jumis/github_kwatme/sequencing_process/notebook/1k/call_variants_on_bam_using_freebayes.--region_chr1.vcf.gz\n",
            "freebayes --fasta-reference /Volumes/Jumis/data/grch/GCA_000001405.15_GRCh38_full_plus_hs38DH-extra_analysis_set.fa --region chr2 /Users/k/Jumis/github_kwatme/sequencing_process/notebook/1k/aligned.bam > /Users/k/Jumis/github_kwatme/sequencing_process/notebook/1k/call_variants_on_bam_using_freebayes.--region_chr2.vcf\n",
            "bgzip --threads 1 --force /Users/k/Jumis/github_kwatme/sequencing_process/notebook/1k/call_variants_on_bam_using_freebayes.--region_chr8.vcf; tabix --force /Users/k/Jumis/github_kwatme/sequencing_process/notebook/1k/call_variants_on_bam_using_freebayes.--region_chr8.vcf.gz\n",
            "freebayes --fasta-reference /Volumes/Jumis/data/grch/GCA_000001405.15_GRCh38_full_plus_hs38DH-extra_analysis_set.fa --region chr9 /Users/k/Jumis/github_kwatme/sequencing_process/notebook/1k/aligned.bam > /Users/k/Jumis/github_kwatme/sequencing_process/notebook/1k/call_variants_on_bam_using_freebayes.--region_chr9.vcf\n",
            "bgzip --threads 1 --force /Users/k/Jumis/github_kwatme/sequencing_process/notebook/1k/call_variants_on_bam_using_freebayes.--region_chr6.vcf; tabix --force /Users/k/Jumis/github_kwatme/sequencing_process/notebook/1k/call_variants_on_bam_using_freebayes.--region_chr6.vcf.gz\n",
            "freebayes --fasta-reference /Volumes/Jumis/data/grch/GCA_000001405.15_GRCh38_full_plus_hs38DH-extra_analysis_set.fa --region chr11 /Users/k/Jumis/github_kwatme/sequencing_process/notebook/1k/aligned.bam > /Users/k/Jumis/github_kwatme/sequencing_process/notebook/1k/call_variants_on_bam_using_freebayes.--region_chr11.vcf\n",
            "bgzip --threads 1 --force /Users/k/Jumis/github_kwatme/sequencing_process/notebook/1k/call_variants_on_bam_using_freebayes.--region_chr4.vcf; tabix --force /Users/k/Jumis/github_kwatme/sequencing_process/notebook/1k/call_variants_on_bam_using_freebayes.--region_chr4.vcf.gz\n",
            "freebayes --fasta-reference /Volumes/Jumis/data/grch/GCA_000001405.15_GRCh38_full_plus_hs38DH-extra_analysis_set.fa --region chr13 /Users/k/Jumis/github_kwatme/sequencing_process/notebook/1k/aligned.bam > /Users/k/Jumis/github_kwatme/sequencing_process/notebook/1k/call_variants_on_bam_using_freebayes.--region_chr13.vcf\n",
            "bgzip --threads 1 --force /Users/k/Jumis/github_kwatme/sequencing_process/notebook/1k/call_variants_on_bam_using_freebayes.--region_chr9.vcf; tabix --force /Users/k/Jumis/github_kwatme/sequencing_process/notebook/1k/call_variants_on_bam_using_freebayes.--region_chr9.vcf.gz\n",
            "freebayes --fasta-reference /Volumes/Jumis/data/grch/GCA_000001405.15_GRCh38_full_plus_hs38DH-extra_analysis_set.fa --region chr10 /Users/k/Jumis/github_kwatme/sequencing_process/notebook/1k/aligned.bam > /Users/k/Jumis/github_kwatme/sequencing_process/notebook/1k/call_variants_on_bam_using_freebayes.--region_chr10.vcf\n",
            "bgzip --threads 1 --force /Users/k/Jumis/github_kwatme/sequencing_process/notebook/1k/call_variants_on_bam_using_freebayes.--region_chr11.vcf; tabix --force /Users/k/Jumis/github_kwatme/sequencing_process/notebook/1k/call_variants_on_bam_using_freebayes.--region_chr11.vcf.gz\n",
            "freebayes --fasta-reference /Volumes/Jumis/data/grch/GCA_000001405.15_GRCh38_full_plus_hs38DH-extra_analysis_set.fa --region chr12 /Users/k/Jumis/github_kwatme/sequencing_process/notebook/1k/aligned.bam > /Users/k/Jumis/github_kwatme/sequencing_process/notebook/1k/call_variants_on_bam_using_freebayes.--region_chr12.vcf\n",
            "bgzip --threads 1 --force /Users/k/Jumis/github_kwatme/sequencing_process/notebook/1k/call_variants_on_bam_using_freebayes.--region_chr2.vcf; tabix --force /Users/k/Jumis/github_kwatme/sequencing_process/notebook/1k/call_variants_on_bam_using_freebayes.--region_chr2.vcf.gz\n",
            "freebayes --fasta-reference /Volumes/Jumis/data/grch/GCA_000001405.15_GRCh38_full_plus_hs38DH-extra_analysis_set.fa --region chr15 /Users/k/Jumis/github_kwatme/sequencing_process/notebook/1k/aligned.bam > /Users/k/Jumis/github_kwatme/sequencing_process/notebook/1k/call_variants_on_bam_using_freebayes.--region_chr15.vcf\n",
            "bgzip --threads 1 --force /Users/k/Jumis/github_kwatme/sequencing_process/notebook/1k/call_variants_on_bam_using_freebayes.--region_chr13.vcf; tabix --force /Users/k/Jumis/github_kwatme/sequencing_process/notebook/1k/call_variants_on_bam_using_freebayes.--region_chr13.vcf.gz\n",
            "freebayes --fasta-reference /Volumes/Jumis/data/grch/GCA_000001405.15_GRCh38_full_plus_hs38DH-extra_analysis_set.fa --region chr14 /Users/k/Jumis/github_kwatme/sequencing_process/notebook/1k/aligned.bam > /Users/k/Jumis/github_kwatme/sequencing_process/notebook/1k/call_variants_on_bam_using_freebayes.--region_chr14.vcf\n",
            "bgzip --threads 1 --force /Users/k/Jumis/github_kwatme/sequencing_process/notebook/1k/call_variants_on_bam_using_freebayes.--region_chr10.vcf; tabix --force /Users/k/Jumis/github_kwatme/sequencing_process/notebook/1k/call_variants_on_bam_using_freebayes.--region_chr10.vcf.gz\n",
            "freebayes --fasta-reference /Volumes/Jumis/data/grch/GCA_000001405.15_GRCh38_full_plus_hs38DH-extra_analysis_set.fa --region chr17 /Users/k/Jumis/github_kwatme/sequencing_process/notebook/1k/aligned.bam > /Users/k/Jumis/github_kwatme/sequencing_process/notebook/1k/call_variants_on_bam_using_freebayes.--region_chr17.vcf\n"
          ]
        },
        {
          "name": "stdout",
          "output_type": "stream",
          "text": [
            "bgzip --threads 1 --force /Users/k/Jumis/github_kwatme/sequencing_process/notebook/1k/call_variants_on_bam_using_freebayes.--region_chr15.vcf; tabix --force /Users/k/Jumis/github_kwatme/sequencing_process/notebook/1k/call_variants_on_bam_using_freebayes.--region_chr15.vcf.gz\n",
            "freebayes --fasta-reference /Volumes/Jumis/data/grch/GCA_000001405.15_GRCh38_full_plus_hs38DH-extra_analysis_set.fa --region chr16 /Users/k/Jumis/github_kwatme/sequencing_process/notebook/1k/aligned.bam > /Users/k/Jumis/github_kwatme/sequencing_process/notebook/1k/call_variants_on_bam_using_freebayes.--region_chr16.vcf\n",
            "bgzip --threads 1 --force /Users/k/Jumis/github_kwatme/sequencing_process/notebook/1k/call_variants_on_bam_using_freebayes.--region_chr14.vcf; tabix --force /Users/k/Jumis/github_kwatme/sequencing_process/notebook/1k/call_variants_on_bam_using_freebayes.--region_chr14.vcf.gz\n",
            "freebayes --fasta-reference /Volumes/Jumis/data/grch/GCA_000001405.15_GRCh38_full_plus_hs38DH-extra_analysis_set.fa --region chr19 /Users/k/Jumis/github_kwatme/sequencing_process/notebook/1k/aligned.bam > /Users/k/Jumis/github_kwatme/sequencing_process/notebook/1k/call_variants_on_bam_using_freebayes.--region_chr19.vcf\n",
            "bgzip --threads 1 --force /Users/k/Jumis/github_kwatme/sequencing_process/notebook/1k/call_variants_on_bam_using_freebayes.--region_chr12.vcf; tabix --force /Users/k/Jumis/github_kwatme/sequencing_process/notebook/1k/call_variants_on_bam_using_freebayes.--region_chr12.vcf.gz\n",
            "freebayes --fasta-reference /Volumes/Jumis/data/grch/GCA_000001405.15_GRCh38_full_plus_hs38DH-extra_analysis_set.fa --region chr21 /Users/k/Jumis/github_kwatme/sequencing_process/notebook/1k/aligned.bam > /Users/k/Jumis/github_kwatme/sequencing_process/notebook/1k/call_variants_on_bam_using_freebayes.--region_chr21.vcf\n",
            "bgzip --threads 1 --force /Users/k/Jumis/github_kwatme/sequencing_process/notebook/1k/call_variants_on_bam_using_freebayes.--region_chr17.vcf; tabix --force /Users/k/Jumis/github_kwatme/sequencing_process/notebook/1k/call_variants_on_bam_using_freebayes.--region_chr17.vcf.gz\n",
            "freebayes --fasta-reference /Volumes/Jumis/data/grch/GCA_000001405.15_GRCh38_full_plus_hs38DH-extra_analysis_set.fa --region chr18 /Users/k/Jumis/github_kwatme/sequencing_process/notebook/1k/aligned.bam > /Users/k/Jumis/github_kwatme/sequencing_process/notebook/1k/call_variants_on_bam_using_freebayes.--region_chr18.vcf\n",
            "bgzip --threads 1 --force /Users/k/Jumis/github_kwatme/sequencing_process/notebook/1k/call_variants_on_bam_using_freebayes.--region_chr21.vcf; tabix --force /Users/k/Jumis/github_kwatme/sequencing_process/notebook/1k/call_variants_on_bam_using_freebayes.--region_chr21.vcf.gz\n",
            "freebayes --fasta-reference /Volumes/Jumis/data/grch/GCA_000001405.15_GRCh38_full_plus_hs38DH-extra_analysis_set.fa --region chr22 /Users/k/Jumis/github_kwatme/sequencing_process/notebook/1k/aligned.bam > /Users/k/Jumis/github_kwatme/sequencing_process/notebook/1k/call_variants_on_bam_using_freebayes.--region_chr22.vcf\n",
            "bgzip --threads 1 --force /Users/k/Jumis/github_kwatme/sequencing_process/notebook/1k/call_variants_on_bam_using_freebayes.--region_chr19.vcf; tabix --force /Users/k/Jumis/github_kwatme/sequencing_process/notebook/1k/call_variants_on_bam_using_freebayes.--region_chr19.vcf.gz\n",
            "freebayes --fasta-reference /Volumes/Jumis/data/grch/GCA_000001405.15_GRCh38_full_plus_hs38DH-extra_analysis_set.fa --region chr20 /Users/k/Jumis/github_kwatme/sequencing_process/notebook/1k/aligned.bam > /Users/k/Jumis/github_kwatme/sequencing_process/notebook/1k/call_variants_on_bam_using_freebayes.--region_chr20.vcf\n",
            "bgzip --threads 1 --force /Users/k/Jumis/github_kwatme/sequencing_process/notebook/1k/call_variants_on_bam_using_freebayes.--region_chr16.vcf; tabix --force /Users/k/Jumis/github_kwatme/sequencing_process/notebook/1k/call_variants_on_bam_using_freebayes.--region_chr16.vcf.gz\n",
            "freebayes --fasta-reference /Volumes/Jumis/data/grch/GCA_000001405.15_GRCh38_full_plus_hs38DH-extra_analysis_set.fa --region chrX /Users/k/Jumis/github_kwatme/sequencing_process/notebook/1k/aligned.bam > /Users/k/Jumis/github_kwatme/sequencing_process/notebook/1k/call_variants_on_bam_using_freebayes.--region_chrX.vcf\n",
            "bgzip --threads 1 --force /Users/k/Jumis/github_kwatme/sequencing_process/notebook/1k/call_variants_on_bam_using_freebayes.--region_chr22.vcf; tabix --force /Users/k/Jumis/github_kwatme/sequencing_process/notebook/1k/call_variants_on_bam_using_freebayes.--region_chr22.vcf.gz\n",
            "freebayes --fasta-reference /Volumes/Jumis/data/grch/GCA_000001405.15_GRCh38_full_plus_hs38DH-extra_analysis_set.fa --region chrM /Users/k/Jumis/github_kwatme/sequencing_process/notebook/1k/aligned.bam > /Users/k/Jumis/github_kwatme/sequencing_process/notebook/1k/call_variants_on_bam_using_freebayes.--region_chrM.vcf\n",
            "bgzip --threads 1 --force /Users/k/Jumis/github_kwatme/sequencing_process/notebook/1k/call_variants_on_bam_using_freebayes.--region_chrM.vcf; tabix --force /Users/k/Jumis/github_kwatme/sequencing_process/notebook/1k/call_variants_on_bam_using_freebayes.--region_chrM.vcf.gz\n",
            "bgzip --threads 1 --force /Users/k/Jumis/github_kwatme/sequencing_process/notebook/1k/call_variants_on_bam_using_freebayes.--region_chr20.vcf; tabix --force /Users/k/Jumis/github_kwatme/sequencing_process/notebook/1k/call_variants_on_bam_using_freebayes.--region_chr20.vcf.gz\n",
            "bgzip --threads 1 --force /Users/k/Jumis/github_kwatme/sequencing_process/notebook/1k/call_variants_on_bam_using_freebayes.--region_chr18.vcf; tabix --force /Users/k/Jumis/github_kwatme/sequencing_process/notebook/1k/call_variants_on_bam_using_freebayes.--region_chr18.vcf.gz\n",
            "bgzip --threads 1 --force /Users/k/Jumis/github_kwatme/sequencing_process/notebook/1k/call_variants_on_bam_using_freebayes.--region_chrX.vcf; tabix --force /Users/k/Jumis/github_kwatme/sequencing_process/notebook/1k/call_variants_on_bam_using_freebayes.--region_chrX.vcf.gz\n",
            "freebayes --fasta-reference /Volumes/Jumis/data/grch/GCA_000001405.15_GRCh38_full_plus_hs38DH-extra_analysis_set.fa --region chrY /Users/k/Jumis/github_kwatme/sequencing_process/notebook/1k/aligned.bam > /Users/k/Jumis/github_kwatme/sequencing_process/notebook/1k/call_variants_on_bam_using_freebayes.--region_chrY.vcf\n",
            "bgzip --threads 1 --force /Users/k/Jumis/github_kwatme/sequencing_process/notebook/1k/call_variants_on_bam_using_freebayes.--region_chrY.vcf; tabix --force /Users/k/Jumis/github_kwatme/sequencing_process/notebook/1k/call_variants_on_bam_using_freebayes.--region_chrY.vcf.gz\n",
            "bcftools concat --allow-overlaps --threads 4 /Users/k/Jumis/github_kwatme/sequencing_process/notebook/1k/call_variants_on_bam_using_freebayes.--region_chr1.vcf.gz /Users/k/Jumis/github_kwatme/sequencing_process/notebook/1k/call_variants_on_bam_using_freebayes.--region_chr2.vcf.gz /Users/k/Jumis/github_kwatme/sequencing_process/notebook/1k/call_variants_on_bam_using_freebayes.--region_chr3.vcf.gz /Users/k/Jumis/github_kwatme/sequencing_process/notebook/1k/call_variants_on_bam_using_freebayes.--region_chr4.vcf.gz /Users/k/Jumis/github_kwatme/sequencing_process/notebook/1k/call_variants_on_bam_using_freebayes.--region_chr5.vcf.gz /Users/k/Jumis/github_kwatme/sequencing_process/notebook/1k/call_variants_on_bam_using_freebayes.--region_chr6.vcf.gz /Users/k/Jumis/github_kwatme/sequencing_process/notebook/1k/call_variants_on_bam_using_freebayes.--region_chr7.vcf.gz /Users/k/Jumis/github_kwatme/sequencing_process/notebook/1k/call_variants_on_bam_using_freebayes.--region_chr8.vcf.gz /Users/k/Jumis/github_kwatme/sequencing_process/notebook/1k/call_variants_on_bam_using_freebayes.--region_chr9.vcf.gz /Users/k/Jumis/github_kwatme/sequencing_process/notebook/1k/call_variants_on_bam_using_freebayes.--region_chr10.vcf.gz /Users/k/Jumis/github_kwatme/sequencing_process/notebook/1k/call_variants_on_bam_using_freebayes.--region_chr11.vcf.gz /Users/k/Jumis/github_kwatme/sequencing_process/notebook/1k/call_variants_on_bam_using_freebayes.--region_chr12.vcf.gz /Users/k/Jumis/github_kwatme/sequencing_process/notebook/1k/call_variants_on_bam_using_freebayes.--region_chr13.vcf.gz /Users/k/Jumis/github_kwatme/sequencing_process/notebook/1k/call_variants_on_bam_using_freebayes.--region_chr14.vcf.gz /Users/k/Jumis/github_kwatme/sequencing_process/notebook/1k/call_variants_on_bam_using_freebayes.--region_chr15.vcf.gz /Users/k/Jumis/github_kwatme/sequencing_process/notebook/1k/call_variants_on_bam_using_freebayes.--region_chr16.vcf.gz /Users/k/Jumis/github_kwatme/sequencing_process/notebook/1k/call_variants_on_bam_using_freebayes.--region_chr17.vcf.gz /Users/k/Jumis/github_kwatme/sequencing_process/notebook/1k/call_variants_on_bam_using_freebayes.--region_chr18.vcf.gz /Users/k/Jumis/github_kwatme/sequencing_process/notebook/1k/call_variants_on_bam_using_freebayes.--region_chr19.vcf.gz /Users/k/Jumis/github_kwatme/sequencing_process/notebook/1k/call_variants_on_bam_using_freebayes.--region_chr20.vcf.gz /Users/k/Jumis/github_kwatme/sequencing_process/notebook/1k/call_variants_on_bam_using_freebayes.--region_chr21.vcf.gz /Users/k/Jumis/github_kwatme/sequencing_process/notebook/1k/call_variants_on_bam_using_freebayes.--region_chr22.vcf.gz /Users/k/Jumis/github_kwatme/sequencing_process/notebook/1k/call_variants_on_bam_using_freebayes.--region_chrX.vcf.gz /Users/k/Jumis/github_kwatme/sequencing_process/notebook/1k/call_variants_on_bam_using_freebayes.--region_chrY.vcf.gz /Users/k/Jumis/github_kwatme/sequencing_process/notebook/1k/call_variants_on_bam_using_freebayes.--region_chrM.vcf.gz > /Users/k/Jumis/github_kwatme/sequencing_process/notebook/1k/concatenate_vcf_gzs_using_bcftools.vcf\n",
            "Consider removing .vcf.gz files ['/Users/k/Jumis/github_kwatme/sequencing_process/notebook/1k/call_variants_on_bam_using_freebayes.--region_chr1.vcf.gz', '/Users/k/Jumis/github_kwatme/sequencing_process/notebook/1k/call_variants_on_bam_using_freebayes.--region_chr2.vcf.gz', '/Users/k/Jumis/github_kwatme/sequencing_process/notebook/1k/call_variants_on_bam_using_freebayes.--region_chr3.vcf.gz', '/Users/k/Jumis/github_kwatme/sequencing_process/notebook/1k/call_variants_on_bam_using_freebayes.--region_chr4.vcf.gz', '/Users/k/Jumis/github_kwatme/sequencing_process/notebook/1k/call_variants_on_bam_using_freebayes.--region_chr5.vcf.gz', '/Users/k/Jumis/github_kwatme/sequencing_process/notebook/1k/call_variants_on_bam_using_freebayes.--region_chr6.vcf.gz', '/Users/k/Jumis/github_kwatme/sequencing_process/notebook/1k/call_variants_on_bam_using_freebayes.--region_chr7.vcf.gz', '/Users/k/Jumis/github_kwatme/sequencing_process/notebook/1k/call_variants_on_bam_using_freebayes.--region_chr8.vcf.gz', '/Users/k/Jumis/github_kwatme/sequencing_process/notebook/1k/call_variants_on_bam_using_freebayes.--region_chr9.vcf.gz', '/Users/k/Jumis/github_kwatme/sequencing_process/notebook/1k/call_variants_on_bam_using_freebayes.--region_chr10.vcf.gz', '/Users/k/Jumis/github_kwatme/sequencing_process/notebook/1k/call_variants_on_bam_using_freebayes.--region_chr11.vcf.gz', '/Users/k/Jumis/github_kwatme/sequencing_process/notebook/1k/call_variants_on_bam_using_freebayes.--region_chr12.vcf.gz', '/Users/k/Jumis/github_kwatme/sequencing_process/notebook/1k/call_variants_on_bam_using_freebayes.--region_chr13.vcf.gz', '/Users/k/Jumis/github_kwatme/sequencing_process/notebook/1k/call_variants_on_bam_using_freebayes.--region_chr14.vcf.gz', '/Users/k/Jumis/github_kwatme/sequencing_process/notebook/1k/call_variants_on_bam_using_freebayes.--region_chr15.vcf.gz', '/Users/k/Jumis/github_kwatme/sequencing_process/notebook/1k/call_variants_on_bam_using_freebayes.--region_chr16.vcf.gz', '/Users/k/Jumis/github_kwatme/sequencing_process/notebook/1k/call_variants_on_bam_using_freebayes.--region_chr17.vcf.gz', '/Users/k/Jumis/github_kwatme/sequencing_process/notebook/1k/call_variants_on_bam_using_freebayes.--region_chr18.vcf.gz', '/Users/k/Jumis/github_kwatme/sequencing_process/notebook/1k/call_variants_on_bam_using_freebayes.--region_chr19.vcf.gz', '/Users/k/Jumis/github_kwatme/sequencing_process/notebook/1k/call_variants_on_bam_using_freebayes.--region_chr20.vcf.gz', '/Users/k/Jumis/github_kwatme/sequencing_process/notebook/1k/call_variants_on_bam_using_freebayes.--region_chr21.vcf.gz', '/Users/k/Jumis/github_kwatme/sequencing_process/notebook/1k/call_variants_on_bam_using_freebayes.--region_chr22.vcf.gz', '/Users/k/Jumis/github_kwatme/sequencing_process/notebook/1k/call_variants_on_bam_using_freebayes.--region_chrX.vcf.gz', '/Users/k/Jumis/github_kwatme/sequencing_process/notebook/1k/call_variants_on_bam_using_freebayes.--region_chrY.vcf.gz', '/Users/k/Jumis/github_kwatme/sequencing_process/notebook/1k/call_variants_on_bam_using_freebayes.--region_chrM.vcf.gz'] and their indices.\n",
            "bgzip --threads 4 --force /Users/k/Jumis/github_kwatme/sequencing_process/notebook/1k/concatenate_vcf_gzs_using_bcftools.vcf; tabix --force /Users/k/Jumis/github_kwatme/sequencing_process/notebook/1k/concatenate_vcf_gzs_using_bcftools.vcf.gz\n",
            "snpEff -Xmx8G -htmlStats /Users/k/Jumis/github_kwatme/sequencing_process/notebook/1k/snpeff.vcf.stats.html -csvStats /Users/k/Jumis/github_kwatme/sequencing_process/notebook/1k/snpeff.vcf.stats.csv -verbose -noLog GRCh38.86 /Users/k/Jumis/github_kwatme/sequencing_process/notebook/1k/concatenate_vcf_gzs_using_bcftools.vcf.gz > /Users/k/Jumis/github_kwatme/sequencing_process/notebook/1k/snpeff.vcf\n"
          ]
        },
        {
          "name": "stdout",
          "output_type": "stream",
          "text": [
            "bgzip --threads 4 --force /Users/k/Jumis/github_kwatme/sequencing_process/notebook/1k/snpeff.vcf; tabix --force /Users/k/Jumis/github_kwatme/sequencing_process/notebook/1k/snpeff.vcf.gz\n",
            "bcftools annotate --annotations /Volumes/Jumis/data/grch/clinvar.vcf.gz --threads 4 --columns =ID,INFO /Users/k/Jumis/github_kwatme/sequencing_process/notebook/1k/snpeff.vcf.gz > /Users/k/Jumis/github_kwatme/sequencing_process/notebook/1k/annotated.vcf\n",
            "bgzip --threads 4 --force /Users/k/Jumis/github_kwatme/sequencing_process/notebook/1k/annotated.vcf; tabix --force /Users/k/Jumis/github_kwatme/sequencing_process/notebook/1k/annotated.vcf.gz\n",
            "bcftools view --include '10<=DP & 10<=QUAL & 10<=(QUAL/AO) & 1<=SRF & 1<=SRR & 1<=SAF & 1<=SAR & 1<=RPR & 1<=RPL' --threads 4 /Users/k/Jumis/github_kwatme/sequencing_process/notebook/1k/annotated.vcf.gz > /Users/k/Jumis/github_kwatme/sequencing_process/notebook/1k/filtered.vcf\n",
            "bgzip --threads 4 --force /Users/k/Jumis/github_kwatme/sequencing_process/notebook/1k/filtered.vcf; tabix --force /Users/k/Jumis/github_kwatme/sequencing_process/notebook/1k/filtered.vcf.gz\n"
          ]
        }
      ],
      "source": [
        "vcf_gz_file_path = call_variants_on_bam_using_freebayes_and_multiprocess(\n",
        "    duplicate_marked_bam_file_path,\n",
        "    FASTA_FILE_PATH, ['chr{}'.format(i)\n",
        "                      for i in range(1, 23)] + ['chrX', 'chrY', 'chrM'],\n",
        "    n_jobs=N_JOBS,\n",
        "    overwrite=OVERWRITE)\n",
        "\n",
        "snpeff_annotated_vcf_gz_file_path = annotate_vcf_gz_using_snpeff(\n",
        "    vcf_gz_file_path,\n",
        "    n_jobs=N_JOBS,\n",
        "    output_vcf_file_path=os.path.join(DIRECTORY_PATH, 'snpeff.vcf'),\n",
        "    overwrite=OVERWRITE)\n",
        "os.remove(vcf_gz_file_path)\n",
        "os.remove(vcf_gz_file_path + '.tbi')\n",
        "\n",
        "clinvar_annotated_vcf_gz_file_path = annotate_vcf_gz_using_bcftools(\n",
        "    snpeff_annotated_vcf_gz_file_path,\n",
        "    CLINVAR_VCF_GZ_FILE_PATH, ['--columns =ID,INFO'],\n",
        "    n_jobs=N_JOBS,\n",
        "    output_vcf_file_path=os.path.join(DIRECTORY_PATH, 'annotated.vcf'),\n",
        "    overwrite=OVERWRITE)\n",
        "os.remove(snpeff_annotated_vcf_gz_file_path)\n",
        "os.remove(snpeff_annotated_vcf_gz_file_path + '.tbi')\n",
        "\n",
        "filtered_vcf_gz_file_path = filter_vcf_gz_using_bcftools(\n",
        "    clinvar_annotated_vcf_gz_file_path,\n",
        "    n_jobs=N_JOBS,\n",
        "    output_vcf_file_path=os.path.join(DIRECTORY_PATH, 'filtered.vcf'),\n",
        "    overwrite=OVERWRITE)"
      ]
    },
    {
      "cell_type": "code",
      "execution_count": 6,
      "metadata": {
        "ExecuteTime": {
          "end_time": "2017-11-17T21:55:55.934577Z",
          "start_time": "2017-11-17T21:52:49.116Z"
        }
      },
      "outputs": [],
      "source": [
        "if PLOT:\n",
        "    p.terminate()"
      ]
    }
  ],
  "metadata": {
    "kernelspec": {
      "display_name": "Python [default]",
      "language": "python",
      "name": "python3"
    },
    "language_info": {
      "codemirror_mode": {
        "name": "ipython",
        "version": 3
      },
      "file_extension": ".py",
      "mimetype": "text/x-python",
      "name": "python",
      "nbconvert_exporter": "python",
      "pygments_lexer": "ipython3",
      "version": "3.6.3"
    }
  },
  "nbformat": 4,
  "nbformat_minor": 2
}
