{
 "cells": [
  {
   "cell_type": "code",
   "execution_count": 1,
   "metadata": {},
   "outputs": [],
   "source": [
    "import sys\n",
    "sys.path.insert(0, '/Users/k/Jumis/github_kwatme')\n",
    "from sequencing_process.sequencing_process.make_reference_genome_for_sequencing_process import make_reference_genome_for_sequencing_process\n",
    "\n",
    "%load_ext autoreload\n",
    "%autoreload 2"
   ]
  },
  {
   "cell_type": "code",
   "execution_count": 2,
   "metadata": {
    "scrolled": true
   },
   "outputs": [
    {
     "name": "stdout",
     "output_type": "stream",
     "text": [
      "Downloading ftp://ftp.ncbi.nlm.nih.gov/genomes/all/GCA/000/001/405/GCA_000001405.15_GRCh38/seqs_for_alignment_pipelines.ucsc_ids/GCA_000001405.15_GRCh38_full_analysis_set.fna.gz =(into)=> /Users/k/Downloads/GCA_000001405.15_GRCh38_full_analysis_set.fna.gz ...\n",
      "Downloading https://sourceforge.net/projects/bio-bwa/files/bwakit/bwakit-0.7.15_x64-linux.tar.bz2/download =(into)=> /Users/k/Downloads/download ...\n",
      "gzip -dc /Users/k/Downloads/download | tar -xf - && rm -rf /Users/k/Downloads/download\n",
      "gzip -dc /Users/k/Downloads/GCA_000001405.15_GRCh38_full_analysis_set.fna.gz > /Users/k/Downloads/GCA_000001405.15_GRCh38_full_plus_hs38DH-extra_analysis_set.fa && cat /Users/k/Downloads/bwa.kit/resource-GRCh38/hs38DH-extra.fa >> /Users/k/Downloads/GCA_000001405.15_GRCh38_full_plus_hs38DH-extra_analysis_set.fa && gzip /Users/k/Downloads/GCA_000001405.15_GRCh38_full_plus_hs38DH-extra_analysis_set.fa\n",
      "cp /Users/k/Downloads/bwa.kit/resource-GRCh38/hs38DH.fa.alt /Users/k/Downloads/GCA_000001405.15_GRCh38_full_plus_hs38DH-extra_analysis_set.fa.gz.alt\n",
      "Consider removing /Users/k/Downloads/bwa.kit.\n"
     ]
    }
   ],
   "source": [
    "make_reference_genome_for_sequencing_process('/Users/k/Downloads')"
   ]
  }
 ],
 "metadata": {
  "kernelspec": {
   "display_name": "Python [conda root]",
   "language": "python",
   "name": "conda-root-py"
  },
  "language_info": {
   "codemirror_mode": {
    "name": "ipython",
    "version": 3
   },
   "file_extension": ".py",
   "mimetype": "text/x-python",
   "name": "python",
   "nbconvert_exporter": "python",
   "pygments_lexer": "ipython3",
   "version": "3.6.3"
  }
 },
 "nbformat": 4,
 "nbformat_minor": 2
}
