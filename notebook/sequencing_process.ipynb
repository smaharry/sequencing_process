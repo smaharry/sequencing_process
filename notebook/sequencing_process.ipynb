{
 "cells": [
  {
   "cell_type": "code",
   "execution_count": null,
   "metadata": {
    "ExecuteTime": {
     "end_time": "2018-05-01T17:10:54.720343Z",
     "start_time": "2018-05-01T17:10:54.679720Z"
    }
   },
   "outputs": [],
   "source": [
    "%load_ext autoreload\n",
    "%autoreload 2"
   ]
  },
  {
   "cell_type": "code",
   "execution_count": null,
   "metadata": {
    "ExecuteTime": {
     "end_time": "2018-05-01T17:10:54.752191Z",
     "start_time": "2018-05-01T17:10:54.725076Z"
    }
   },
   "outputs": [],
   "source": [
    "import sys\n",
    "\n",
    "sys.path.insert(0, '..')"
   ]
  },
  {
   "cell_type": "code",
   "execution_count": null,
   "metadata": {
    "ExecuteTime": {
     "end_time": "2018-05-01T17:10:54.782937Z",
     "start_time": "2018-05-01T17:10:54.755520Z"
    }
   },
   "outputs": [],
   "source": [
    "from sequencing_process.support.support.path import clean_path\n",
    "\n",
    "directory_path = clean_path('~/Downloads')"
   ]
  },
  {
   "cell_type": "code",
   "execution_count": null,
   "metadata": {
    "ExecuteTime": {
     "end_time": "2018-05-01T17:11:03.234349Z",
     "start_time": "2018-05-01T17:10:54.786853Z"
    }
   },
   "outputs": [],
   "source": [
    "from sequencing_process.download_clinvar_vcf_gz import download_clinvar_vcf_gz\n",
    "\n",
    "vcf_gz_file_path = download_clinvar_vcf_gz(directory_path, overwrite=True)\n",
    "\n",
    "vcf_gz_file_path"
   ]
  },
  {
   "cell_type": "code",
   "execution_count": null,
   "metadata": {
    "ExecuteTime": {
     "end_time": "2018-05-01T17:11:04.874571Z",
     "start_time": "2018-05-01T17:11:03.248986Z"
    }
   },
   "outputs": [],
   "source": [
    "from sequencing_process.support.support.compression import gzip_decompress_file\n",
    "\n",
    "vcf_file_path = gzip_decompress_file(vcf_gz_file_path)\n",
    "\n",
    "vcf_file_path"
   ]
  },
  {
   "cell_type": "code",
   "execution_count": null,
   "metadata": {
    "ExecuteTime": {
     "end_time": "2018-05-01T17:11:12.438792Z",
     "start_time": "2018-05-01T17:11:04.893725Z"
    }
   },
   "outputs": [],
   "source": [
    "from sequencing_process.bgzip_and_tabix import bgzip_and_tabix\n",
    "\n",
    "vcf_gz_file_path = bgzip_and_tabix(vcf_file_path, overwrite=True)\n",
    "\n",
    "vcf_gz_file_path"
   ]
  },
  {
   "cell_type": "code",
   "execution_count": null,
   "metadata": {
    "ExecuteTime": {
     "end_time": "2018-05-01T17:28:11.994323Z",
     "start_time": "2018-05-01T17:11:47.159106Z"
    }
   },
   "outputs": [],
   "source": [
    "from sequencing_process.make_reference_genome import make_reference_genome\n",
    "\n",
    "fasta_gz_file_path = make_reference_genome(directory_path)"
   ]
  },
  {
   "cell_type": "code",
   "execution_count": null,
   "metadata": {
    "ExecuteTime": {
     "end_time": "2018-05-01T17:43:10.352540Z",
     "start_time": "2018-05-01T17:36:50.416667Z"
    }
   },
   "outputs": [],
   "source": [
    "from sequencing_process.simulate_sequences_using_dwgsim import simulate_sequences_using_dwgsim\n",
    "\n",
    "simulate_sequences_using_dwgsim(\n",
    "    fasta_gz_file_path[:-3],\n",
    "    '{}/simulation'.format(directory_path),\n",
    "    n_sequence=100000)"
   ]
  }
 ],
 "metadata": {
  "kernelspec": {
   "display_name": "Python 3",
   "language": "python",
   "name": "python3"
  },
  "language_info": {
   "codemirror_mode": {
    "name": "ipython",
    "version": 3
   },
   "file_extension": ".py",
   "mimetype": "text/x-python",
   "name": "python",
   "nbconvert_exporter": "python",
   "pygments_lexer": "ipython3",
   "version": "3.6.5"
  }
 },
 "nbformat": 4,
 "nbformat_minor": 2
}
