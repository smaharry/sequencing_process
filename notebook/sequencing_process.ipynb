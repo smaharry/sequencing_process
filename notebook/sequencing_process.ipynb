{
 "cells": [
  {
   "cell_type": "code",
   "execution_count": 1,
   "metadata": {
    "ExecuteTime": {
     "end_time": "2017-11-11T20:07:45.703736Z",
     "start_time": "2017-11-11T20:07:45.440611Z"
    }
   },
   "outputs": [],
   "source": [
    "import os\n",
    "\n",
    "import sys\n",
    "sys.path.insert(0, '..')\n",
    "\n",
    "from sequencing_process.process_fastq_gz import align_fastq_gzs_using_bwa\n",
    "from sequencing_process.process_bam import call_variants_on_bam_using_freebayes_and_multiprocess\n",
    "from sequencing_process.process_vcf_gz import annotate_vcf_gz_using_snpeff, annotate_vcf_gz_using_bcftools, filter_vcf_gz_using_bcftools\n",
    "\n",
    "%load_ext autoreload\n",
    "%autoreload 2\n",
    "%matplotlib inline"
   ]
  },
  {
   "cell_type": "code",
   "execution_count": 2,
   "metadata": {
    "ExecuteTime": {
     "end_time": "2017-11-11T20:07:45.718652Z",
     "start_time": "2017-11-11T20:07:45.705401Z"
    }
   },
   "outputs": [],
   "source": [
    "GRCH_DIRECTORY_PATH = '/media/k/Chocolate/Jumis/data/grch'\n",
    "assert os.path.isdir(GRCH_DIRECTORY_PATH)\n",
    "\n",
    "FASTA_FILE_PATH = os.path.join(GRCH_DIRECTORY_PATH,\n",
    "                               'Homo_sapiens.GRCh38.dna.primary_assembly.fa')\n",
    "assert os.path.isfile(FASTA_FILE_PATH)\n",
    "\n",
    "FASTA_GZ_FILE_PATH = FASTA_FILE_PATH + '.gz'\n",
    "assert os.path.isfile(FASTA_GZ_FILE_PATH)\n",
    "\n",
    "CLINVAR_VCF_GZ_FILE_PATH = os.path.join(GRCH_DIRECTORY_PATH, 'clinvar.vcf.gz')\n",
    "assert os.path.isfile(CLINVAR_VCF_GZ_FILE_PATH)"
   ]
  },
  {
   "cell_type": "code",
   "execution_count": 3,
   "metadata": {
    "ExecuteTime": {
     "end_time": "2017-11-11T20:07:45.730376Z",
     "start_time": "2017-11-11T20:07:45.719856Z"
    }
   },
   "outputs": [],
   "source": [
    "FASTQ_GZ_0_FILE_PATH = 'simulation_0.fq.gz'\n",
    "FASTQ_GZ_1_FILE_PATH = 'simulation_1.fq.gz'\n",
    "\n",
    "N_JOBS = 7"
   ]
  },
  {
   "cell_type": "code",
   "execution_count": 4,
   "metadata": {
    "ExecuteTime": {
     "end_time": "2017-11-11T20:07:45.740544Z",
     "start_time": "2017-11-11T20:07:45.731787Z"
    }
   },
   "outputs": [],
   "source": [
    "BAM_FILE_PATH = 'sort_bam_using_samtools.bam'\n",
    "\n",
    "if not BAM_FILE_PATH:\n",
    "\n",
    "    BAM_FILE_PATH = align_fastq_gzs_using_bwa(\n",
    "        FASTA_GZ_FILE_PATH, [\n",
    "            FASTQ_GZ_0_FILE_PATH,\n",
    "            FASTQ_GZ_1_FILE_PATH,\n",
    "        ],\n",
    "        n_jobs=N_JOBS)"
   ]
  },
  {
   "cell_type": "code",
   "execution_count": 5,
   "metadata": {
    "ExecuteTime": {
     "end_time": "2017-11-11T20:13:58.154776Z",
     "start_time": "2017-11-11T20:07:45.741734Z"
    },
    "scrolled": true
   },
   "outputs": [
    {
     "name": "stdout",
     "output_type": "stream",
     "text": [
      "freebayes --fasta-reference /media/k/Chocolate/Jumis/data/grch/Homo_sapiens.GRCh38.dna.primary_assembly.fa --region 7 sort_bam_using_samtools.bam > call_variants_on_bam_using_freebayes.--region_7.vcf\n",
      "freebayes --fasta-reference /media/k/Chocolate/Jumis/data/grch/Homo_sapiens.GRCh38.dna.primary_assembly.fa --region 2 sort_bam_using_samtools.bam > call_variants_on_bam_using_freebayes.--region_2.vcf\n",
      "freebayes --fasta-reference /media/k/Chocolate/Jumis/data/grch/Homo_sapiens.GRCh38.dna.primary_assembly.fa --region 6 sort_bam_using_samtools.bam > call_variants_on_bam_using_freebayes.--region_6.vcf\n",
      "freebayes --fasta-reference /media/k/Chocolate/Jumis/data/grch/Homo_sapiens.GRCh38.dna.primary_assembly.fa --region 5 sort_bam_using_samtools.bam > call_variants_on_bam_using_freebayes.--region_5.vcf\n",
      "freebayes --fasta-reference /media/k/Chocolate/Jumis/data/grch/Homo_sapiens.GRCh38.dna.primary_assembly.fa --region 1 sort_bam_using_samtools.bam > call_variants_on_bam_using_freebayes.--region_1.vcf\n",
      "freebayes --fasta-reference /media/k/Chocolate/Jumis/data/grch/Homo_sapiens.GRCh38.dna.primary_assembly.fa --region 4 sort_bam_using_samtools.bam > call_variants_on_bam_using_freebayes.--region_4.vcf\n",
      "freebayes --fasta-reference /media/k/Chocolate/Jumis/data/grch/Homo_sapiens.GRCh38.dna.primary_assembly.fa --region 3 sort_bam_using_samtools.bam > call_variants_on_bam_using_freebayes.--region_3.vcf\n",
      "bgzip --force --threads 1 call_variants_on_bam_using_freebayes.--region_4.vcf; tabix --force call_variants_on_bam_using_freebayes.--region_4.vcf.gz\n",
      "freebayes --fasta-reference /media/k/Chocolate/Jumis/data/grch/Homo_sapiens.GRCh38.dna.primary_assembly.fa --region 8 sort_bam_using_samtools.bam > call_variants_on_bam_using_freebayes.--region_8.vcf\n",
      "bgzip --force --threads 1 call_variants_on_bam_using_freebayes.--region_7.vcf; tabix --force call_variants_on_bam_using_freebayes.--region_7.vcf.gz\n",
      "freebayes --fasta-reference /media/k/Chocolate/Jumis/data/grch/Homo_sapiens.GRCh38.dna.primary_assembly.fa --region 9 sort_bam_using_samtools.bam > call_variants_on_bam_using_freebayes.--region_9.vcf\n",
      "bgzip --force --threads 1 call_variants_on_bam_using_freebayes.--region_6.vcf; tabix --force call_variants_on_bam_using_freebayes.--region_6.vcf.gz\n",
      "freebayes --fasta-reference /media/k/Chocolate/Jumis/data/grch/Homo_sapiens.GRCh38.dna.primary_assembly.fa --region 10 sort_bam_using_samtools.bam > call_variants_on_bam_using_freebayes.--region_10.vcf\n",
      "bgzip --force --threads 1 call_variants_on_bam_using_freebayes.--region_5.vcf; tabix --force call_variants_on_bam_using_freebayes.--region_5.vcf.gz\n",
      "freebayes --fasta-reference /media/k/Chocolate/Jumis/data/grch/Homo_sapiens.GRCh38.dna.primary_assembly.fa --region 11 sort_bam_using_samtools.bam > call_variants_on_bam_using_freebayes.--region_11.vcf\n",
      "bgzip --force --threads 1 call_variants_on_bam_using_freebayes.--region_8.vcf; tabix --force call_variants_on_bam_using_freebayes.--region_8.vcf.gz\n",
      "freebayes --fasta-reference /media/k/Chocolate/Jumis/data/grch/Homo_sapiens.GRCh38.dna.primary_assembly.fa --region 12 sort_bam_using_samtools.bam > call_variants_on_bam_using_freebayes.--region_12.vcf\n",
      "bgzip --force --threads 1 call_variants_on_bam_using_freebayes.--region_3.vcf; tabix --force call_variants_on_bam_using_freebayes.--region_3.vcf.gz\n",
      "freebayes --fasta-reference /media/k/Chocolate/Jumis/data/grch/Homo_sapiens.GRCh38.dna.primary_assembly.fa --region 13 sort_bam_using_samtools.bam > call_variants_on_bam_using_freebayes.--region_13.vcf\n",
      "bgzip --force --threads 1 call_variants_on_bam_using_freebayes.--region_2.vcf; tabix --force call_variants_on_bam_using_freebayes.--region_2.vcf.gz\n",
      "freebayes --fasta-reference /media/k/Chocolate/Jumis/data/grch/Homo_sapiens.GRCh38.dna.primary_assembly.fa --region 14 sort_bam_using_samtools.bam > call_variants_on_bam_using_freebayes.--region_14.vcf\n",
      "bgzip --force --threads 1 call_variants_on_bam_using_freebayes.--region_9.vcf; tabix --force call_variants_on_bam_using_freebayes.--region_9.vcf.gz\n",
      "freebayes --fasta-reference /media/k/Chocolate/Jumis/data/grch/Homo_sapiens.GRCh38.dna.primary_assembly.fa --region 15 sort_bam_using_samtools.bam > call_variants_on_bam_using_freebayes.--region_15.vcf\n",
      "bgzip --force --threads 1 call_variants_on_bam_using_freebayes.--region_1.vcf; tabix --force call_variants_on_bam_using_freebayes.--region_1.vcf.gz\n",
      "freebayes --fasta-reference /media/k/Chocolate/Jumis/data/grch/Homo_sapiens.GRCh38.dna.primary_assembly.fa --region 16 sort_bam_using_samtools.bam > call_variants_on_bam_using_freebayes.--region_16.vcf\n",
      "bgzip --force --threads 1 call_variants_on_bam_using_freebayes.--region_15.vcf; tabix --force call_variants_on_bam_using_freebayes.--region_15.vcf.gz\n",
      "freebayes --fasta-reference /media/k/Chocolate/Jumis/data/grch/Homo_sapiens.GRCh38.dna.primary_assembly.fa --region 17 sort_bam_using_samtools.bam > call_variants_on_bam_using_freebayes.--region_17.vcf\n",
      "bgzip --force --threads 1 call_variants_on_bam_using_freebayes.--region_10.vcf; tabix --force call_variants_on_bam_using_freebayes.--region_10.vcf.gz\n",
      "freebayes --fasta-reference /media/k/Chocolate/Jumis/data/grch/Homo_sapiens.GRCh38.dna.primary_assembly.fa --region 18 sort_bam_using_samtools.bam > call_variants_on_bam_using_freebayes.--region_18.vcf\n",
      "bgzip --force --threads 1 call_variants_on_bam_using_freebayes.--region_13.vcf; tabix --force call_variants_on_bam_using_freebayes.--region_13.vcf.gz\n",
      "freebayes --fasta-reference /media/k/Chocolate/Jumis/data/grch/Homo_sapiens.GRCh38.dna.primary_assembly.fa --region 19 sort_bam_using_samtools.bam > call_variants_on_bam_using_freebayes.--region_19.vcf\n",
      "bgzip --force --threads 1 call_variants_on_bam_using_freebayes.--region_12.vcf; tabix --force call_variants_on_bam_using_freebayes.--region_12.vcf.gz\n",
      "freebayes --fasta-reference /media/k/Chocolate/Jumis/data/grch/Homo_sapiens.GRCh38.dna.primary_assembly.fa --region 20 sort_bam_using_samtools.bam > call_variants_on_bam_using_freebayes.--region_20.vcf\n",
      "bgzip --force --threads 1 call_variants_on_bam_using_freebayes.--region_11.vcf; tabix --force call_variants_on_bam_using_freebayes.--region_11.vcf.gz\n",
      "freebayes --fasta-reference /media/k/Chocolate/Jumis/data/grch/Homo_sapiens.GRCh38.dna.primary_assembly.fa --region 21 sort_bam_using_samtools.bam > call_variants_on_bam_using_freebayes.--region_21.vcf\n",
      "bgzip --force --threads 1 call_variants_on_bam_using_freebayes.--region_16.vcf; tabix --force call_variants_on_bam_using_freebayes.--region_16.vcf.gz\n",
      "freebayes --fasta-reference /media/k/Chocolate/Jumis/data/grch/Homo_sapiens.GRCh38.dna.primary_assembly.fa --region 22 sort_bam_using_samtools.bam > call_variants_on_bam_using_freebayes.--region_22.vcf\n",
      "bgzip --force --threads 1 call_variants_on_bam_using_freebayes.--region_19.vcf; tabix --force call_variants_on_bam_using_freebayes.--region_19.vcf.gz\n",
      "freebayes --fasta-reference /media/k/Chocolate/Jumis/data/grch/Homo_sapiens.GRCh38.dna.primary_assembly.fa --region X sort_bam_using_samtools.bam > call_variants_on_bam_using_freebayes.--region_X.vcf\n",
      "bgzip --force --threads 1 call_variants_on_bam_using_freebayes.--region_14.vcf; tabix --force call_variants_on_bam_using_freebayes.--region_14.vcf.gz\n",
      "freebayes --fasta-reference /media/k/Chocolate/Jumis/data/grch/Homo_sapiens.GRCh38.dna.primary_assembly.fa --region Y sort_bam_using_samtools.bam > call_variants_on_bam_using_freebayes.--region_Y.vcf\n",
      "bgzip --force --threads 1 call_variants_on_bam_using_freebayes.--region_20.vcf; tabix --force call_variants_on_bam_using_freebayes.--region_20.vcf.gz\n",
      "freebayes --fasta-reference /media/k/Chocolate/Jumis/data/grch/Homo_sapiens.GRCh38.dna.primary_assembly.fa --region MT sort_bam_using_samtools.bam > call_variants_on_bam_using_freebayes.--region_MT.vcf\n",
      "bgzip --force --threads 1 call_variants_on_bam_using_freebayes.--region_MT.vcf; tabix --force call_variants_on_bam_using_freebayes.--region_MT.vcf.gz\n",
      "bgzip --force --threads 1 call_variants_on_bam_using_freebayes.--region_21.vcf; tabix --force call_variants_on_bam_using_freebayes.--region_21.vcf.gz\n",
      "bgzip --force --threads 1 call_variants_on_bam_using_freebayes.--region_18.vcf; tabix --force call_variants_on_bam_using_freebayes.--region_18.vcf.gz\n",
      "bgzip --force --threads 1 call_variants_on_bam_using_freebayes.--region_17.vcf; tabix --force call_variants_on_bam_using_freebayes.--region_17.vcf.gz\n"
     ]
    },
    {
     "name": "stdout",
     "output_type": "stream",
     "text": [
      "bgzip --force --threads 1 call_variants_on_bam_using_freebayes.--region_22.vcf; tabix --force call_variants_on_bam_using_freebayes.--region_22.vcf.gz\n",
      "bgzip --force --threads 1 call_variants_on_bam_using_freebayes.--region_Y.vcf; tabix --force call_variants_on_bam_using_freebayes.--region_Y.vcf.gz\n",
      "bgzip --force --threads 1 call_variants_on_bam_using_freebayes.--region_X.vcf; tabix --force call_variants_on_bam_using_freebayes.--region_X.vcf.gz\n",
      "bcftools concat --allow-overlaps --threads 7 call_variants_on_bam_using_freebayes.--region_1.vcf.gz call_variants_on_bam_using_freebayes.--region_2.vcf.gz call_variants_on_bam_using_freebayes.--region_3.vcf.gz call_variants_on_bam_using_freebayes.--region_4.vcf.gz call_variants_on_bam_using_freebayes.--region_5.vcf.gz call_variants_on_bam_using_freebayes.--region_6.vcf.gz call_variants_on_bam_using_freebayes.--region_7.vcf.gz call_variants_on_bam_using_freebayes.--region_8.vcf.gz call_variants_on_bam_using_freebayes.--region_9.vcf.gz call_variants_on_bam_using_freebayes.--region_10.vcf.gz call_variants_on_bam_using_freebayes.--region_11.vcf.gz call_variants_on_bam_using_freebayes.--region_12.vcf.gz call_variants_on_bam_using_freebayes.--region_13.vcf.gz call_variants_on_bam_using_freebayes.--region_14.vcf.gz call_variants_on_bam_using_freebayes.--region_15.vcf.gz call_variants_on_bam_using_freebayes.--region_16.vcf.gz call_variants_on_bam_using_freebayes.--region_17.vcf.gz call_variants_on_bam_using_freebayes.--region_18.vcf.gz call_variants_on_bam_using_freebayes.--region_19.vcf.gz call_variants_on_bam_using_freebayes.--region_20.vcf.gz call_variants_on_bam_using_freebayes.--region_21.vcf.gz call_variants_on_bam_using_freebayes.--region_22.vcf.gz call_variants_on_bam_using_freebayes.--region_X.vcf.gz call_variants_on_bam_using_freebayes.--region_Y.vcf.gz call_variants_on_bam_using_freebayes.--region_MT.vcf.gz > concatenate_vcf_gzs_using_bcftools.vcf\n",
      "bgzip --force --threads 7 concatenate_vcf_gzs_using_bcftools.vcf; tabix --force concatenate_vcf_gzs_using_bcftools.vcf.gz\n",
      "snpEff -Xmx8G -htmlStats annotate_vcf_gz_using_snpeff.vcf.summary.html -csvStats annotate_vcf_gz_using_snpeff.vcf.summary.csv -verbose -noLog GRCh38.86 concatenate_vcf_gzs_using_bcftools.vcf.gz > annotate_vcf_gz_using_snpeff.vcf\n",
      "bgzip --force --threads 7 annotate_vcf_gz_using_snpeff.vcf; tabix --force annotate_vcf_gz_using_snpeff.vcf.gz\n",
      "bcftools annotate --annotations /media/k/Chocolate/Jumis/data/grch/clinvar.vcf.gz --threads 7 --columns =ID,INFO annotate_vcf_gz_using_snpeff.vcf.gz > annotate_vcf_gz_using_bcftools.vcf\n",
      "bgzip --force --threads 7 annotate_vcf_gz_using_bcftools.vcf; tabix --force annotate_vcf_gz_using_bcftools.vcf.gz\n",
      "bcftools view --include '60<QUAL & 30<DP' --threads 7 annotate_vcf_gz_using_bcftools.vcf.gz > filter_vcf_gz_using_bcftools.vcf\n",
      "bgzip --force --threads 7 filter_vcf_gz_using_bcftools.vcf; tabix --force filter_vcf_gz_using_bcftools.vcf.gz\n"
     ]
    }
   ],
   "source": [
    "VCF_GZ_FILE_PATH = None\n",
    "\n",
    "if not VCF_GZ_FILE_PATH:\n",
    "\n",
    "    VCF_GZ_FILE_PATH = call_variants_on_bam_using_freebayes_and_multiprocess(\n",
    "        BAM_FILE_PATH, FASTA_FILE_PATH, n_jobs=N_JOBS)\n",
    "\n",
    "    VCF_GZ_FILE_PATH = annotate_vcf_gz_using_snpeff(\n",
    "        VCF_GZ_FILE_PATH, n_jobs=N_JOBS)\n",
    "\n",
    "    VCF_GZ_FILE_PATH = annotate_vcf_gz_using_bcftools(\n",
    "        VCF_GZ_FILE_PATH,\n",
    "        CLINVAR_VCF_GZ_FILE_PATH,\n",
    "        '--columns =ID,INFO',\n",
    "        n_jobs=N_JOBS)\n",
    "\n",
    "    VCF_GZ_FILE_PATH = filter_vcf_gz_using_bcftools(\n",
    "        VCF_GZ_FILE_PATH, n_jobs=N_JOBS)"
   ]
  }
 ],
 "metadata": {
  "kernelspec": {
   "display_name": "Python [default]",
   "language": "python",
   "name": "python3"
  },
  "language_info": {
   "codemirror_mode": {
    "name": "ipython",
    "version": 3
   },
   "file_extension": ".py",
   "mimetype": "text/x-python",
   "name": "python",
   "nbconvert_exporter": "python",
   "pygments_lexer": "ipython3",
   "version": "3.6.2"
  }
 },
 "nbformat": 4,
 "nbformat_minor": 2
}
