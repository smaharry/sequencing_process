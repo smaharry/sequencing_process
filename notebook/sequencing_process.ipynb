{
 "cells": [
  {
   "cell_type": "code",
   "execution_count": null,
   "metadata": {
    "ExecuteTime": {
     "end_time": "2018-05-01T18:25:05.040047Z",
     "start_time": "2018-05-01T18:25:04.966883Z"
    }
   },
   "outputs": [],
   "source": [
    "%load_ext autoreload\n",
    "\n",
    "%autoreload 2"
   ]
  },
  {
   "cell_type": "code",
   "execution_count": null,
   "metadata": {
    "ExecuteTime": {
     "end_time": "2018-05-01T18:25:05.087719Z",
     "start_time": "2018-05-01T18:25:05.054403Z"
    }
   },
   "outputs": [],
   "source": [
    "import sys\n",
    "\n",
    "sys.path.insert(\n",
    "    0,\n",
    "    '..',\n",
    ")"
   ]
  },
  {
   "cell_type": "code",
   "execution_count": null,
   "metadata": {
    "ExecuteTime": {
     "end_time": "2018-05-01T18:25:05.119319Z",
     "start_time": "2018-05-01T18:25:05.092430Z"
    }
   },
   "outputs": [],
   "source": [
    "from sequencing_process.support.support.path import clean_path\n",
    "\n",
    "directory_path = clean_path('~/sequencing_process')"
   ]
  },
  {
   "cell_type": "code",
   "execution_count": null,
   "metadata": {
    "ExecuteTime": {
     "end_time": "2018-05-01T18:25:10.213749Z",
     "start_time": "2018-05-01T18:25:05.122082Z"
    }
   },
   "outputs": [],
   "source": [
    "from sequencing_process.download_clinvar_vcf_gz import download_clinvar_vcf_gz\n",
    "\n",
    "vcf_gz_file_path = download_clinvar_vcf_gz(\n",
    "    directory_path,\n",
    "    overwrite=True,\n",
    ")\n",
    "\n",
    "vcf_gz_file_path"
   ]
  },
  {
   "cell_type": "code",
   "execution_count": null,
   "metadata": {
    "ExecuteTime": {
     "end_time": "2018-05-01T18:25:11.725257Z",
     "start_time": "2018-05-01T18:25:10.215937Z"
    }
   },
   "outputs": [],
   "source": [
    "from sequencing_process.support.support.compression import gzip_decompress_file\n",
    "\n",
    "vcf_file_path = gzip_decompress_file(vcf_gz_file_path)\n",
    "\n",
    "vcf_file_path"
   ]
  },
  {
   "cell_type": "code",
   "execution_count": null,
   "metadata": {
    "ExecuteTime": {
     "end_time": "2018-05-01T18:25:19.317124Z",
     "start_time": "2018-05-01T18:25:11.728211Z"
    }
   },
   "outputs": [],
   "source": [
    "from sequencing_process.bgzip_and_tabix import bgzip_and_tabix\n",
    "\n",
    "vcf_gz_file_path = bgzip_and_tabix(\n",
    "    vcf_file_path,\n",
    "    overwrite=True,\n",
    ")\n",
    "\n",
    "vcf_gz_file_path"
   ]
  },
  {
   "cell_type": "code",
   "execution_count": null,
   "metadata": {
    "ExecuteTime": {
     "end_time": "2018-05-01T18:41:07.762962Z",
     "start_time": "2018-05-01T18:25:19.320712Z"
    }
   },
   "outputs": [],
   "source": [
    "from sequencing_process.make_reference_genome import make_reference_genome\n",
    "\n",
    "fasta_gz_file_path = make_reference_genome(directory_path)"
   ]
  },
  {
   "cell_type": "code",
   "execution_count": null,
   "metadata": {
    "ExecuteTime": {
     "end_time": "2018-05-01T19:00:45.969194Z",
     "start_time": "2018-05-01T18:41:07.767495Z"
    }
   },
   "outputs": [],
   "source": [
    "from sequencing_process.simulate_sequences_using_dwgsim import simulate_sequences_using_dwgsim\n",
    "\n",
    "simulate_sequences_using_dwgsim(\n",
    "    fasta_gz_file_path[:-3],\n",
    "    '{}/simulation'.format(directory_path),\n",
    "    n_sequence=1e6,\n",
    ")"
   ]
  }
 ],
 "metadata": {
  "kernelspec": {
   "display_name": "Python 3",
   "language": "python",
   "name": "python3"
  },
  "language_info": {
   "codemirror_mode": {
    "name": "ipython",
    "version": 3
   },
   "file_extension": ".py",
   "mimetype": "text/x-python",
   "name": "python",
   "nbconvert_exporter": "python",
   "pygments_lexer": "ipython3",
   "version": "3.5.5"
  }
 },
 "nbformat": 4,
 "nbformat_minor": 2
}
