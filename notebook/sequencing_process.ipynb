{
 "cells": [
  {
   "cell_type": "code",
   "execution_count": 1,
   "metadata": {
    "ExecuteTime": {
     "end_time": "2017-11-11T05:36:39.125253Z",
     "start_time": "2017-11-11T05:36:38.832068Z"
    }
   },
   "outputs": [],
   "source": [
    "import os\n",
    "\n",
    "import sys\n",
    "sys.path.insert(0, '..')\n",
    "\n",
    "from sequencing_process.process_fastq_gz import align_fastq_gzs_using_hisat2\n",
    "from sequencing_process.process_bam import call_variants_on_bam_using_freebayes_and_multiprocess\n",
    "from sequencing_process.process_vcf_gz import annotate_vcf_gz_using_snpeff, annotate_vcf_gz_using_bcftools, filter_vcf_gz_using_bcftools\n",
    "\n",
    "%load_ext autoreload\n",
    "%autoreload 2\n",
    "%matplotlib inline"
   ]
  },
  {
   "cell_type": "code",
   "execution_count": 2,
   "metadata": {
    "ExecuteTime": {
     "end_time": "2017-11-11T05:36:39.142228Z",
     "start_time": "2017-11-11T05:36:39.126960Z"
    }
   },
   "outputs": [],
   "source": [
    "GRCH_DIRECTORY_PATH = '/media/k/Chocolate/Jumis/data/grch'\n",
    "assert os.path.isdir(GRCH_DIRECTORY_PATH)\n",
    "\n",
    "FASTA_FILE_PATH = os.path.join(GRCH_DIRECTORY_PATH,\n",
    "                               'Homo_sapiens.GRCh38.dna.primary_assembly.fa')\n",
    "assert os.path.isfile(FASTA_FILE_PATH)\n",
    "\n",
    "CLINVAR_VCF_GZ_FILE_PATH = os.path.join(GRCH_DIRECTORY_PATH, 'clinvar.vcf.gz')\n",
    "assert os.path.isfile(CLINVAR_VCF_GZ_FILE_PATH)"
   ]
  },
  {
   "cell_type": "code",
   "execution_count": 10,
   "metadata": {
    "ExecuteTime": {
     "end_time": "2017-11-11T05:43:56.855293Z",
     "start_time": "2017-11-11T05:43:56.843997Z"
    }
   },
   "outputs": [],
   "source": [
    "FASTQ_GZ_0_FILE_PATH = None\n",
    "FASTQ_GZ_1_FILE_PATH = None\n",
    "\n",
    "N_JOBS = 6"
   ]
  },
  {
   "cell_type": "code",
   "execution_count": 15,
   "metadata": {
    "ExecuteTime": {
     "end_time": "2017-11-11T06:00:02.351339Z",
     "start_time": "2017-11-11T06:00:02.341662Z"
    }
   },
   "outputs": [],
   "source": [
    "BAM_FILE_PATH = None\n",
    "\n",
    "if not BAM_FILE_PATH:\n",
    "\n",
    "    BAM_FILE_PATH = align_fastq_gz_with_hisat2(\n",
    "        FASTA_FILE_PATH, [\n",
    "            FASTQ_GZ_0_FILE_PATH,\n",
    "            FASTQ_GZ_1_FILE_PATH,\n",
    "        ],\n",
    "        'DNA',\n",
    "        n_jobs=N_JOBS)\n",
    "    "
   ]
  },
  {
   "cell_type": "code",
   "execution_count": 6,
   "metadata": {
    "ExecuteTime": {
     "end_time": "2017-11-11T05:36:39.195324Z",
     "start_time": "2017-11-11T05:36:39.179745Z"
    },
    "scrolled": false
   },
   "outputs": [],
   "source": [
    "VCF_GZ_FILE_PATH = '/media/k/Silver/people/738/genome.filter_vcf_gz_using_bcftools.annotate_vcf_gz_using_snpeff.vcf.gz'\n",
    "\n",
    "if not VCF_GZ_FILE_PATH:\n",
    "\n",
    "    VCF_GZ_FILE_PATH = call_variants_on_bam_using_freebayes_and_multiprocess(\n",
    "        BAM_FILE_PATH, FASTA_FILE_PATH, n_jobs=N_JOBS)\n",
    "\n",
    "    n = os.path.join(os.path.dirname(VCF_GZ_FILE_PATH), 'genome.vcf.gz')\n",
    "    os.rename(VCF_GZ_FILE_PATH, n)\n",
    "    os.rename(VCF_GZ_FILE_PATH + '.tbi', n + '.tbi')\n",
    "    VCF_GZ_FILE_PATH = n\n",
    "\n",
    "    VCF_GZ_FILE_PATH = annotate_vcf_gz_using_snpeff(\n",
    "        VCF_GZ_FILE_PATH, n_jobs=N_JOBS)\n",
    "    \n",
    "    VCF_GZ_FILE_PATH = annotate_vcf_gz_using_bcftools(\n",
    "        VCF_GZ_FILE_PATH,\n",
    "        CLINVAR_VCF_GZ_FILE_PATH,\n",
    "        '--columns =ID,INFO',\n",
    "        n_jobs=N_JOBS)\n",
    "    \n",
    "    VCF_GZ_FILE_PATH = filter_vcf_gz_using_bcftools(\n",
    "        VCF_GZ_FILE_PATH, n_jobs=N_JOBS)"
   ]
  }
 ],
 "metadata": {
  "kernelspec": {
   "display_name": "Python [default]",
   "language": "python",
   "name": "python3"
  },
  "language_info": {
   "codemirror_mode": {
    "name": "ipython",
    "version": 3
   },
   "file_extension": ".py",
   "mimetype": "text/x-python",
   "name": "python",
   "nbconvert_exporter": "python",
   "pygments_lexer": "ipython3",
   "version": "3.6.2"
  }
 },
 "nbformat": 4,
 "nbformat_minor": 2
}
