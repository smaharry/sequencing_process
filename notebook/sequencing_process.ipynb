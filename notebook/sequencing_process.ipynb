{
 "cells": [
  {
   "cell_type": "code",
   "execution_count": 1,
   "metadata": {
    "ExecuteTime": {
     "end_time": "2018-05-01T17:10:54.720343Z",
     "start_time": "2018-05-01T17:10:54.679720Z"
    }
   },
   "outputs": [],
   "source": [
    "%load_ext autoreload\n",
    "%autoreload 2"
   ]
  },
  {
   "cell_type": "code",
   "execution_count": 2,
   "metadata": {
    "ExecuteTime": {
     "end_time": "2018-05-01T17:10:54.752191Z",
     "start_time": "2018-05-01T17:10:54.725076Z"
    }
   },
   "outputs": [],
   "source": [
    "import sys\n",
    "\n",
    "sys.path.insert(0, '..')"
   ]
  },
  {
   "cell_type": "code",
   "execution_count": 3,
   "metadata": {
    "ExecuteTime": {
     "end_time": "2018-05-01T17:10:54.782937Z",
     "start_time": "2018-05-01T17:10:54.755520Z"
    }
   },
   "outputs": [],
   "source": [
    "from sequencing_process.support.support.path import clean_path\n",
    "\n",
    "directory_path = clean_path('~/Downloads')"
   ]
  },
  {
   "cell_type": "code",
   "execution_count": 4,
   "metadata": {
    "ExecuteTime": {
     "end_time": "2018-05-01T17:11:03.234349Z",
     "start_time": "2018-05-01T17:10:54.786853Z"
    }
   },
   "outputs": [
    {
     "name": "stdout",
     "output_type": "stream",
     "text": [
      "Downloading ftp://ftp.ncbi.nlm.nih.gov/pub/clinvar/vcf_GRCh38/clinvar.vcf.gz =(into)=> /Users/k/Downloads/clinvar.vcf.gz ...\n",
      "Downloading ftp://ftp.ncbi.nlm.nih.gov/pub/clinvar/vcf_GRCh38/clinvar.vcf.gz.tbi =(into)=> /Users/k/Downloads/clinvar.vcf.gz.tbi ...\n"
     ]
    },
    {
     "data": {
      "text/plain": [
       "'/Users/k/Downloads/clinvar.vcf.gz'"
      ]
     },
     "execution_count": 4,
     "metadata": {},
     "output_type": "execute_result"
    }
   ],
   "source": [
    "from sequencing_process.download_clinvar_vcf_gz import download_clinvar_vcf_gz\n",
    "\n",
    "vcf_gz_file_path = download_clinvar_vcf_gz(directory_path, overwrite=True)\n",
    "\n",
    "vcf_gz_file_path"
   ]
  },
  {
   "cell_type": "code",
   "execution_count": 5,
   "metadata": {
    "ExecuteTime": {
     "end_time": "2018-05-01T17:11:04.874571Z",
     "start_time": "2018-05-01T17:11:03.248986Z"
    }
   },
   "outputs": [
    {
     "data": {
      "text/plain": [
       "'/Users/k/Downloads/clinvar.vcf'"
      ]
     },
     "execution_count": 5,
     "metadata": {},
     "output_type": "execute_result"
    }
   ],
   "source": [
    "from sequencing_process.support.support.compression import gzip_decompress_file\n",
    "\n",
    "vcf_file_path = gzip_decompress_file(vcf_gz_file_path)\n",
    "\n",
    "vcf_file_path"
   ]
  },
  {
   "cell_type": "code",
   "execution_count": 6,
   "metadata": {
    "ExecuteTime": {
     "end_time": "2018-05-01T17:11:12.438792Z",
     "start_time": "2018-05-01T17:11:04.893725Z"
    }
   },
   "outputs": [
    {
     "name": "stdout",
     "output_type": "stream",
     "text": [
      "\n",
      "bgzip --threads 1 --force /Users/k/Downloads/clinvar.vcf && tabix --force /Users/k/Downloads/clinvar.vcf.gz\n"
     ]
    },
    {
     "data": {
      "text/plain": [
       "'/Users/k/Downloads/clinvar.vcf.gz'"
      ]
     },
     "execution_count": 6,
     "metadata": {},
     "output_type": "execute_result"
    }
   ],
   "source": [
    "from sequencing_process.bgzip_and_tabix import bgzip_and_tabix\n",
    "\n",
    "vcf_gz_file_path = bgzip_and_tabix(vcf_file_path, overwrite=True)\n",
    "\n",
    "vcf_gz_file_path"
   ]
  },
  {
   "cell_type": "code",
   "execution_count": null,
   "metadata": {
    "ExecuteTime": {
     "start_time": "2018-05-01T17:11:47.155Z"
    }
   },
   "outputs": [
    {
     "name": "stdout",
     "output_type": "stream",
     "text": [
      "Downloading ftp://ftp.ncbi.nlm.nih.gov/genomes/all/GCA/000/001/405/GCA_000001405.15_GRCh38/seqs_for_alignment_pipelines.ucsc_ids/GCA_000001405.15_GRCh38_full_analysis_set.fna.gz =(into)=> /Users/k/Downloads/GCA_000001405.15_GRCh38_full_analysis_set.fna.gz ...\n",
      "\n",
      "gzip -dc /Users/k/Downloads/GCA_000001405.15_GRCh38_full_analysis_set.fna.gz > /Users/k/Downloads/GCA_000001405.15_GRCh38_full_plus_hs38DH-extra_analysis_set.fa && cat ../resource/bwa.kit/resource-GRCh38/hs38DH-extra.fa >> /Users/k/Downloads/GCA_000001405.15_GRCh38_full_plus_hs38DH-extra_analysis_set.fa && gzip /Users/k/Downloads/GCA_000001405.15_GRCh38_full_plus_hs38DH-extra_analysis_set.fa\n"
     ]
    }
   ],
   "source": [
    "from sequencing_process.make_reference_genome import make_reference_genome\n",
    "\n",
    "make_reference_genome(directory_path)"
   ]
  },
  {
   "cell_type": "code",
   "execution_count": null,
   "metadata": {},
   "outputs": [],
   "source": [
    "from seq"
   ]
  }
 ],
 "metadata": {
  "kernelspec": {
   "display_name": "Python 3",
   "language": "python",
   "name": "python3"
  },
  "language_info": {
   "codemirror_mode": {
    "name": "ipython",
    "version": 3
   },
   "file_extension": ".py",
   "mimetype": "text/x-python",
   "name": "python",
   "nbconvert_exporter": "python",
   "pygments_lexer": "ipython3",
   "version": "3.6.5"
  }
 },
 "nbformat": 4,
 "nbformat_minor": 2
}
