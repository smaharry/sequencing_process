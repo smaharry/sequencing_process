{
 "cells": [
  {
   "cell_type": "code",
   "execution_count": null,
   "metadata": {
    "ExecuteTime": {
     "end_time": "2018-02-10T10:30:46.218443Z",
     "start_time": "2018-02-10T10:30:46.184264Z"
    }
   },
   "outputs": [],
   "source": [
    "%load_ext autoreload\n",
    "%autoreload 2"
   ]
  },
  {
   "cell_type": "code",
   "execution_count": null,
   "metadata": {
    "ExecuteTime": {
     "end_time": "2018-02-10T10:30:46.264503Z",
     "start_time": "2018-02-10T10:30:46.223568Z"
    }
   },
   "outputs": [],
   "source": [
    "import os\n",
    "import sys\n",
    "\n",
    "sys.path.insert(0, '..')\n",
    "from sequencing_process.simulate import simulate_sequences_using_dwgsim\n",
    "from sequencing_process.support.support.path import clean_path"
   ]
  },
  {
   "cell_type": "code",
   "execution_count": null,
   "metadata": {
    "ExecuteTime": {
     "end_time": "2018-02-10T10:30:46.297558Z",
     "start_time": "2018-02-10T10:30:46.270140Z"
    }
   },
   "outputs": [],
   "source": [
    "fasta_file_path = clean_path(\n",
    "    '~/Downloads/GCA_000001405.15_GRCh38_full_plus_hs38DH-extra_analysis_set.fa'\n",
    ")\n",
    "assert os.path.isfile(fasta_file_path)"
   ]
  },
  {
   "cell_type": "code",
   "execution_count": null,
   "metadata": {
    "ExecuteTime": {
     "end_time": "2018-02-10T10:59:26.032002Z",
     "start_time": "2018-02-10T10:30:46.300854Z"
    }
   },
   "outputs": [],
   "source": [
    "simulate_sequences_using_dwgsim(\n",
    "    fasta_file_path, clean_path('~/Downloads/simulation/10k'), n_sequence=10000)"
   ]
  }
 ],
 "metadata": {
  "kernelspec": {
   "display_name": "Python [default]",
   "language": "python",
   "name": "python3"
  },
  "language_info": {
   "codemirror_mode": {
    "name": "ipython",
    "version": 3
   },
   "file_extension": ".py",
   "mimetype": "text/x-python",
   "name": "python",
   "nbconvert_exporter": "python",
   "pygments_lexer": "ipython3",
   "version": "3.6.3"
  }
 },
 "nbformat": 4,
 "nbformat_minor": 2
}
