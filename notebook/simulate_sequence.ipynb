{
 "cells": [
  {
   "cell_type": "code",
   "execution_count": 1,
   "metadata": {},
   "outputs": [],
   "source": [
    "import os\n",
    "import sys\n",
    "\n",
    "sys.path.insert(0, '..')\n",
    "from sequencing_process.simulate_sequences_using_dwgsim import simulate_sequences_using_dwgsim\n",
    "from sequencing_process.plot_fastq_gz_or_bam import plot_fastq_gz_or_bam\n",
    "\n",
    "%load_ext autoreload\n",
    "%autoreload 2\n",
    "%matplotlib inline"
   ]
  },
  {
   "cell_type": "code",
   "execution_count": 2,
   "metadata": {},
   "outputs": [],
   "source": [
    "GRCH_DIRECTORY_PATH = '/Volumes/Jumis/data/grch'\n",
    "assert os.path.isdir(GRCH_DIRECTORY_PATH)\n",
    "\n",
    "# make_reference_genome_for_sequencing_process(GRCH_DIRECTORY_PATH)\n",
    "\n",
    "FASTA_FILE_PATH = os.path.join(\n",
    "    GRCH_DIRECTORY_PATH,\n",
    "    'GCA_000001405.15_GRCh38_full_plus_hs38DH-extra_analysis_set.fa')\n",
    "assert os.path.isfile(FASTA_FILE_PATH)"
   ]
  },
  {
   "cell_type": "code",
   "execution_count": 3,
   "metadata": {},
   "outputs": [
    {
     "name": "stdout",
     "output_type": "stream",
     "text": [
      "dwgsim -N 5000 -1 150 -2 150 -r 0.001 -R 0.1 /Volumes/Jumis/data/grch/GCA_000001405.15_GRCh38_full_plus_hs38DH-extra_analysis_set.fa /Users/k/Jumis/github_kwatme/sequencing_process/notebook/x\n",
      "gzip /Users/k/Jumis/github_kwatme/sequencing_process/notebook/x.bwa.read1.fastq\n",
      "gzip /Users/k/Jumis/github_kwatme/sequencing_process/notebook/x.bwa.read2.fastq\n",
      "rm -rf /Users/k/Jumis/github_kwatme/sequencing_process/notebook/x.bfast.fastq\n",
      "bgzip --threads 1  /Users/k/Jumis/github_kwatme/sequencing_process/notebook/x.mutations.vcf; tabix  /Users/k/Jumis/github_kwatme/sequencing_process/notebook/x.mutations.vcf.gz\n"
     ]
    }
   ],
   "source": [
    "simulate_sequences_using_dwgsim(\n",
    "    FASTA_FILE_PATH, '5k/simulation', n_sequences=5000)"
   ]
  }
 ],
 "metadata": {
  "kernelspec": {
   "display_name": "Python [conda root]",
   "language": "python",
   "name": "conda-root-py"
  },
  "language_info": {
   "codemirror_mode": {
    "name": "ipython",
    "version": 3
   },
   "file_extension": ".py",
   "mimetype": "text/x-python",
   "name": "python",
   "nbconvert_exporter": "python",
   "pygments_lexer": "ipython3",
   "version": "3.6.3"
  }
 },
 "nbformat": 4,
 "nbformat_minor": 2
}
