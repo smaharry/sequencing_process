{
 "cells": [
  {
   "cell_type": "code",
   "execution_count": 1,
   "metadata": {
    "ExecuteTime": {
     "end_time": "2017-11-29T02:11:29.725851Z",
     "start_time": "2017-11-29T02:11:29.297882Z"
    }
   },
   "outputs": [],
   "source": [
    "import os\n",
    "import sys\n",
    "\n",
    "sys.path.insert(0, '..')\n",
    "from sequencing_process.support.support.path import clean_path\n",
    "from sequencing_process.simulate import simulate_sequences_using_dwgsim\n",
    "\n",
    "%load_ext autoreload\n",
    "%autoreload 2\n",
    "%matplotlib inline"
   ]
  },
  {
   "cell_type": "code",
   "execution_count": 2,
   "metadata": {
    "ExecuteTime": {
     "end_time": "2017-11-29T02:11:29.756789Z",
     "start_time": "2017-11-29T02:11:29.729137Z"
    }
   },
   "outputs": [],
   "source": [
    "GRCH_DIRECTORY_PATH = clean_path('/Volumes/Jumis/data/grch')\n",
    "assert os.path.isdir(GRCH_DIRECTORY_PATH)\n",
    "\n",
    "FASTA_FILE_PATH = os.path.join(\n",
    "    GRCH_DIRECTORY_PATH,\n",
    "    'GCA_000001405.15_GRCh38_full_plus_hs38DH-extra_analysis_set.fa')\n",
    "assert os.path.isfile(FASTA_FILE_PATH)"
   ]
  },
  {
   "cell_type": "code",
   "execution_count": 3,
   "metadata": {
    "ExecuteTime": {
     "end_time": "2017-11-29T02:23:55.277555Z",
     "start_time": "2017-11-29T02:11:29.760708Z"
    }
   },
   "outputs": [
    {
     "name": "stdout",
     "output_type": "stream",
     "text": [
      "Created directory /Users/k/Jumis/github_kwatme/sequencing_process/notebook/1k.\n",
      "dwgsim -N 1000 -1 150 -2 150 -r 0.001 -R 0.1 /Volumes/Jumis/data/grch/GCA_000001405.15_GRCh38_full_plus_hs38DH-extra_analysis_set.fa 1k/simulation\n",
      "gzip 1k/simulation.bwa.read1.fastq\n",
      "gzip 1k/simulation.bwa.read2.fastq\n",
      "rm -rf 1k/simulation.bfast.fastq\n",
      "bgzip --threads 1  1k/simulation.mutations.vcf && tabix  1k/simulation.mutations.vcf.gz\n"
     ]
    }
   ],
   "source": [
    "simulate_sequences_using_dwgsim(\n",
    "    FASTA_FILE_PATH, '../simulation/1k/simulation', n_sequences=1000)"
   ]
  }
 ],
 "metadata": {
  "kernelspec": {
   "display_name": "Python [conda root]",
   "language": "python",
   "name": "conda-root-py"
  },
  "language_info": {
   "codemirror_mode": {
    "name": "ipython",
    "version": 3
   },
   "file_extension": ".py",
   "mimetype": "text/x-python",
   "name": "python",
   "nbconvert_exporter": "python",
   "pygments_lexer": "ipython3",
   "version": "3.6.2"
  }
 },
 "nbformat": 4,
 "nbformat_minor": 2
}
