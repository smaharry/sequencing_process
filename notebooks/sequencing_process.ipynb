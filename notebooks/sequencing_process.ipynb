{
 "cells": [
  {
   "cell_type": "code",
   "execution_count": 1,
   "metadata": {
    "ExecuteTime": {
     "end_time": "2017-10-08T00:33:39.964534Z",
     "start_time": "2017-10-08T00:33:39.866470Z"
    }
   },
   "outputs": [],
   "source": [
    "import os\n",
    "\n",
    "import sys\n",
    "sys.path.insert(0, '..')\n",
    "\n",
    "from sequencing_process.process_fastq import align_fastq_gz_with_hisat2\n",
    "from sequencing_process.process_sam import call_variants_on_bam_with_multiprocess\n",
    "\n",
    "%load_ext autoreload\n",
    "%autoreload 2"
   ]
  },
  {
   "cell_type": "code",
   "execution_count": 2,
   "metadata": {
    "ExecuteTime": {
     "end_time": "2017-10-08T00:33:40.572744Z",
     "start_time": "2017-10-08T00:33:40.558807Z"
    }
   },
   "outputs": [],
   "source": [
    "FASTA_FILE_PATH = '/home/kwadle/Jumis/data/grch/38/fasta/Homo_sapiens.GRCh38.dna.primary_assembly.fa'\n",
    "HISAT2_INDEX_FILE_PATH_PREFIX = '/home/kwadle/Jumis/data/grch/38/fasta/Homo_sapiens.GRCh38.dna.primary_assembly.fa.hisat2_index/Homo_sapiens.GRCh38.dna.primary_assembly'"
   ]
  },
  {
   "cell_type": "code",
   "execution_count": 3,
   "metadata": {
    "ExecuteTime": {
     "end_time": "2017-10-08T00:33:41.464599Z",
     "start_time": "2017-10-08T00:33:41.449559Z"
    }
   },
   "outputs": [],
   "source": [
    "FASTQ_GZ_0_FILE_PATH = None\n",
    "FASTQ_GZ_1_FILE_PATH = None\n",
    "\n",
    "BAM_FILE_PATH = '/home/kwadle/Jumis/people/738/genome.hisat2.sort.bam'\n",
    "\n",
    "VCF_FILE_PATH = None"
   ]
  },
  {
   "cell_type": "code",
   "execution_count": 4,
   "metadata": {
    "ExecuteTime": {
     "end_time": "2017-10-08T00:33:41.804566Z",
     "start_time": "2017-10-08T00:33:41.790994Z"
    }
   },
   "outputs": [],
   "source": [
    "N_JOBS = 6"
   ]
  },
  {
   "cell_type": "code",
   "execution_count": 5,
   "metadata": {
    "ExecuteTime": {
     "end_time": "2017-10-08T00:33:42.239596Z",
     "start_time": "2017-10-08T00:33:42.225040Z"
    }
   },
   "outputs": [],
   "source": [
    "if not BAM_FILE_PATH:\n",
    "    BAM_FILE_PATH = align_fastq_gz_with_hisat2(\n",
    "        HISAT2_INDEX_FILE_PATH_PREFIX,\n",
    "        'DNA',\n",
    "        paired_forward_fastq_gz_file_path=FASTQ_GZ_0_FILE_PATH,\n",
    "        paired_reverse_fastq_gz_file_path=FASTQ_GZ_1_FILE_PATH,\n",
    "        n_jobs=N_JOBS)"
   ]
  },
  {
   "cell_type": "code",
   "execution_count": null,
   "metadata": {
    "ExecuteTime": {
     "start_time": "2017-10-08T00:34:00.038Z"
    },
    "scrolled": false
   },
   "outputs": [
    {
     "name": "stdout",
     "output_type": "stream",
     "text": [
      "================================================================================\n",
      "================================================================================\n",
      "================================================================================\n",
      "================================================================================\n",
      "================================================================================\n",
      "freebayes -f /home/kwadle/Jumis/data/grch/38/fasta/Homo_sapiens.GRCh38.dna.primary_assembly.fa -r 7 /home/kwadle/Jumis/people/738/genome.hisat2.sort.bam | bgzip -fc -@ 1 > /home/kwadle/Jumis/people/738/genome.hisat2.sort.bam.freebayes.-r_7.vcf.gz; tabix -f /home/kwadle/Jumis/people/738/genome.hisat2.sort.bam.freebayes.-r_7.vcf.gz\n",
      "freebayes -f /home/kwadle/Jumis/data/grch/38/fasta/Homo_sapiens.GRCh38.dna.primary_assembly.fa -r 5 /home/kwadle/Jumis/people/738/genome.hisat2.sort.bam | bgzip -fc -@ 1 > /home/kwadle/Jumis/people/738/genome.hisat2.sort.bam.freebayes.-r_5.vcf.gz; tabix -f /home/kwadle/Jumis/people/738/genome.hisat2.sort.bam.freebayes.-r_5.vcf.gz\n",
      "freebayes -f /home/kwadle/Jumis/data/grch/38/fasta/Homo_sapiens.GRCh38.dna.primary_assembly.fa -r 9 /home/kwadle/Jumis/people/738/genome.hisat2.sort.bam | bgzip -fc -@ 1 > /home/kwadle/Jumis/people/738/genome.hisat2.sort.bam.freebayes.-r_9.vcf.gz; tabix -f /home/kwadle/Jumis/people/738/genome.hisat2.sort.bam.freebayes.-r_9.vcf.gz\n",
      "================================================================================\n",
      "freebayes -f /home/kwadle/Jumis/data/grch/38/fasta/Homo_sapiens.GRCh38.dna.primary_assembly.fa -r 1 /home/kwadle/Jumis/people/738/genome.hisat2.sort.bam | bgzip -fc -@ 1 > /home/kwadle/Jumis/people/738/genome.hisat2.sort.bam.freebayes.-r_1.vcf.gz; tabix -f /home/kwadle/Jumis/people/738/genome.hisat2.sort.bam.freebayes.-r_1.vcf.gz\n",
      "freebayes -f /home/kwadle/Jumis/data/grch/38/fasta/Homo_sapiens.GRCh38.dna.primary_assembly.fa -r 3 /home/kwadle/Jumis/people/738/genome.hisat2.sort.bam | bgzip -fc -@ 1 > /home/kwadle/Jumis/people/738/genome.hisat2.sort.bam.freebayes.-r_3.vcf.gz; tabix -f /home/kwadle/Jumis/people/738/genome.hisat2.sort.bam.freebayes.-r_3.vcf.gz\n",
      "================================================================================\n",
      "================================================================================\n",
      "================================================================================\n",
      "================================================================================\n",
      "================================================================================\n",
      "freebayes -f /home/kwadle/Jumis/data/grch/38/fasta/Homo_sapiens.GRCh38.dna.primary_assembly.fa -r 11 /home/kwadle/Jumis/people/738/genome.hisat2.sort.bam | bgzip -fc -@ 1 > /home/kwadle/Jumis/people/738/genome.hisat2.sort.bam.freebayes.-r_11.vcf.gz; tabix -f /home/kwadle/Jumis/people/738/genome.hisat2.sort.bam.freebayes.-r_11.vcf.gz\n",
      "================================================================================\n"
     ]
    }
   ],
   "source": [
    "if not VCF_FILE_PATH:\n",
    "    VCF_FILE_PATH = call_variants_on_bam_with_multiprocess(\n",
    "        BAM_FILE_PATH, FASTA_FILE_PATH, n_jobs=N_JOBS)"
   ]
  }
 ],
 "metadata": {
  "kernelspec": {
   "display_name": "Python 3",
   "language": "python",
   "name": "python3"
  },
  "language_info": {
   "codemirror_mode": {
    "name": "ipython",
    "version": 3
   },
   "file_extension": ".py",
   "mimetype": "text/x-python",
   "name": "python",
   "nbconvert_exporter": "python",
   "pygments_lexer": "ipython3",
   "version": "3.6.2"
  }
 },
 "nbformat": 4,
 "nbformat_minor": 2
}
