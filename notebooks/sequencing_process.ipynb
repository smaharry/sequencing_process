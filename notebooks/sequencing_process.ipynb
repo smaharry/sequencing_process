{
 "cells": [
  {
   "cell_type": "code",
   "execution_count": 1,
   "metadata": {
    "ExecuteTime": {
     "end_time": "2017-10-03T22:08:46.905172Z",
     "start_time": "2017-10-03T22:08:46.897190Z"
    },
    "collapsed": true
   },
   "outputs": [],
   "source": [
    "import subprocess as sp\n",
    "\n",
    "import sys\n",
    "sys.path.insert(0, '..')\n",
    "from sequencing_process.support.support.subprocess_ import run_command"
   ]
  },
  {
   "cell_type": "code",
   "execution_count": 10,
   "metadata": {
    "ExecuteTime": {
     "end_time": "2017-10-03T22:09:05.222126Z",
     "start_time": "2017-10-03T22:09:05.210421Z"
    }
   },
   "outputs": [],
   "source": [
    "p = sp.Popen('echoasdfadsf', shell=True, stdout=sp.PIPE, universal_newlines=True)"
   ]
  },
  {
   "cell_type": "code",
   "execution_count": 12,
   "metadata": {
    "ExecuteTime": {
     "end_time": "2017-10-03T22:09:10.373409Z",
     "start_time": "2017-10-03T22:09:10.368077Z"
    }
   },
   "outputs": [
    {
     "data": {
      "text/plain": [
       "127"
      ]
     },
     "execution_count": 12,
     "metadata": {},
     "output_type": "execute_result"
    }
   ],
   "source": [
    "p.returncode"
   ]
  },
  {
   "cell_type": "code",
   "execution_count": 4,
   "metadata": {
    "ExecuteTime": {
     "end_time": "2017-10-03T22:08:51.360716Z",
     "start_time": "2017-10-03T22:08:51.356183Z"
    }
   },
   "outputs": [],
   "source": [
    "for x in p.stdout:\n",
    "    print(x)"
   ]
  },
  {
   "cell_type": "code",
   "execution_count": 5,
   "metadata": {
    "ExecuteTime": {
     "end_time": "2017-10-03T22:08:52.426035Z",
     "start_time": "2017-10-03T22:08:52.412668Z"
    },
    "collapsed": true
   },
   "outputs": [],
   "source": [
    "p.returncode"
   ]
  },
  {
   "cell_type": "code",
   "execution_count": 6,
   "metadata": {
    "ExecuteTime": {
     "end_time": "2017-10-03T22:08:53.497905Z",
     "start_time": "2017-10-03T22:08:53.489979Z"
    },
    "collapsed": true
   },
   "outputs": [],
   "source": [
    "p.kill()"
   ]
  },
  {
   "cell_type": "code",
   "execution_count": 11,
   "metadata": {
    "ExecuteTime": {
     "end_time": "2017-10-03T22:09:06.364237Z",
     "start_time": "2017-10-03T22:09:06.357818Z"
    }
   },
   "outputs": [
    {
     "data": {
      "text/plain": [
       "('', None)"
      ]
     },
     "execution_count": 11,
     "metadata": {},
     "output_type": "execute_result"
    }
   ],
   "source": [
    "p.communicate()"
   ]
  },
  {
   "cell_type": "code",
   "execution_count": null,
   "metadata": {
    "collapsed": true
   },
   "outputs": [],
   "source": []
  }
 ],
 "metadata": {
  "kernelspec": {
   "display_name": "Python 3",
   "language": "python",
   "name": "python3"
  },
  "language_info": {
   "codemirror_mode": {
    "name": "ipython",
    "version": 3
   },
   "file_extension": ".py",
   "mimetype": "text/x-python",
   "name": "python",
   "nbconvert_exporter": "python",
   "pygments_lexer": "ipython3",
   "version": "3.6.2"
  }
 },
 "nbformat": 4,
 "nbformat_minor": 2
}
