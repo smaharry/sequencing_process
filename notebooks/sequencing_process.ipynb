{
 "cells": [
  {
   "cell_type": "code",
   "execution_count": null,
   "metadata": {
    "ExecuteTime": {
     "end_time": "2017-10-07T22:37:14.722926Z",
     "start_time": "2017-10-07T22:37:14.706010Z"
    }
   },
   "outputs": [],
   "source": [
    "import os\n",
    "\n",
    "import sys\n",
    "sys.path.insert(0, '..')\n",
    "\n",
    "from sequencing_process.process_fastq import align_fastq_gz_with_hisat2\n",
    "from sequencing_process.process_sam import call_variants_on_bam\n",
    "\n",
    "%load_ext autoreload\n",
    "%autoreload 2"
   ]
  },
  {
   "cell_type": "code",
   "execution_count": null,
   "metadata": {
    "ExecuteTime": {
     "end_time": "2017-10-07T22:37:17.178095Z",
     "start_time": "2017-10-07T22:37:17.160073Z"
    }
   },
   "outputs": [],
   "source": [
    "FASTA_FILE_PATH = '/home/kwadle/Jumis/test/Homo_sapiens.GRCh38.dna.chromosome.21.fa'\n",
    "\n",
    "HISAT2_INDEX_FILE_PATH_PREFIX = '/home/kwadle/Jumis/test/hisat_index/a'\n",
    "\n",
    "PERSON_DIRECTORY_PATH = '/home/kwadle/Jumis/people/738'\n",
    "\n",
    "FASTA_DIRECTORY_PATH = os.path.join(PERSON_DIRECTORY_PATH, 'fasta')\n",
    "BAM_DIRECTORY_PATH = os.path.join(PERSON_DIRECTORY_PATH, 'bam')\n",
    "VCF_DIRECTORY_PATH = os.path.join(PERSON_DIRECTORY_PATH, 'vcf')\n",
    "\n",
    "FASTQ_GZ_0_FILE_PATH = '/home/kwadle/Jumis/test/dna_chr21_100_hq_read1.fastq.gz'\n",
    "FASTQ_GZ_1_FILE_PATH = '/home/kwadle/Jumis/test/dna_chr21_100_hq_read2.fastq.gz'\n",
    "\n",
    "N_JOBS = 6"
   ]
  },
  {
   "cell_type": "code",
   "execution_count": null,
   "metadata": {
    "ExecuteTime": {
     "start_time": "2017-10-07T22:37:18.739Z"
    }
   },
   "outputs": [],
   "source": [
    "bam_file_path = align_fastq_gz_with_hisat2(\n",
    "    HISAT2_INDEX_FILE_PATH_PREFIX,\n",
    "    'DNA',\n",
    "    paired_forward_fastq_gz_file_path=FASTQ_GZ_0_FILE_PATH,\n",
    "    paired_reverse_fastq_gz_file_path=FASTQ_GZ_1_FILE_PATH,\n",
    "    n_jobs=N_JOBS)"
   ]
  },
  {
   "cell_type": "code",
   "execution_count": null,
   "metadata": {
    "ExecuteTime": {
     "start_time": "2017-10-07T22:37:19.524Z"
    }
   },
   "outputs": [],
   "source": [
    "call_variants_on_bam(bam_file_path, FASTA_FILE_PATH, n_jobs=N_JOBS)"
   ]
  }
 ],
 "metadata": {
  "kernelspec": {
   "display_name": "Python 3",
   "language": "python",
   "name": "python3"
  },
  "language_info": {
   "codemirror_mode": {
    "name": "ipython",
    "version": 3
   },
   "file_extension": ".py",
   "mimetype": "text/x-python",
   "name": "python",
   "nbconvert_exporter": "python",
   "pygments_lexer": "ipython3",
   "version": "3.6.2"
  }
 },
 "nbformat": 4,
 "nbformat_minor": 2
}
