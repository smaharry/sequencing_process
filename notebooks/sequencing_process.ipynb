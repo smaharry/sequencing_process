{
 "cells": [
  {
   "cell_type": "code",
   "execution_count": 1,
   "metadata": {
    "ExecuteTime": {
     "end_time": "2017-10-03T23:58:47.935936Z",
     "start_time": "2017-10-03T23:58:47.930270Z"
    }
   },
   "outputs": [],
   "source": [
    "from subprocess import *\n",
    "\n",
    "import sys\n",
    "sys.path.insert(0, '..')\n",
    "from sequencing_process.support.support.subprocess_ import run_command"
   ]
  },
  {
   "cell_type": "code",
   "execution_count": 2,
   "metadata": {
    "ExecuteTime": {
     "end_time": "2017-10-03T23:58:47.962984Z",
     "start_time": "2017-10-03T23:58:47.937689Z"
    }
   },
   "outputs": [
    {
     "name": "stdout",
     "output_type": "stream",
     "text": [
      "command: ls\n",
      "\tsequencing_process.ipynb\n"
     ]
    },
    {
     "data": {
      "text/plain": [
       "'sequencing_process.ipynb\\n'"
      ]
     },
     "execution_count": 2,
     "metadata": {},
     "output_type": "execute_result"
    }
   ],
   "source": [
    "run_command('ls')"
   ]
  },
  {
   "cell_type": "code",
   "execution_count": null,
   "metadata": {
    "collapsed": true
   },
   "outputs": [],
   "source": []
  }
 ],
 "metadata": {
  "kernelspec": {
   "display_name": "Python 3",
   "language": "python",
   "name": "python3"
  },
  "language_info": {
   "codemirror_mode": {
    "name": "ipython",
    "version": 3
   },
   "file_extension": ".py",
   "mimetype": "text/x-python",
   "name": "python",
   "nbconvert_exporter": "python",
   "pygments_lexer": "ipython3",
   "version": "3.6.2"
  }
 },
 "nbformat": 4,
 "nbformat_minor": 2
}
